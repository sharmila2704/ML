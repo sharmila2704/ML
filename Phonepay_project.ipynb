{
  "cells": [
    {
      "cell_type": "markdown",
      "metadata": {
        "id": "view-in-github",
        "colab_type": "text"
      },
      "source": [
        "<a href=\"https://colab.research.google.com/github/sharmila2704/ML/blob/main/Phonepay_project.ipynb\" target=\"_parent\"><img src=\"https://colab.research.google.com/assets/colab-badge.svg\" alt=\"Open In Colab\"/></a>"
      ]
    },
    {
      "cell_type": "markdown",
      "source": [
        "# **Project name -** PhonePe Pulse Insights\n"
      ],
      "metadata": {
        "id": "FTus-E1G_hN1"
      }
    },
    {
      "cell_type": "markdown",
      "source": [
        "# **Project type -** EDA"
      ],
      "metadata": {
        "id": "DH-Vk2L0Ao_u"
      }
    },
    {
      "cell_type": "markdown",
      "source": [
        "# **Project Summary -**\n",
        "With the rapid adoption of digital payments in India, platforms like PhonePe have become integral to everyday financial transactions. This project focuses on exploring, analyzing, and visualizing digital transaction data made publicly available by PhonePe Pulse, with a specific emphasis on state-wise user activity, transaction patterns, and insurance growth.\n",
        "\n",
        "The project follows a complete data analytics pipeline:\n",
        "\n",
        "Data Extraction: Cloned PhonePe Pulse data (in JSON format) from GitHub.\n",
        "\n",
        "Data Transformation: Converted JSON files into structured CSV format for various metrics such as transactions, users, and insurance.\n",
        "\n",
        "Data Loading: Imported cleaned datasets into a SQLite database to enable efficient querying and analysis.\n",
        "\n",
        "Exploratory Data Analysis (EDA): Conducted detailed analysis using SQL, Pandas, and Plotly to identify:\n",
        "\n",
        "Top-performing states and districts\n",
        "\n",
        "Quarterly trends in transaction and insurance growth\n",
        "\n",
        "Correlation between transaction amount and insurance adoption\n",
        "\n",
        "An interactive dashboard was developed using Streamlit, allowing real-time visualization and drill-down into state-wise insights, growth patterns, and category-wise transaction behavior."
      ],
      "metadata": {
        "id": "fAxEfnh5AzXo"
      }
    },
    {
      "cell_type": "markdown",
      "source": [
        "# **Github link -**"
      ],
      "metadata": {
        "id": "2efqa0heBJRz"
      }
    },
    {
      "cell_type": "markdown",
      "source": [
        "# **Problem Statement -**\n",
        "With the increasing reliance on digital payment systems like PhonePe, understanding the dynamics of transactions, user engagement, and insurance-related data is crucial for improving services and targeting users effectively. This project aims to analyze and visualize aggregated values of payment categories, create maps for total values at state and district levels, and identify top-performing states, districts, and pin codes."
      ],
      "metadata": {
        "id": "P3krN3SBBPaU"
      }
    },
    {
      "cell_type": "code",
      "execution_count": null,
      "metadata": {
        "colab": {
          "base_uri": "https://localhost:8080/"
        },
        "id": "7L6ujkF1_VLE",
        "outputId": "e6e1251d-8867-4917-8f07-f7609ce271d8"
      },
      "outputs": [
        {
          "name": "stdout",
          "output_type": "stream",
          "text": [
            "Mounted at /content/drive\n"
          ]
        }
      ],
      "source": [
        "from google.colab import drive\n",
        "drive.mount('/content/drive')\n"
      ]
    },
    {
      "cell_type": "code",
      "execution_count": null,
      "metadata": {
        "colab": {
          "base_uri": "https://localhost:8080/"
        },
        "id": "3NwvfqGI_r0J",
        "outputId": "3c3edff8-a350-479e-cb11-c2fe3622e0db"
      },
      "outputs": [
        {
          "name": "stdout",
          "output_type": "stream",
          "text": [
            "Persistent project folder structure created in Google Drive.\n"
          ]
        }
      ],
      "source": [
        "import os\n",
        "base_path = \"/content/drive/MyDrive/phonepe_analysis_project\"\n",
        "dirs = [\n",
        "    \"data/phonepe_data\",\n",
        "    \"sql\",\n",
        "    \"notebooks\",\n",
        "    \"dashboard\",\n",
        "    \"reports/charts\"\n",
        "]\n",
        "for d in dirs:\n",
        "    os.makedirs(os.path.join(base_path, d), exist_ok=True)\n",
        "open(os.path.join(base_path, \"requirements.txt\"), \"a\").close()\n",
        "open(os.path.join(base_path, \"README.md\"), \"a\").close()\n",
        "print(\"Persistent project folder structure created in Google Drive.\")\n"
      ]
    },
    {
      "cell_type": "code",
      "execution_count": null,
      "metadata": {
        "colab": {
          "background_save": true
        },
        "id": "_M6fH4HcACbX",
        "outputId": "d3a5e595-f5bd-4371-dacb-6d73f3d7435e"
      },
      "outputs": [
        {
          "name": "stdout",
          "output_type": "stream",
          "text": [
            "Data copied to Google Drive project folder.\n"
          ]
        }
      ],
      "source": [
        "import shutil\n",
        "src_path = \"/content/pulse/data\"\n",
        "dst_path = \"/content/drive/MyDrive/phonepe_analysis_project/data/phonepe_data\"\n",
        "shutil.copytree(src_path, dst_path, dirs_exist_ok=True)\n",
        "print(\"Data copied to Google Drive project folder.\")\n"
      ]
    },
    {
      "cell_type": "code",
      "execution_count": null,
      "metadata": {
        "id": "wnZGzMKbG002"
      },
      "outputs": [],
      "source": [
        "import os\n",
        "import json\n",
        "import sqlite3\n",
        "from tqdm import tqdm"
      ]
    },
    {
      "cell_type": "code",
      "source": [
        "import os\n",
        "\n",
        "target_path = None\n",
        "for root, dirs, files in os.walk('pulse'):\n",
        "    if root.endswith('country/india/state'):\n",
        "        target_path = root\n",
        "        break\n",
        "\n",
        "print(\"Found path:\", target_path)\n"
      ],
      "metadata": {
        "colab": {
          "base_uri": "https://localhost:8080/"
        },
        "id": "sQYFLqN7E6cC",
        "outputId": "aa74a96d-3e10-4105-d8cc-06c1abcdfafe"
      },
      "execution_count": null,
      "outputs": [
        {
          "output_type": "stream",
          "name": "stdout",
          "text": [
            "Found path: None\n"
          ]
        }
      ]
    },
    {
      "cell_type": "code",
      "source": [
        "import os\n",
        "import json\n",
        "import pandas as pd\n",
        "\n",
        "# Base path to cloned repo\n",
        "base_path = 'pulse/data/aggregated/transaction/country/india/state/'\n",
        "\n",
        "# Output directory\n",
        "output_dir = 'extracted_csvs'\n",
        "os.makedirs(output_dir, exist_ok=True)\n",
        "\n",
        "data = []\n",
        "\n",
        "# Loop through states and years\n",
        "for state in os.listdir(base_path):\n",
        "    state_path = os.path.join(base_path, state)\n",
        "    for year in os.listdir(state_path):\n",
        "        year_path = os.path.join(state_path, year)\n",
        "        for quarter_file in os.listdir(year_path):\n",
        "            file_path = os.path.join(year_path, quarter_file)\n",
        "            with open(file_path, 'r') as f:\n",
        "                content = json.load(f)\n",
        "                for item in content['data']['transactionData']:\n",
        "                    data.append({\n",
        "                        'state': state,\n",
        "                        'year': int(year),\n",
        "                        'quarter': int(quarter_file.strip('.json')),\n",
        "                        'transaction_type': item['name'],\n",
        "                        'transaction_count': item['paymentInstruments'][0]['count'],\n",
        "                        'transaction_amount': item['paymentInstruments'][0]['amount']\n",
        "                    })\n",
        "\n",
        "# Convert to DataFrame and save as CSV\n",
        "df = pd.DataFrame(data)\n",
        "df.to_csv(os.path.join(output_dir, 'aggregated_transaction.csv'), index=False)\n"
      ],
      "metadata": {
        "id": "GlzU1XApEohy"
      },
      "execution_count": null,
      "outputs": []
    },
    {
      "cell_type": "code",
      "execution_count": null,
      "metadata": {
        "colab": {
          "base_uri": "https://localhost:8080/"
        },
        "id": "ELycv540XD3V",
        "outputId": "24dbe67d-a95a-47e2-8975-ce7316e787db"
      },
      "outputs": [
        {
          "output_type": "stream",
          "name": "stdout",
          "text": [
            "Cloning into 'pulse'...\n",
            "remote: Enumerating objects: 17904, done.\u001b[K\n",
            "remote: Counting objects: 100% (49/49), done.\u001b[K\n",
            "remote: Compressing objects: 100% (32/32), done.\u001b[K\n",
            "remote: Total 17904 (delta 19), reused 17 (delta 17), pack-reused 17855 (from 2)\u001b[K\n",
            "Receiving objects: 100% (17904/17904), 26.13 MiB | 16.27 MiB/s, done.\n",
            "Resolving deltas: 100% (8723/8723), done.\n",
            "Updating files: 100% (9029/9029), done.\n"
          ]
        }
      ],
      "source": [
        "# clone the Github repo\n",
        "!git clone https://github.com/PhonePe/pulse.git\n"
      ]
    },
    {
      "cell_type": "code",
      "source": [
        "import os\n",
        "import json\n",
        "import pandas as pd\n",
        "\n",
        "user_data = []\n",
        "user_path = 'pulse/data/aggregated/user/country/india/state/'\n",
        "\n",
        "for state in os.listdir(user_path):\n",
        "    state_path = os.path.join(user_path, state)\n",
        "    for year in os.listdir(state_path):\n",
        "        year_path = os.path.join(state_path, year)\n",
        "        for file in os.listdir(year_path):\n",
        "            quarter = int(file.strip('.json'))\n",
        "            file_path = os.path.join(year_path, file)\n",
        "            with open(file_path, 'r') as f:\n",
        "                content = json.load(f)\n",
        "                users = content.get('data', {}).get('usersByDevice', [])\n",
        "                if users:  # Check if users is not None and not empty\n",
        "                    for user in users:\n",
        "                        user_data.append({\n",
        "                            'state': state,\n",
        "                            'year': int(year),\n",
        "                            'quarter': quarter,\n",
        "                            'device_brand': user.get('brand'),\n",
        "                            'user_count': user.get('count'),\n",
        "                            'percentage': user.get('percentage')\n",
        "                        })\n",
        "\n",
        "# Save the CSV\n",
        "os.makedirs(\"extracted_csvs\", exist_ok=True)\n",
        "df_user = pd.DataFrame(user_data)\n",
        "df_user.to_csv(\"extracted_csvs/aggregated_user.csv\", index=False)\n",
        "\n",
        "print(\"✅ extracted_csvs/aggregated_user.csv created.\")"
      ],
      "metadata": {
        "colab": {
          "base_uri": "https://localhost:8080/"
        },
        "id": "shGIXB_nHFxr",
        "outputId": "926727c2-7c1c-409a-daa4-922a09888fb5"
      },
      "execution_count": null,
      "outputs": [
        {
          "output_type": "stream",
          "name": "stdout",
          "text": [
            "✅ extracted_csvs/aggregated_user.csv created.\n"
          ]
        }
      ]
    },
    {
      "cell_type": "code",
      "execution_count": null,
      "metadata": {
        "id": "QmZOa-T-X850"
      },
      "outputs": [],
      "source": [
        "#Extracting json to csv\n",
        "def extract_json_to_csv(base_path, data_type, output_csv):\n",
        "    import os\n",
        "    import json\n",
        "    rows = []\n",
        "\n",
        "    for state in os.listdir(base_path):\n",
        "        state_path = os.path.join(base_path, state)\n",
        "        if not os.path.isdir(state_path):  # ✅ Skip if not a directory\n",
        "            continue\n",
        "\n",
        "        for year in os.listdir(state_path):\n",
        "            year_path = os.path.join(state_path, year)\n",
        "            if not os.path.isdir(year_path):  # ✅ Skip if not a directory\n",
        "                continue\n",
        "\n",
        "            for file in os.listdir(year_path):\n",
        "                if not file.endswith(\".json\"):\n",
        "                    continue\n",
        "\n",
        "                quarter = file.replace(\".json\", \"\")\n",
        "                file_path = os.path.join(year_path, file)\n",
        "\n",
        "                try:\n",
        "                    with open(file_path, 'r') as f:\n",
        "                        data = json.load(f)\n",
        "\n",
        "                    if data_type == 'transaction':\n",
        "                        for item in data['data']['transactionData']:\n",
        "                            rows.append({\n",
        "                                'state': state,\n",
        "                                'year': int(year),\n",
        "                                'quarter': int(quarter[-1]),\n",
        "                                'transaction_type': item['name'],\n",
        "                                'transaction_count': item['paymentInstruments'][0]['count'],\n",
        "                                'transaction_amount': item['paymentInstruments'][0]['amount']\n",
        "                            })\n",
        "\n",
        "                    elif data_type == 'user':\n",
        "                        users = data['data']['aggregated']['registeredUsers']\n",
        "                        opens = data['data']['aggregated']['appOpens']\n",
        "                        rows.append({\n",
        "                            'state': state,\n",
        "                            'year': int(year),\n",
        "                            'quarter': int(quarter[-1]),\n",
        "                            'registered_users': users,\n",
        "                            'app_opens': opens\n",
        "                        })\n",
        "\n",
        "                    elif data_type == 'insurance':\n",
        "                        for item in data['data']['transactionData']:\n",
        "                            rows.append({\n",
        "                                'state': state,\n",
        "                                'year': int(year),\n",
        "                                'quarter': int(quarter[-1]),\n",
        "                                'insurance_type': item['name'],\n",
        "                                'transaction_count': item['paymentInstruments'][0]['count'],\n",
        "                                'transaction_amount': item['paymentInstruments'][0]['amount']\n",
        "                            })\n",
        "\n",
        "                except Exception as e:\n",
        "                    print(f\"❌ Error reading {file_path}: {e}\")\n",
        "                    continue\n",
        "\n",
        "    df = pd.DataFrame(rows)\n",
        "    df.to_csv(output_csv, index=False)\n",
        "    print(f\"✅ Data saved to {output_csv}\")\n"
      ]
    },
    {
      "cell_type": "code",
      "source": [
        "import os\n",
        "import json\n",
        "import pandas as pd\n",
        "\n",
        "map_txn_data = []\n",
        "map_txn_path = 'pulse/data/map/transaction/hover/country/india/state/'\n",
        "\n",
        "for state in os.listdir(map_txn_path):\n",
        "    state_path = os.path.join(map_txn_path, state)\n",
        "    for year in os.listdir(state_path):\n",
        "        year_path = os.path.join(state_path, year)\n",
        "        for file in os.listdir(year_path):\n",
        "            quarter = int(file.strip('.json'))\n",
        "            file_path = os.path.join(year_path, file)\n",
        "            with open(file_path, 'r') as f:\n",
        "                content = json.load(f)\n",
        "                hover_data = content.get('data', {}).get('hoverDataList', [])\n",
        "                for district in hover_data:\n",
        "                    metric = district.get('metric', [])[0] if district.get('metric') else {}\n",
        "                    map_txn_data.append({\n",
        "                        'state': state,\n",
        "                        'year': int(year),\n",
        "                        'quarter': quarter,\n",
        "                        'district': district.get('name'),\n",
        "                        'transaction_count': metric.get('count'),\n",
        "                        'transaction_amount': metric.get('amount')\n",
        "                    })\n",
        "\n",
        "# Create DataFrame and save\n",
        "df_map_txn = pd.DataFrame(map_txn_data)\n",
        "os.makedirs(\"extracted_csvs\", exist_ok=True)\n",
        "df_map_txn.to_csv(\"extracted_csvs/map_transaction.csv\", index=False)\n",
        "\n",
        "print(\"✅ extracted_csvs/map_transaction.csv created.\")\n"
      ],
      "metadata": {
        "colab": {
          "base_uri": "https://localhost:8080/"
        },
        "id": "xzhpYlhjHkzy",
        "outputId": "5a73514b-8275-43cf-efef-095fb6ce91c3"
      },
      "execution_count": null,
      "outputs": [
        {
          "output_type": "stream",
          "name": "stdout",
          "text": [
            "✅ extracted_csvs/map_transaction.csv created.\n"
          ]
        }
      ]
    },
    {
      "cell_type": "code",
      "source": [
        "import os\n",
        "import json\n",
        "import pandas as pd\n",
        "\n",
        "insurance_data = []\n",
        "path = 'pulse/data/aggregated/insurance/country/india/state/'\n",
        "\n",
        "for state in os.listdir(path):\n",
        "    state_path = os.path.join(path, state)\n",
        "    for year in os.listdir(state_path):\n",
        "        year_path = os.path.join(state_path, year)\n",
        "        for file in os.listdir(year_path):\n",
        "            quarter = int(file.strip('.json'))\n",
        "            file_path = os.path.join(year_path, file)\n",
        "            with open(file_path, 'r') as f:\n",
        "                content = json.load(f)\n",
        "                data = content.get('data', {})\n",
        "                metric = data.get('metric', {})\n",
        "\n",
        "                insurance_count = metric.get('count', 0)\n",
        "                insurance_amount = metric.get('amount', 0.0)\n",
        "\n",
        "                # DEBUG CHECK\n",
        "                if insurance_count == 0:\n",
        "                    print(f\"[Missing count] {state}/{year}/{file}\")\n",
        "\n",
        "                insurance_data.append({\n",
        "                    'state': state,\n",
        "                    'year': int(year),\n",
        "                    'quarter': quarter,\n",
        "                    'insurance_count': insurance_count,\n",
        "                    'insurance_amount': insurance_amount\n",
        "                })\n",
        "\n",
        "df_insurance = pd.DataFrame(insurance_data)\n",
        "os.makedirs(\"extracted_csvs\", exist_ok=True)\n",
        "df_insurance.to_csv(\"extracted_csvs/aggregated_insurance.csv\", index=False)\n",
        "\n",
        "print(\"✅ Extracted insurance data with debug info.\")\n"
      ],
      "metadata": {
        "colab": {
          "base_uri": "https://localhost:8080/"
        },
        "id": "AffWa9a0PPkF",
        "outputId": "c4286f64-588d-4c29-b4ba-76d530267c65"
      },
      "execution_count": null,
      "outputs": [
        {
          "output_type": "stream",
          "name": "stdout",
          "text": [
            "[Missing count] rajasthan/2020/4.json\n",
            "[Missing count] rajasthan/2020/2.json\n",
            "[Missing count] rajasthan/2020/3.json\n",
            "[Missing count] rajasthan/2022/1.json\n",
            "[Missing count] rajasthan/2022/4.json\n",
            "[Missing count] rajasthan/2022/2.json\n",
            "[Missing count] rajasthan/2022/3.json\n",
            "[Missing count] rajasthan/2024/1.json\n",
            "[Missing count] rajasthan/2024/4.json\n",
            "[Missing count] rajasthan/2024/2.json\n",
            "[Missing count] rajasthan/2024/3.json\n",
            "[Missing count] rajasthan/2023/1.json\n",
            "[Missing count] rajasthan/2023/4.json\n",
            "[Missing count] rajasthan/2023/2.json\n",
            "[Missing count] rajasthan/2023/3.json\n",
            "[Missing count] rajasthan/2021/1.json\n",
            "[Missing count] rajasthan/2021/4.json\n",
            "[Missing count] rajasthan/2021/2.json\n",
            "[Missing count] rajasthan/2021/3.json\n",
            "[Missing count] bihar/2020/4.json\n",
            "[Missing count] bihar/2020/2.json\n",
            "[Missing count] bihar/2020/3.json\n",
            "[Missing count] bihar/2022/1.json\n",
            "[Missing count] bihar/2022/4.json\n",
            "[Missing count] bihar/2022/2.json\n",
            "[Missing count] bihar/2022/3.json\n",
            "[Missing count] bihar/2024/1.json\n",
            "[Missing count] bihar/2024/4.json\n",
            "[Missing count] bihar/2024/2.json\n",
            "[Missing count] bihar/2024/3.json\n",
            "[Missing count] bihar/2023/1.json\n",
            "[Missing count] bihar/2023/4.json\n",
            "[Missing count] bihar/2023/2.json\n",
            "[Missing count] bihar/2023/3.json\n",
            "[Missing count] bihar/2021/1.json\n",
            "[Missing count] bihar/2021/4.json\n",
            "[Missing count] bihar/2021/2.json\n",
            "[Missing count] bihar/2021/3.json\n",
            "[Missing count] dadra-&-nagar-haveli-&-daman-&-diu/2020/4.json\n",
            "[Missing count] dadra-&-nagar-haveli-&-daman-&-diu/2020/2.json\n",
            "[Missing count] dadra-&-nagar-haveli-&-daman-&-diu/2020/3.json\n",
            "[Missing count] dadra-&-nagar-haveli-&-daman-&-diu/2022/1.json\n",
            "[Missing count] dadra-&-nagar-haveli-&-daman-&-diu/2022/4.json\n",
            "[Missing count] dadra-&-nagar-haveli-&-daman-&-diu/2022/2.json\n",
            "[Missing count] dadra-&-nagar-haveli-&-daman-&-diu/2022/3.json\n",
            "[Missing count] dadra-&-nagar-haveli-&-daman-&-diu/2024/1.json\n",
            "[Missing count] dadra-&-nagar-haveli-&-daman-&-diu/2024/4.json\n",
            "[Missing count] dadra-&-nagar-haveli-&-daman-&-diu/2024/2.json\n",
            "[Missing count] dadra-&-nagar-haveli-&-daman-&-diu/2024/3.json\n",
            "[Missing count] dadra-&-nagar-haveli-&-daman-&-diu/2023/1.json\n",
            "[Missing count] dadra-&-nagar-haveli-&-daman-&-diu/2023/4.json\n",
            "[Missing count] dadra-&-nagar-haveli-&-daman-&-diu/2023/2.json\n",
            "[Missing count] dadra-&-nagar-haveli-&-daman-&-diu/2023/3.json\n",
            "[Missing count] dadra-&-nagar-haveli-&-daman-&-diu/2021/1.json\n",
            "[Missing count] dadra-&-nagar-haveli-&-daman-&-diu/2021/4.json\n",
            "[Missing count] dadra-&-nagar-haveli-&-daman-&-diu/2021/2.json\n",
            "[Missing count] dadra-&-nagar-haveli-&-daman-&-diu/2021/3.json\n",
            "[Missing count] uttarakhand/2020/4.json\n",
            "[Missing count] uttarakhand/2020/2.json\n",
            "[Missing count] uttarakhand/2020/3.json\n",
            "[Missing count] uttarakhand/2022/1.json\n",
            "[Missing count] uttarakhand/2022/4.json\n",
            "[Missing count] uttarakhand/2022/2.json\n",
            "[Missing count] uttarakhand/2022/3.json\n",
            "[Missing count] uttarakhand/2024/1.json\n",
            "[Missing count] uttarakhand/2024/4.json\n",
            "[Missing count] uttarakhand/2024/2.json\n",
            "[Missing count] uttarakhand/2024/3.json\n",
            "[Missing count] uttarakhand/2023/1.json\n",
            "[Missing count] uttarakhand/2023/4.json\n",
            "[Missing count] uttarakhand/2023/2.json\n",
            "[Missing count] uttarakhand/2023/3.json\n",
            "[Missing count] uttarakhand/2021/1.json\n",
            "[Missing count] uttarakhand/2021/4.json\n",
            "[Missing count] uttarakhand/2021/2.json\n",
            "[Missing count] uttarakhand/2021/3.json\n",
            "[Missing count] telangana/2020/4.json\n",
            "[Missing count] telangana/2020/2.json\n",
            "[Missing count] telangana/2020/3.json\n",
            "[Missing count] telangana/2022/1.json\n",
            "[Missing count] telangana/2022/4.json\n",
            "[Missing count] telangana/2022/2.json\n",
            "[Missing count] telangana/2022/3.json\n",
            "[Missing count] telangana/2024/1.json\n",
            "[Missing count] telangana/2024/4.json\n",
            "[Missing count] telangana/2024/2.json\n",
            "[Missing count] telangana/2024/3.json\n",
            "[Missing count] telangana/2023/1.json\n",
            "[Missing count] telangana/2023/4.json\n",
            "[Missing count] telangana/2023/2.json\n",
            "[Missing count] telangana/2023/3.json\n",
            "[Missing count] telangana/2021/1.json\n",
            "[Missing count] telangana/2021/4.json\n",
            "[Missing count] telangana/2021/2.json\n",
            "[Missing count] telangana/2021/3.json\n",
            "[Missing count] madhya-pradesh/2020/4.json\n",
            "[Missing count] madhya-pradesh/2020/2.json\n",
            "[Missing count] madhya-pradesh/2020/3.json\n",
            "[Missing count] madhya-pradesh/2022/1.json\n",
            "[Missing count] madhya-pradesh/2022/4.json\n",
            "[Missing count] madhya-pradesh/2022/2.json\n",
            "[Missing count] madhya-pradesh/2022/3.json\n",
            "[Missing count] madhya-pradesh/2024/1.json\n",
            "[Missing count] madhya-pradesh/2024/4.json\n",
            "[Missing count] madhya-pradesh/2024/2.json\n",
            "[Missing count] madhya-pradesh/2024/3.json\n",
            "[Missing count] madhya-pradesh/2023/1.json\n",
            "[Missing count] madhya-pradesh/2023/4.json\n",
            "[Missing count] madhya-pradesh/2023/2.json\n",
            "[Missing count] madhya-pradesh/2023/3.json\n",
            "[Missing count] madhya-pradesh/2021/1.json\n",
            "[Missing count] madhya-pradesh/2021/4.json\n",
            "[Missing count] madhya-pradesh/2021/2.json\n",
            "[Missing count] madhya-pradesh/2021/3.json\n",
            "[Missing count] karnataka/2020/4.json\n",
            "[Missing count] karnataka/2020/2.json\n",
            "[Missing count] karnataka/2020/3.json\n",
            "[Missing count] karnataka/2022/1.json\n",
            "[Missing count] karnataka/2022/4.json\n",
            "[Missing count] karnataka/2022/2.json\n",
            "[Missing count] karnataka/2022/3.json\n",
            "[Missing count] karnataka/2024/1.json\n",
            "[Missing count] karnataka/2024/4.json\n",
            "[Missing count] karnataka/2024/2.json\n",
            "[Missing count] karnataka/2024/3.json\n",
            "[Missing count] karnataka/2023/1.json\n",
            "[Missing count] karnataka/2023/4.json\n",
            "[Missing count] karnataka/2023/2.json\n",
            "[Missing count] karnataka/2023/3.json\n",
            "[Missing count] karnataka/2021/1.json\n",
            "[Missing count] karnataka/2021/4.json\n",
            "[Missing count] karnataka/2021/2.json\n",
            "[Missing count] karnataka/2021/3.json\n",
            "[Missing count] assam/2020/4.json\n",
            "[Missing count] assam/2020/2.json\n",
            "[Missing count] assam/2020/3.json\n",
            "[Missing count] assam/2022/1.json\n",
            "[Missing count] assam/2022/4.json\n",
            "[Missing count] assam/2022/2.json\n",
            "[Missing count] assam/2022/3.json\n",
            "[Missing count] assam/2024/1.json\n",
            "[Missing count] assam/2024/4.json\n",
            "[Missing count] assam/2024/2.json\n",
            "[Missing count] assam/2024/3.json\n",
            "[Missing count] assam/2023/1.json\n",
            "[Missing count] assam/2023/4.json\n",
            "[Missing count] assam/2023/2.json\n",
            "[Missing count] assam/2023/3.json\n",
            "[Missing count] assam/2021/1.json\n",
            "[Missing count] assam/2021/4.json\n",
            "[Missing count] assam/2021/2.json\n",
            "[Missing count] assam/2021/3.json\n",
            "[Missing count] meghalaya/2020/4.json\n",
            "[Missing count] meghalaya/2020/2.json\n",
            "[Missing count] meghalaya/2020/3.json\n",
            "[Missing count] meghalaya/2022/1.json\n",
            "[Missing count] meghalaya/2022/4.json\n",
            "[Missing count] meghalaya/2022/2.json\n",
            "[Missing count] meghalaya/2022/3.json\n",
            "[Missing count] meghalaya/2024/1.json\n",
            "[Missing count] meghalaya/2024/4.json\n",
            "[Missing count] meghalaya/2024/2.json\n",
            "[Missing count] meghalaya/2024/3.json\n",
            "[Missing count] meghalaya/2023/1.json\n",
            "[Missing count] meghalaya/2023/4.json\n",
            "[Missing count] meghalaya/2023/2.json\n",
            "[Missing count] meghalaya/2023/3.json\n",
            "[Missing count] meghalaya/2021/1.json\n",
            "[Missing count] meghalaya/2021/4.json\n",
            "[Missing count] meghalaya/2021/2.json\n",
            "[Missing count] meghalaya/2021/3.json\n",
            "[Missing count] delhi/2020/4.json\n",
            "[Missing count] delhi/2020/2.json\n",
            "[Missing count] delhi/2020/3.json\n",
            "[Missing count] delhi/2022/1.json\n",
            "[Missing count] delhi/2022/4.json\n",
            "[Missing count] delhi/2022/2.json\n",
            "[Missing count] delhi/2022/3.json\n",
            "[Missing count] delhi/2024/1.json\n",
            "[Missing count] delhi/2024/4.json\n",
            "[Missing count] delhi/2024/2.json\n",
            "[Missing count] delhi/2024/3.json\n",
            "[Missing count] delhi/2023/1.json\n",
            "[Missing count] delhi/2023/4.json\n",
            "[Missing count] delhi/2023/2.json\n",
            "[Missing count] delhi/2023/3.json\n",
            "[Missing count] delhi/2021/1.json\n",
            "[Missing count] delhi/2021/4.json\n",
            "[Missing count] delhi/2021/2.json\n",
            "[Missing count] delhi/2021/3.json\n",
            "[Missing count] ladakh/2020/4.json\n",
            "[Missing count] ladakh/2020/2.json\n",
            "[Missing count] ladakh/2020/3.json\n",
            "[Missing count] ladakh/2022/1.json\n",
            "[Missing count] ladakh/2022/4.json\n",
            "[Missing count] ladakh/2022/2.json\n",
            "[Missing count] ladakh/2022/3.json\n",
            "[Missing count] ladakh/2024/1.json\n",
            "[Missing count] ladakh/2024/4.json\n",
            "[Missing count] ladakh/2024/2.json\n",
            "[Missing count] ladakh/2024/3.json\n",
            "[Missing count] ladakh/2023/1.json\n",
            "[Missing count] ladakh/2023/4.json\n",
            "[Missing count] ladakh/2023/2.json\n",
            "[Missing count] ladakh/2023/3.json\n",
            "[Missing count] ladakh/2021/1.json\n",
            "[Missing count] ladakh/2021/4.json\n",
            "[Missing count] ladakh/2021/2.json\n",
            "[Missing count] ladakh/2021/3.json\n",
            "[Missing count] chhattisgarh/2020/4.json\n",
            "[Missing count] chhattisgarh/2020/2.json\n",
            "[Missing count] chhattisgarh/2020/3.json\n",
            "[Missing count] chhattisgarh/2022/1.json\n",
            "[Missing count] chhattisgarh/2022/4.json\n",
            "[Missing count] chhattisgarh/2022/2.json\n",
            "[Missing count] chhattisgarh/2022/3.json\n",
            "[Missing count] chhattisgarh/2024/1.json\n",
            "[Missing count] chhattisgarh/2024/4.json\n",
            "[Missing count] chhattisgarh/2024/2.json\n",
            "[Missing count] chhattisgarh/2024/3.json\n",
            "[Missing count] chhattisgarh/2023/1.json\n",
            "[Missing count] chhattisgarh/2023/4.json\n",
            "[Missing count] chhattisgarh/2023/2.json\n",
            "[Missing count] chhattisgarh/2023/3.json\n",
            "[Missing count] chhattisgarh/2021/1.json\n",
            "[Missing count] chhattisgarh/2021/4.json\n",
            "[Missing count] chhattisgarh/2021/2.json\n",
            "[Missing count] chhattisgarh/2021/3.json\n",
            "[Missing count] andaman-&-nicobar-islands/2020/4.json\n",
            "[Missing count] andaman-&-nicobar-islands/2020/2.json\n",
            "[Missing count] andaman-&-nicobar-islands/2020/3.json\n",
            "[Missing count] andaman-&-nicobar-islands/2022/1.json\n",
            "[Missing count] andaman-&-nicobar-islands/2022/4.json\n",
            "[Missing count] andaman-&-nicobar-islands/2022/2.json\n",
            "[Missing count] andaman-&-nicobar-islands/2022/3.json\n",
            "[Missing count] andaman-&-nicobar-islands/2024/1.json\n",
            "[Missing count] andaman-&-nicobar-islands/2024/4.json\n",
            "[Missing count] andaman-&-nicobar-islands/2024/2.json\n",
            "[Missing count] andaman-&-nicobar-islands/2024/3.json\n",
            "[Missing count] andaman-&-nicobar-islands/2023/1.json\n",
            "[Missing count] andaman-&-nicobar-islands/2023/4.json\n",
            "[Missing count] andaman-&-nicobar-islands/2023/2.json\n",
            "[Missing count] andaman-&-nicobar-islands/2023/3.json\n",
            "[Missing count] andaman-&-nicobar-islands/2021/1.json\n",
            "[Missing count] andaman-&-nicobar-islands/2021/4.json\n",
            "[Missing count] andaman-&-nicobar-islands/2021/2.json\n",
            "[Missing count] andaman-&-nicobar-islands/2021/3.json\n",
            "[Missing count] haryana/2020/4.json\n",
            "[Missing count] haryana/2020/2.json\n",
            "[Missing count] haryana/2020/3.json\n",
            "[Missing count] haryana/2022/1.json\n",
            "[Missing count] haryana/2022/4.json\n",
            "[Missing count] haryana/2022/2.json\n",
            "[Missing count] haryana/2022/3.json\n",
            "[Missing count] haryana/2024/1.json\n",
            "[Missing count] haryana/2024/4.json\n",
            "[Missing count] haryana/2024/2.json\n",
            "[Missing count] haryana/2024/3.json\n",
            "[Missing count] haryana/2023/1.json\n",
            "[Missing count] haryana/2023/4.json\n",
            "[Missing count] haryana/2023/2.json\n",
            "[Missing count] haryana/2023/3.json\n",
            "[Missing count] haryana/2021/1.json\n",
            "[Missing count] haryana/2021/4.json\n",
            "[Missing count] haryana/2021/2.json\n",
            "[Missing count] haryana/2021/3.json\n",
            "[Missing count] sikkim/2020/4.json\n",
            "[Missing count] sikkim/2020/2.json\n",
            "[Missing count] sikkim/2020/3.json\n",
            "[Missing count] sikkim/2022/1.json\n",
            "[Missing count] sikkim/2022/4.json\n",
            "[Missing count] sikkim/2022/2.json\n",
            "[Missing count] sikkim/2022/3.json\n",
            "[Missing count] sikkim/2024/1.json\n",
            "[Missing count] sikkim/2024/4.json\n",
            "[Missing count] sikkim/2024/2.json\n",
            "[Missing count] sikkim/2024/3.json\n",
            "[Missing count] sikkim/2023/1.json\n",
            "[Missing count] sikkim/2023/4.json\n",
            "[Missing count] sikkim/2023/2.json\n",
            "[Missing count] sikkim/2023/3.json\n",
            "[Missing count] sikkim/2021/1.json\n",
            "[Missing count] sikkim/2021/4.json\n",
            "[Missing count] sikkim/2021/2.json\n",
            "[Missing count] sikkim/2021/3.json\n",
            "[Missing count] andhra-pradesh/2020/4.json\n",
            "[Missing count] andhra-pradesh/2020/2.json\n",
            "[Missing count] andhra-pradesh/2020/3.json\n",
            "[Missing count] andhra-pradesh/2022/1.json\n",
            "[Missing count] andhra-pradesh/2022/4.json\n",
            "[Missing count] andhra-pradesh/2022/2.json\n",
            "[Missing count] andhra-pradesh/2022/3.json\n",
            "[Missing count] andhra-pradesh/2024/1.json\n",
            "[Missing count] andhra-pradesh/2024/4.json\n",
            "[Missing count] andhra-pradesh/2024/2.json\n",
            "[Missing count] andhra-pradesh/2024/3.json\n",
            "[Missing count] andhra-pradesh/2023/1.json\n",
            "[Missing count] andhra-pradesh/2023/4.json\n",
            "[Missing count] andhra-pradesh/2023/2.json\n",
            "[Missing count] andhra-pradesh/2023/3.json\n",
            "[Missing count] andhra-pradesh/2021/1.json\n",
            "[Missing count] andhra-pradesh/2021/4.json\n",
            "[Missing count] andhra-pradesh/2021/2.json\n",
            "[Missing count] andhra-pradesh/2021/3.json\n",
            "[Missing count] tamil-nadu/2020/4.json\n",
            "[Missing count] tamil-nadu/2020/2.json\n",
            "[Missing count] tamil-nadu/2020/3.json\n",
            "[Missing count] tamil-nadu/2022/1.json\n",
            "[Missing count] tamil-nadu/2022/4.json\n",
            "[Missing count] tamil-nadu/2022/2.json\n",
            "[Missing count] tamil-nadu/2022/3.json\n",
            "[Missing count] tamil-nadu/2024/1.json\n",
            "[Missing count] tamil-nadu/2024/4.json\n",
            "[Missing count] tamil-nadu/2024/2.json\n",
            "[Missing count] tamil-nadu/2024/3.json\n",
            "[Missing count] tamil-nadu/2023/1.json\n",
            "[Missing count] tamil-nadu/2023/4.json\n",
            "[Missing count] tamil-nadu/2023/2.json\n",
            "[Missing count] tamil-nadu/2023/3.json\n",
            "[Missing count] tamil-nadu/2021/1.json\n",
            "[Missing count] tamil-nadu/2021/4.json\n",
            "[Missing count] tamil-nadu/2021/2.json\n",
            "[Missing count] tamil-nadu/2021/3.json\n",
            "[Missing count] goa/2020/4.json\n",
            "[Missing count] goa/2020/2.json\n",
            "[Missing count] goa/2020/3.json\n",
            "[Missing count] goa/2022/1.json\n",
            "[Missing count] goa/2022/4.json\n",
            "[Missing count] goa/2022/2.json\n",
            "[Missing count] goa/2022/3.json\n",
            "[Missing count] goa/2024/1.json\n",
            "[Missing count] goa/2024/4.json\n",
            "[Missing count] goa/2024/2.json\n",
            "[Missing count] goa/2024/3.json\n",
            "[Missing count] goa/2023/1.json\n",
            "[Missing count] goa/2023/4.json\n",
            "[Missing count] goa/2023/2.json\n",
            "[Missing count] goa/2023/3.json\n",
            "[Missing count] goa/2021/1.json\n",
            "[Missing count] goa/2021/4.json\n",
            "[Missing count] goa/2021/2.json\n",
            "[Missing count] goa/2021/3.json\n",
            "[Missing count] lakshadweep/2020/4.json\n",
            "[Missing count] lakshadweep/2020/2.json\n",
            "[Missing count] lakshadweep/2020/3.json\n",
            "[Missing count] lakshadweep/2022/1.json\n",
            "[Missing count] lakshadweep/2022/4.json\n",
            "[Missing count] lakshadweep/2022/2.json\n",
            "[Missing count] lakshadweep/2022/3.json\n",
            "[Missing count] lakshadweep/2024/1.json\n",
            "[Missing count] lakshadweep/2024/4.json\n",
            "[Missing count] lakshadweep/2024/2.json\n",
            "[Missing count] lakshadweep/2024/3.json\n",
            "[Missing count] lakshadweep/2023/1.json\n",
            "[Missing count] lakshadweep/2023/4.json\n",
            "[Missing count] lakshadweep/2023/2.json\n",
            "[Missing count] lakshadweep/2023/3.json\n",
            "[Missing count] lakshadweep/2021/1.json\n",
            "[Missing count] lakshadweep/2021/4.json\n",
            "[Missing count] lakshadweep/2021/2.json\n",
            "[Missing count] lakshadweep/2021/3.json\n",
            "[Missing count] maharashtra/2020/4.json\n",
            "[Missing count] maharashtra/2020/2.json\n",
            "[Missing count] maharashtra/2020/3.json\n",
            "[Missing count] maharashtra/2022/1.json\n",
            "[Missing count] maharashtra/2022/4.json\n",
            "[Missing count] maharashtra/2022/2.json\n",
            "[Missing count] maharashtra/2022/3.json\n",
            "[Missing count] maharashtra/2024/1.json\n",
            "[Missing count] maharashtra/2024/4.json\n",
            "[Missing count] maharashtra/2024/2.json\n",
            "[Missing count] maharashtra/2024/3.json\n",
            "[Missing count] maharashtra/2023/1.json\n",
            "[Missing count] maharashtra/2023/4.json\n",
            "[Missing count] maharashtra/2023/2.json\n",
            "[Missing count] maharashtra/2023/3.json\n",
            "[Missing count] maharashtra/2021/1.json\n",
            "[Missing count] maharashtra/2021/4.json\n",
            "[Missing count] maharashtra/2021/2.json\n",
            "[Missing count] maharashtra/2021/3.json\n",
            "[Missing count] himachal-pradesh/2020/4.json\n",
            "[Missing count] himachal-pradesh/2020/2.json\n",
            "[Missing count] himachal-pradesh/2020/3.json\n",
            "[Missing count] himachal-pradesh/2022/1.json\n",
            "[Missing count] himachal-pradesh/2022/4.json\n",
            "[Missing count] himachal-pradesh/2022/2.json\n",
            "[Missing count] himachal-pradesh/2022/3.json\n",
            "[Missing count] himachal-pradesh/2024/1.json\n",
            "[Missing count] himachal-pradesh/2024/4.json\n",
            "[Missing count] himachal-pradesh/2024/2.json\n",
            "[Missing count] himachal-pradesh/2024/3.json\n",
            "[Missing count] himachal-pradesh/2023/1.json\n",
            "[Missing count] himachal-pradesh/2023/4.json\n",
            "[Missing count] himachal-pradesh/2023/2.json\n",
            "[Missing count] himachal-pradesh/2023/3.json\n",
            "[Missing count] himachal-pradesh/2021/1.json\n",
            "[Missing count] himachal-pradesh/2021/4.json\n",
            "[Missing count] himachal-pradesh/2021/2.json\n",
            "[Missing count] himachal-pradesh/2021/3.json\n",
            "[Missing count] west-bengal/2020/4.json\n",
            "[Missing count] west-bengal/2020/2.json\n",
            "[Missing count] west-bengal/2020/3.json\n",
            "[Missing count] west-bengal/2022/1.json\n",
            "[Missing count] west-bengal/2022/4.json\n",
            "[Missing count] west-bengal/2022/2.json\n",
            "[Missing count] west-bengal/2022/3.json\n",
            "[Missing count] west-bengal/2024/1.json\n",
            "[Missing count] west-bengal/2024/4.json\n",
            "[Missing count] west-bengal/2024/2.json\n",
            "[Missing count] west-bengal/2024/3.json\n",
            "[Missing count] west-bengal/2023/1.json\n",
            "[Missing count] west-bengal/2023/4.json\n",
            "[Missing count] west-bengal/2023/2.json\n",
            "[Missing count] west-bengal/2023/3.json\n",
            "[Missing count] west-bengal/2021/1.json\n",
            "[Missing count] west-bengal/2021/4.json\n",
            "[Missing count] west-bengal/2021/2.json\n",
            "[Missing count] west-bengal/2021/3.json\n",
            "[Missing count] arunachal-pradesh/2020/4.json\n",
            "[Missing count] arunachal-pradesh/2020/2.json\n",
            "[Missing count] arunachal-pradesh/2020/3.json\n",
            "[Missing count] arunachal-pradesh/2022/1.json\n",
            "[Missing count] arunachal-pradesh/2022/4.json\n",
            "[Missing count] arunachal-pradesh/2022/2.json\n",
            "[Missing count] arunachal-pradesh/2022/3.json\n",
            "[Missing count] arunachal-pradesh/2024/1.json\n",
            "[Missing count] arunachal-pradesh/2024/4.json\n",
            "[Missing count] arunachal-pradesh/2024/2.json\n",
            "[Missing count] arunachal-pradesh/2024/3.json\n",
            "[Missing count] arunachal-pradesh/2023/1.json\n",
            "[Missing count] arunachal-pradesh/2023/4.json\n",
            "[Missing count] arunachal-pradesh/2023/2.json\n",
            "[Missing count] arunachal-pradesh/2023/3.json\n",
            "[Missing count] arunachal-pradesh/2021/1.json\n",
            "[Missing count] arunachal-pradesh/2021/4.json\n",
            "[Missing count] arunachal-pradesh/2021/2.json\n",
            "[Missing count] arunachal-pradesh/2021/3.json\n",
            "[Missing count] tripura/2020/4.json\n",
            "[Missing count] tripura/2020/2.json\n",
            "[Missing count] tripura/2020/3.json\n",
            "[Missing count] tripura/2022/1.json\n",
            "[Missing count] tripura/2022/4.json\n",
            "[Missing count] tripura/2022/2.json\n",
            "[Missing count] tripura/2022/3.json\n",
            "[Missing count] tripura/2024/1.json\n",
            "[Missing count] tripura/2024/4.json\n",
            "[Missing count] tripura/2024/2.json\n",
            "[Missing count] tripura/2024/3.json\n",
            "[Missing count] tripura/2023/1.json\n",
            "[Missing count] tripura/2023/4.json\n",
            "[Missing count] tripura/2023/2.json\n",
            "[Missing count] tripura/2023/3.json\n",
            "[Missing count] tripura/2021/1.json\n",
            "[Missing count] tripura/2021/4.json\n",
            "[Missing count] tripura/2021/2.json\n",
            "[Missing count] tripura/2021/3.json\n",
            "[Missing count] puducherry/2020/4.json\n",
            "[Missing count] puducherry/2020/2.json\n",
            "[Missing count] puducherry/2020/3.json\n",
            "[Missing count] puducherry/2022/1.json\n",
            "[Missing count] puducherry/2022/4.json\n",
            "[Missing count] puducherry/2022/2.json\n",
            "[Missing count] puducherry/2022/3.json\n",
            "[Missing count] puducherry/2024/1.json\n",
            "[Missing count] puducherry/2024/4.json\n",
            "[Missing count] puducherry/2024/2.json\n",
            "[Missing count] puducherry/2024/3.json\n",
            "[Missing count] puducherry/2023/1.json\n",
            "[Missing count] puducherry/2023/4.json\n",
            "[Missing count] puducherry/2023/2.json\n",
            "[Missing count] puducherry/2023/3.json\n",
            "[Missing count] puducherry/2021/1.json\n",
            "[Missing count] puducherry/2021/4.json\n",
            "[Missing count] puducherry/2021/2.json\n",
            "[Missing count] puducherry/2021/3.json\n",
            "[Missing count] odisha/2020/4.json\n",
            "[Missing count] odisha/2020/2.json\n",
            "[Missing count] odisha/2020/3.json\n",
            "[Missing count] odisha/2022/1.json\n",
            "[Missing count] odisha/2022/4.json\n",
            "[Missing count] odisha/2022/2.json\n",
            "[Missing count] odisha/2022/3.json\n",
            "[Missing count] odisha/2024/1.json\n",
            "[Missing count] odisha/2024/4.json\n",
            "[Missing count] odisha/2024/2.json\n",
            "[Missing count] odisha/2024/3.json\n",
            "[Missing count] odisha/2023/1.json\n",
            "[Missing count] odisha/2023/4.json\n",
            "[Missing count] odisha/2023/2.json\n",
            "[Missing count] odisha/2023/3.json\n",
            "[Missing count] odisha/2021/1.json\n",
            "[Missing count] odisha/2021/4.json\n",
            "[Missing count] odisha/2021/2.json\n",
            "[Missing count] odisha/2021/3.json\n",
            "[Missing count] nagaland/2020/4.json\n",
            "[Missing count] nagaland/2020/2.json\n",
            "[Missing count] nagaland/2020/3.json\n",
            "[Missing count] nagaland/2022/1.json\n",
            "[Missing count] nagaland/2022/4.json\n",
            "[Missing count] nagaland/2022/2.json\n",
            "[Missing count] nagaland/2022/3.json\n",
            "[Missing count] nagaland/2024/1.json\n",
            "[Missing count] nagaland/2024/4.json\n",
            "[Missing count] nagaland/2024/2.json\n",
            "[Missing count] nagaland/2024/3.json\n",
            "[Missing count] nagaland/2023/1.json\n",
            "[Missing count] nagaland/2023/4.json\n",
            "[Missing count] nagaland/2023/2.json\n",
            "[Missing count] nagaland/2023/3.json\n",
            "[Missing count] nagaland/2021/1.json\n",
            "[Missing count] nagaland/2021/4.json\n",
            "[Missing count] nagaland/2021/2.json\n",
            "[Missing count] nagaland/2021/3.json\n",
            "[Missing count] gujarat/2020/4.json\n",
            "[Missing count] gujarat/2020/2.json\n",
            "[Missing count] gujarat/2020/3.json\n",
            "[Missing count] gujarat/2022/1.json\n",
            "[Missing count] gujarat/2022/4.json\n",
            "[Missing count] gujarat/2022/2.json\n",
            "[Missing count] gujarat/2022/3.json\n",
            "[Missing count] gujarat/2024/1.json\n",
            "[Missing count] gujarat/2024/4.json\n",
            "[Missing count] gujarat/2024/2.json\n",
            "[Missing count] gujarat/2024/3.json\n",
            "[Missing count] gujarat/2023/1.json\n",
            "[Missing count] gujarat/2023/4.json\n",
            "[Missing count] gujarat/2023/2.json\n",
            "[Missing count] gujarat/2023/3.json\n",
            "[Missing count] gujarat/2021/1.json\n",
            "[Missing count] gujarat/2021/4.json\n",
            "[Missing count] gujarat/2021/2.json\n",
            "[Missing count] gujarat/2021/3.json\n",
            "[Missing count] jharkhand/2020/4.json\n",
            "[Missing count] jharkhand/2020/2.json\n",
            "[Missing count] jharkhand/2020/3.json\n",
            "[Missing count] jharkhand/2022/1.json\n",
            "[Missing count] jharkhand/2022/4.json\n",
            "[Missing count] jharkhand/2022/2.json\n",
            "[Missing count] jharkhand/2022/3.json\n",
            "[Missing count] jharkhand/2024/1.json\n",
            "[Missing count] jharkhand/2024/4.json\n",
            "[Missing count] jharkhand/2024/2.json\n",
            "[Missing count] jharkhand/2024/3.json\n",
            "[Missing count] jharkhand/2023/1.json\n",
            "[Missing count] jharkhand/2023/4.json\n",
            "[Missing count] jharkhand/2023/2.json\n",
            "[Missing count] jharkhand/2023/3.json\n",
            "[Missing count] jharkhand/2021/1.json\n",
            "[Missing count] jharkhand/2021/4.json\n",
            "[Missing count] jharkhand/2021/2.json\n",
            "[Missing count] jharkhand/2021/3.json\n",
            "[Missing count] jammu-&-kashmir/2020/4.json\n",
            "[Missing count] jammu-&-kashmir/2020/2.json\n",
            "[Missing count] jammu-&-kashmir/2020/3.json\n",
            "[Missing count] jammu-&-kashmir/2022/1.json\n",
            "[Missing count] jammu-&-kashmir/2022/4.json\n",
            "[Missing count] jammu-&-kashmir/2022/2.json\n",
            "[Missing count] jammu-&-kashmir/2022/3.json\n",
            "[Missing count] jammu-&-kashmir/2024/1.json\n",
            "[Missing count] jammu-&-kashmir/2024/4.json\n",
            "[Missing count] jammu-&-kashmir/2024/2.json\n",
            "[Missing count] jammu-&-kashmir/2024/3.json\n",
            "[Missing count] jammu-&-kashmir/2023/1.json\n",
            "[Missing count] jammu-&-kashmir/2023/4.json\n",
            "[Missing count] jammu-&-kashmir/2023/2.json\n",
            "[Missing count] jammu-&-kashmir/2023/3.json\n",
            "[Missing count] jammu-&-kashmir/2021/1.json\n",
            "[Missing count] jammu-&-kashmir/2021/4.json\n",
            "[Missing count] jammu-&-kashmir/2021/2.json\n",
            "[Missing count] jammu-&-kashmir/2021/3.json\n",
            "[Missing count] punjab/2020/4.json\n",
            "[Missing count] punjab/2020/2.json\n",
            "[Missing count] punjab/2020/3.json\n",
            "[Missing count] punjab/2022/1.json\n",
            "[Missing count] punjab/2022/4.json\n",
            "[Missing count] punjab/2022/2.json\n",
            "[Missing count] punjab/2022/3.json\n",
            "[Missing count] punjab/2024/1.json\n",
            "[Missing count] punjab/2024/4.json\n",
            "[Missing count] punjab/2024/2.json\n",
            "[Missing count] punjab/2024/3.json\n",
            "[Missing count] punjab/2023/1.json\n",
            "[Missing count] punjab/2023/4.json\n",
            "[Missing count] punjab/2023/2.json\n",
            "[Missing count] punjab/2023/3.json\n",
            "[Missing count] punjab/2021/1.json\n",
            "[Missing count] punjab/2021/4.json\n",
            "[Missing count] punjab/2021/2.json\n",
            "[Missing count] punjab/2021/3.json\n",
            "[Missing count] manipur/2020/4.json\n",
            "[Missing count] manipur/2020/2.json\n",
            "[Missing count] manipur/2020/3.json\n",
            "[Missing count] manipur/2022/1.json\n",
            "[Missing count] manipur/2022/4.json\n",
            "[Missing count] manipur/2022/2.json\n",
            "[Missing count] manipur/2022/3.json\n",
            "[Missing count] manipur/2024/1.json\n",
            "[Missing count] manipur/2024/4.json\n",
            "[Missing count] manipur/2024/2.json\n",
            "[Missing count] manipur/2024/3.json\n",
            "[Missing count] manipur/2023/1.json\n",
            "[Missing count] manipur/2023/4.json\n",
            "[Missing count] manipur/2023/2.json\n",
            "[Missing count] manipur/2023/3.json\n",
            "[Missing count] manipur/2021/1.json\n",
            "[Missing count] manipur/2021/4.json\n",
            "[Missing count] manipur/2021/2.json\n",
            "[Missing count] manipur/2021/3.json\n",
            "[Missing count] mizoram/2020/4.json\n",
            "[Missing count] mizoram/2020/2.json\n",
            "[Missing count] mizoram/2020/3.json\n",
            "[Missing count] mizoram/2022/1.json\n",
            "[Missing count] mizoram/2022/4.json\n",
            "[Missing count] mizoram/2022/2.json\n",
            "[Missing count] mizoram/2022/3.json\n",
            "[Missing count] mizoram/2024/1.json\n",
            "[Missing count] mizoram/2024/4.json\n",
            "[Missing count] mizoram/2024/2.json\n",
            "[Missing count] mizoram/2024/3.json\n",
            "[Missing count] mizoram/2023/1.json\n",
            "[Missing count] mizoram/2023/4.json\n",
            "[Missing count] mizoram/2023/2.json\n",
            "[Missing count] mizoram/2023/3.json\n",
            "[Missing count] mizoram/2021/1.json\n",
            "[Missing count] mizoram/2021/4.json\n",
            "[Missing count] mizoram/2021/2.json\n",
            "[Missing count] mizoram/2021/3.json\n",
            "[Missing count] uttar-pradesh/2020/4.json\n",
            "[Missing count] uttar-pradesh/2020/2.json\n",
            "[Missing count] uttar-pradesh/2020/3.json\n",
            "[Missing count] uttar-pradesh/2022/1.json\n",
            "[Missing count] uttar-pradesh/2022/4.json\n",
            "[Missing count] uttar-pradesh/2022/2.json\n",
            "[Missing count] uttar-pradesh/2022/3.json\n",
            "[Missing count] uttar-pradesh/2024/1.json\n",
            "[Missing count] uttar-pradesh/2024/4.json\n",
            "[Missing count] uttar-pradesh/2024/2.json\n",
            "[Missing count] uttar-pradesh/2024/3.json\n",
            "[Missing count] uttar-pradesh/2023/1.json\n",
            "[Missing count] uttar-pradesh/2023/4.json\n",
            "[Missing count] uttar-pradesh/2023/2.json\n",
            "[Missing count] uttar-pradesh/2023/3.json\n",
            "[Missing count] uttar-pradesh/2021/1.json\n",
            "[Missing count] uttar-pradesh/2021/4.json\n",
            "[Missing count] uttar-pradesh/2021/2.json\n",
            "[Missing count] uttar-pradesh/2021/3.json\n",
            "[Missing count] chandigarh/2020/4.json\n",
            "[Missing count] chandigarh/2020/2.json\n",
            "[Missing count] chandigarh/2020/3.json\n",
            "[Missing count] chandigarh/2022/1.json\n",
            "[Missing count] chandigarh/2022/4.json\n",
            "[Missing count] chandigarh/2022/2.json\n",
            "[Missing count] chandigarh/2022/3.json\n",
            "[Missing count] chandigarh/2024/1.json\n",
            "[Missing count] chandigarh/2024/4.json\n",
            "[Missing count] chandigarh/2024/2.json\n",
            "[Missing count] chandigarh/2024/3.json\n",
            "[Missing count] chandigarh/2023/1.json\n",
            "[Missing count] chandigarh/2023/4.json\n",
            "[Missing count] chandigarh/2023/2.json\n",
            "[Missing count] chandigarh/2023/3.json\n",
            "[Missing count] chandigarh/2021/1.json\n",
            "[Missing count] chandigarh/2021/4.json\n",
            "[Missing count] chandigarh/2021/2.json\n",
            "[Missing count] chandigarh/2021/3.json\n",
            "[Missing count] kerala/2020/4.json\n",
            "[Missing count] kerala/2020/2.json\n",
            "[Missing count] kerala/2020/3.json\n",
            "[Missing count] kerala/2022/1.json\n",
            "[Missing count] kerala/2022/4.json\n",
            "[Missing count] kerala/2022/2.json\n",
            "[Missing count] kerala/2022/3.json\n",
            "[Missing count] kerala/2024/1.json\n",
            "[Missing count] kerala/2024/4.json\n",
            "[Missing count] kerala/2024/2.json\n",
            "[Missing count] kerala/2024/3.json\n",
            "[Missing count] kerala/2023/1.json\n",
            "[Missing count] kerala/2023/4.json\n",
            "[Missing count] kerala/2023/2.json\n",
            "[Missing count] kerala/2023/3.json\n",
            "[Missing count] kerala/2021/1.json\n",
            "[Missing count] kerala/2021/4.json\n",
            "[Missing count] kerala/2021/2.json\n",
            "[Missing count] kerala/2021/3.json\n",
            "✅ Extracted insurance data with debug info.\n"
          ]
        }
      ]
    },
    {
      "cell_type": "code",
      "execution_count": null,
      "metadata": {
        "id": "WnkwP1-tYUb9"
      },
      "outputs": [],
      "source": [
        "#Paths of datasets\n",
        "txn_path = \"/content/pulse/data/aggregated/transaction/country/india\"\n",
        "user_path = \"/content/pulse/data/aggregated/user/country/india\"\n",
        "insurance_path = \"/content/pulse/data/aggregated/insurance/country/india\"\n"
      ]
    },
    {
      "cell_type": "code",
      "execution_count": null,
      "metadata": {
        "colab": {
          "base_uri": "https://localhost:8080/"
        },
        "id": "YRp0z919YtPi",
        "outputId": "2ac409dd-e526-4aa7-8e66-790414cb4067"
      },
      "outputs": [
        {
          "output_type": "stream",
          "name": "stdout",
          "text": [
            "✅ Data saved to aggregated_transactions.csv\n",
            "✅ Data saved to aggregated_users.csv\n",
            "✅ Data saved to aggregated_insurance.csv\n"
          ]
        }
      ],
      "source": [
        "# Extracting datasets\n",
        "extract_json_to_csv(txn_path, \"transaction\", \"aggregated_transactions.csv\")\n",
        "extract_json_to_csv(user_path, \"user\", \"aggregated_users.csv\")\n",
        "extract_json_to_csv(insurance_path, \"insurance\", \"aggregated_insurance.csv\")\n"
      ]
    },
    {
      "cell_type": "code",
      "source": [
        "import sqlite3\n",
        "import pandas as pd"
      ],
      "metadata": {
        "id": "DKvUN-KAF_Z5"
      },
      "execution_count": null,
      "outputs": []
    },
    {
      "cell_type": "code",
      "source": [
        "# Connect to SQLite DB\n",
        "conn = sqlite3.connect(\"phonepe_data.db\")\n",
        "cursor = conn.cursor()"
      ],
      "metadata": {
        "id": "203h2L55GGxm"
      },
      "execution_count": null,
      "outputs": []
    },
    {
      "cell_type": "code",
      "source": [
        "# 1. aggregated_transaction table\n",
        "cursor.execute(\"\"\"\n",
        "CREATE TABLE IF NOT EXISTS aggregated_transaction (\n",
        "    state TEXT,\n",
        "    year INTEGER,\n",
        "    quarter INTEGER,\n",
        "    transaction_type TEXT,\n",
        "    transaction_count INTEGER,\n",
        "    transaction_amount REAL\n",
        ")\n",
        "\"\"\")"
      ],
      "metadata": {
        "colab": {
          "base_uri": "https://localhost:8080/"
        },
        "id": "zNBo8jtYGRvH",
        "outputId": "d199be32-8a7a-4474-9ee5-b5b3e6d4f897"
      },
      "execution_count": null,
      "outputs": [
        {
          "output_type": "execute_result",
          "data": {
            "text/plain": [
              "<sqlite3.Cursor at 0x7c50d5e19140>"
            ]
          },
          "metadata": {},
          "execution_count": 11
        }
      ]
    },
    {
      "cell_type": "code",
      "source": [
        "# 2. aggregated_user table\n",
        "cursor.execute(\"\"\"\n",
        "CREATE TABLE IF NOT EXISTS aggregated_user (\n",
        "    state TEXT,\n",
        "    year INTEGER,\n",
        "    quarter INTEGER,\n",
        "    device_brand TEXT,\n",
        "    user_count INTEGER,\n",
        "    percentage REAL\n",
        ")\n",
        "\"\"\")"
      ],
      "metadata": {
        "colab": {
          "base_uri": "https://localhost:8080/"
        },
        "id": "ljeFb18NGV6G",
        "outputId": "e4c251d4-ff27-4da0-f588-3eab9e811b54"
      },
      "execution_count": null,
      "outputs": [
        {
          "output_type": "execute_result",
          "data": {
            "text/plain": [
              "<sqlite3.Cursor at 0x7c50d5e19140>"
            ]
          },
          "metadata": {},
          "execution_count": 12
        }
      ]
    },
    {
      "cell_type": "code",
      "source": [
        "# 3. map_transaction table\n",
        "cursor.execute(\"\"\"\n",
        "CREATE TABLE IF NOT EXISTS map_transaction (\n",
        "    state TEXT,\n",
        "    year INTEGER,\n",
        "    quarter INTEGER,\n",
        "    district TEXT,\n",
        "    transaction_count INTEGER,\n",
        "    transaction_amount REAL\n",
        ")\n",
        "\"\"\")"
      ],
      "metadata": {
        "colab": {
          "base_uri": "https://localhost:8080/"
        },
        "id": "WnxSjC59GbUL",
        "outputId": "e1ef9e03-c83c-483a-dfa3-88fa3816e1ca"
      },
      "execution_count": null,
      "outputs": [
        {
          "output_type": "execute_result",
          "data": {
            "text/plain": [
              "<sqlite3.Cursor at 0x7c50d5e19140>"
            ]
          },
          "metadata": {},
          "execution_count": 13
        }
      ]
    },
    {
      "cell_type": "code",
      "source": [
        "# Load and insert into aggregated_transaction\n",
        "df_txn = pd.read_csv(\"extracted_csvs/aggregated_transaction.csv\")\n",
        "df_txn.to_sql(\"aggregated_transaction\", conn, if_exists=\"append\", index=False)"
      ],
      "metadata": {
        "colab": {
          "base_uri": "https://localhost:8080/"
        },
        "id": "DNuJe6nHGfvr",
        "outputId": "7a7ee07e-a54e-4eb7-a4fa-285a36d2964a"
      },
      "execution_count": null,
      "outputs": [
        {
          "output_type": "execute_result",
          "data": {
            "text/plain": [
              "5034"
            ]
          },
          "metadata": {},
          "execution_count": 14
        }
      ]
    },
    {
      "cell_type": "code",
      "source": [
        "# Load and insert into aggregated_user\n",
        "df_user = pd.read_csv(\"extracted_csvs/aggregated_user.csv\")\n",
        "df_user.to_sql(\"aggregated_user\", conn, if_exists=\"append\", index=False)"
      ],
      "metadata": {
        "colab": {
          "base_uri": "https://localhost:8080/"
        },
        "id": "VjUcDK9YGlmQ",
        "outputId": "a99ffdff-fb9f-437e-86a4-b1878d6d7e0c"
      },
      "execution_count": null,
      "outputs": [
        {
          "output_type": "execute_result",
          "data": {
            "text/plain": [
              "6732"
            ]
          },
          "metadata": {},
          "execution_count": 19
        }
      ]
    },
    {
      "cell_type": "code",
      "source": [
        "# Load and insert into aggregated_user\n",
        "df_user = pd.read_csv(\"extracted_csvs/aggregated_user.csv\")\n",
        "df_user.to_sql(\"aggregated_user\", conn, if_exists=\"append\", index=False)"
      ],
      "metadata": {
        "colab": {
          "base_uri": "https://localhost:8080/"
        },
        "id": "37bMYN9sHSsi",
        "outputId": "e0a360d2-6ef4-411f-a372-380c073a0db4"
      },
      "execution_count": null,
      "outputs": [
        {
          "output_type": "execute_result",
          "data": {
            "text/plain": [
              "6732"
            ]
          },
          "metadata": {},
          "execution_count": 20
        }
      ]
    },
    {
      "cell_type": "code",
      "source": [
        "import sqlite3\n",
        "import pandas as pd\n",
        "#  Open connection\n",
        "conn = sqlite3.connect(\"phonepe_data.db\")\n",
        "# Load the DataFrame\n",
        "df_map_txn = pd.read_csv(\"extracted_csvs/map_transaction.csv\")\n",
        "# ✅ Insert into SQL table\n",
        "df_map_txn.to_sql(\"map_transaction\", conn, if_exists=\"append\", index=False)\n",
        "# ✅ Commit and close AFTER insertion\n",
        "conn.commit()\n",
        "conn.close()\n"
      ],
      "metadata": {
        "id": "8UF54GgmIIBv"
      },
      "execution_count": null,
      "outputs": []
    },
    {
      "cell_type": "code",
      "source": [
        "import sqlite3\n",
        "import pandas as pd\n",
        "\n",
        "# Load the CSV\n",
        "df_ins = pd.read_csv(\"extracted_csvs/aggregated_insurance.csv\")\n",
        "\n",
        "# Connect to your database\n",
        "conn = sqlite3.connect(\"phonepe_data.db\")\n",
        "\n",
        "# Create table and insert data\n",
        "df_ins.to_sql(\"aggregated_insurance\", conn, if_exists=\"replace\", index=False)\n",
        "\n",
        "conn.commit()\n",
        "conn.close()\n",
        "\n",
        "print(\"✅ Insurance data loaded into SQLite as 'aggregated_insurance'\")\n"
      ],
      "metadata": {
        "colab": {
          "base_uri": "https://localhost:8080/"
        },
        "id": "a_cUI-0FPsUt",
        "outputId": "3ffb58ff-bd7e-4a74-b54f-2c568d98b5ed"
      },
      "execution_count": null,
      "outputs": [
        {
          "output_type": "stream",
          "name": "stdout",
          "text": [
            "✅ Insurance data loaded into SQLite as 'aggregated_insurance'\n"
          ]
        }
      ]
    },
    {
      "cell_type": "code",
      "source": [
        "conn = sqlite3.connect(\"phonepe_data.db\")\n",
        "df_check = pd.read_sql_query(\"\"\"\n",
        "SELECT state, SUM(transaction_amount) AS total_amount\n",
        "FROM map_transaction\n",
        "GROUP BY state\n",
        "ORDER BY total_amount DESC\n",
        "LIMIT 5\n",
        "\"\"\", conn)\n",
        "\n",
        "conn.close()\n",
        "print(df_check)\n"
      ],
      "metadata": {
        "colab": {
          "base_uri": "https://localhost:8080/"
        },
        "id": "kvUIL7ChIdgV",
        "outputId": "24a60738-c2bb-4b28-def9-20d7e1b9d8f2"
      },
      "execution_count": null,
      "outputs": [
        {
          "output_type": "stream",
          "name": "stdout",
          "text": [
            "            state  total_amount\n",
            "0       telangana  1.666238e+14\n",
            "1       karnataka  1.627149e+14\n",
            "2     maharashtra  1.614968e+14\n",
            "3  andhra-pradesh  1.386763e+14\n",
            "4   uttar-pradesh  1.075408e+14\n"
          ]
        }
      ]
    },
    {
      "cell_type": "code",
      "source": [
        "#1. Total Transaction Amount by State\n",
        "import sqlite3\n",
        "import pandas as pd\n",
        "import plotly.express as px\n",
        "import os\n",
        "\n",
        "# Ensure path exists and connect to DB\n",
        "db_dir = \"/content/drive/MyDrive/phonepe_analysis_project\"\n",
        "db_path = os.path.join(db_dir, \"phonepe_data.db\")\n",
        "conn = sqlite3.connect(db_path)\n",
        "\n",
        "df = pd.read_sql_query(\"\"\"\n",
        "SELECT state, SUM(transaction_amount) AS total_amount\n",
        "FROM aggregated_transaction\n",
        "GROUP BY state\n",
        "ORDER BY total_amount DESC\n",
        "\"\"\", conn)\n",
        "fig = px.bar(df, x=\"state\", y=\"total_amount\", title=\"Total Transaction Amount by State\",\n",
        "             labels={\"total_amount\": \"INR\"}, color=\"total_amount\")\n",
        "fig.show()\n",
        "conn.close()"
      ],
      "metadata": {
        "colab": {
          "base_uri": "https://localhost:8080/",
          "height": 542
        },
        "id": "OIvL7pe1G1xl",
        "outputId": "2d8541a5-6002-48ab-9ebf-09f95c416905"
      },
      "execution_count": 43,
      "outputs": [
        {
          "output_type": "display_data",
          "data": {
            "text/html": [
              "<html>\n",
              "<head><meta charset=\"utf-8\" /></head>\n",
              "<body>\n",
              "    <div>            <script src=\"https://cdnjs.cloudflare.com/ajax/libs/mathjax/2.7.5/MathJax.js?config=TeX-AMS-MML_SVG\"></script><script type=\"text/javascript\">if (window.MathJax && window.MathJax.Hub && window.MathJax.Hub.Config) {window.MathJax.Hub.Config({SVG: {font: \"STIX-Web\"}});}</script>                <script type=\"text/javascript\">window.PlotlyConfig = {MathJaxConfig: 'local'};</script>\n",
              "        <script charset=\"utf-8\" src=\"https://cdn.plot.ly/plotly-2.35.2.min.js\"></script>                <div id=\"74a6ff48-994f-4cdc-8277-f171fe8f3a03\" class=\"plotly-graph-div\" style=\"height:525px; width:100%;\"></div>            <script type=\"text/javascript\">                                    window.PLOTLYENV=window.PLOTLYENV || {};                                    if (document.getElementById(\"74a6ff48-994f-4cdc-8277-f171fe8f3a03\")) {                    Plotly.newPlot(                        \"74a6ff48-994f-4cdc-8277-f171fe8f3a03\",                        [{\"alignmentgroup\":\"True\",\"hovertemplate\":\"state=%{x}\\u003cbr\\u003eINR=%{marker.color}\\u003cextra\\u003e\\u003c\\u002fextra\\u003e\",\"legendgroup\":\"\",\"marker\":{\"color\":[41655955630076.32,40678721773666.37,40374195687971.67,34669080454846.824,26885212184899.86,26343235566259.227,19125279433026.812,17901349344779.715,15584164309413.676,12263982051532.613,11936219022648.535,11637520248963.945,10192905823125.365,9645036562815.906,5906646115660.922,4890472317487.814,3460792155997.8906,3076269164129.137,2983077809927.2935,1916488572014.3162,1184683177572.7312,687537358746.4003,511021161407.30316,292906588372.68604,274434950651.68094,237317074404.2651,201719857192.11557,200583408419.46304,186265635029.7436,162543901207.48492,130358591755.69926,118945401940.84941,88994622100.10213,70667453146.59807,46102103410.33137,1609320784.7771478],\"coloraxis\":\"coloraxis\",\"pattern\":{\"shape\":\"\"}},\"name\":\"\",\"offsetgroup\":\"\",\"orientation\":\"v\",\"showlegend\":false,\"textposition\":\"auto\",\"x\":[\"telangana\",\"karnataka\",\"maharashtra\",\"andhra-pradesh\",\"uttar-pradesh\",\"rajasthan\",\"madhya-pradesh\",\"bihar\",\"west-bengal\",\"odisha\",\"tamil-nadu\",\"delhi\",\"gujarat\",\"haryana\",\"jharkhand\",\"chhattisgarh\",\"assam\",\"kerala\",\"punjab\",\"uttarakhand\",\"jammu-&-kashmir\",\"himachal-pradesh\",\"goa\",\"chandigarh\",\"arunachal-pradesh\",\"puducherry\",\"dadra-&-nagar-haveli-&-daman-&-diu\",\"tripura\",\"manipur\",\"meghalaya\",\"nagaland\",\"sikkim\",\"ladakh\",\"andaman-&-nicobar-islands\",\"mizoram\",\"lakshadweep\"],\"xaxis\":\"x\",\"y\":[41655955630076.32,40678721773666.37,40374195687971.67,34669080454846.824,26885212184899.86,26343235566259.227,19125279433026.812,17901349344779.715,15584164309413.676,12263982051532.613,11936219022648.535,11637520248963.945,10192905823125.365,9645036562815.906,5906646115660.922,4890472317487.814,3460792155997.8906,3076269164129.137,2983077809927.2935,1916488572014.3162,1184683177572.7312,687537358746.4003,511021161407.30316,292906588372.68604,274434950651.68094,237317074404.2651,201719857192.11557,200583408419.46304,186265635029.7436,162543901207.48492,130358591755.69926,118945401940.84941,88994622100.10213,70667453146.59807,46102103410.33137,1609320784.7771478],\"yaxis\":\"y\",\"type\":\"bar\"}],                        {\"template\":{\"data\":{\"histogram2dcontour\":[{\"type\":\"histogram2dcontour\",\"colorbar\":{\"outlinewidth\":0,\"ticks\":\"\"},\"colorscale\":[[0.0,\"#0d0887\"],[0.1111111111111111,\"#46039f\"],[0.2222222222222222,\"#7201a8\"],[0.3333333333333333,\"#9c179e\"],[0.4444444444444444,\"#bd3786\"],[0.5555555555555556,\"#d8576b\"],[0.6666666666666666,\"#ed7953\"],[0.7777777777777778,\"#fb9f3a\"],[0.8888888888888888,\"#fdca26\"],[1.0,\"#f0f921\"]]}],\"choropleth\":[{\"type\":\"choropleth\",\"colorbar\":{\"outlinewidth\":0,\"ticks\":\"\"}}],\"histogram2d\":[{\"type\":\"histogram2d\",\"colorbar\":{\"outlinewidth\":0,\"ticks\":\"\"},\"colorscale\":[[0.0,\"#0d0887\"],[0.1111111111111111,\"#46039f\"],[0.2222222222222222,\"#7201a8\"],[0.3333333333333333,\"#9c179e\"],[0.4444444444444444,\"#bd3786\"],[0.5555555555555556,\"#d8576b\"],[0.6666666666666666,\"#ed7953\"],[0.7777777777777778,\"#fb9f3a\"],[0.8888888888888888,\"#fdca26\"],[1.0,\"#f0f921\"]]}],\"heatmap\":[{\"type\":\"heatmap\",\"colorbar\":{\"outlinewidth\":0,\"ticks\":\"\"},\"colorscale\":[[0.0,\"#0d0887\"],[0.1111111111111111,\"#46039f\"],[0.2222222222222222,\"#7201a8\"],[0.3333333333333333,\"#9c179e\"],[0.4444444444444444,\"#bd3786\"],[0.5555555555555556,\"#d8576b\"],[0.6666666666666666,\"#ed7953\"],[0.7777777777777778,\"#fb9f3a\"],[0.8888888888888888,\"#fdca26\"],[1.0,\"#f0f921\"]]}],\"heatmapgl\":[{\"type\":\"heatmapgl\",\"colorbar\":{\"outlinewidth\":0,\"ticks\":\"\"},\"colorscale\":[[0.0,\"#0d0887\"],[0.1111111111111111,\"#46039f\"],[0.2222222222222222,\"#7201a8\"],[0.3333333333333333,\"#9c179e\"],[0.4444444444444444,\"#bd3786\"],[0.5555555555555556,\"#d8576b\"],[0.6666666666666666,\"#ed7953\"],[0.7777777777777778,\"#fb9f3a\"],[0.8888888888888888,\"#fdca26\"],[1.0,\"#f0f921\"]]}],\"contourcarpet\":[{\"type\":\"contourcarpet\",\"colorbar\":{\"outlinewidth\":0,\"ticks\":\"\"}}],\"contour\":[{\"type\":\"contour\",\"colorbar\":{\"outlinewidth\":0,\"ticks\":\"\"},\"colorscale\":[[0.0,\"#0d0887\"],[0.1111111111111111,\"#46039f\"],[0.2222222222222222,\"#7201a8\"],[0.3333333333333333,\"#9c179e\"],[0.4444444444444444,\"#bd3786\"],[0.5555555555555556,\"#d8576b\"],[0.6666666666666666,\"#ed7953\"],[0.7777777777777778,\"#fb9f3a\"],[0.8888888888888888,\"#fdca26\"],[1.0,\"#f0f921\"]]}],\"surface\":[{\"type\":\"surface\",\"colorbar\":{\"outlinewidth\":0,\"ticks\":\"\"},\"colorscale\":[[0.0,\"#0d0887\"],[0.1111111111111111,\"#46039f\"],[0.2222222222222222,\"#7201a8\"],[0.3333333333333333,\"#9c179e\"],[0.4444444444444444,\"#bd3786\"],[0.5555555555555556,\"#d8576b\"],[0.6666666666666666,\"#ed7953\"],[0.7777777777777778,\"#fb9f3a\"],[0.8888888888888888,\"#fdca26\"],[1.0,\"#f0f921\"]]}],\"mesh3d\":[{\"type\":\"mesh3d\",\"colorbar\":{\"outlinewidth\":0,\"ticks\":\"\"}}],\"scatter\":[{\"fillpattern\":{\"fillmode\":\"overlay\",\"size\":10,\"solidity\":0.2},\"type\":\"scatter\"}],\"parcoords\":[{\"type\":\"parcoords\",\"line\":{\"colorbar\":{\"outlinewidth\":0,\"ticks\":\"\"}}}],\"scatterpolargl\":[{\"type\":\"scatterpolargl\",\"marker\":{\"colorbar\":{\"outlinewidth\":0,\"ticks\":\"\"}}}],\"bar\":[{\"error_x\":{\"color\":\"#2a3f5f\"},\"error_y\":{\"color\":\"#2a3f5f\"},\"marker\":{\"line\":{\"color\":\"#E5ECF6\",\"width\":0.5},\"pattern\":{\"fillmode\":\"overlay\",\"size\":10,\"solidity\":0.2}},\"type\":\"bar\"}],\"scattergeo\":[{\"type\":\"scattergeo\",\"marker\":{\"colorbar\":{\"outlinewidth\":0,\"ticks\":\"\"}}}],\"scatterpolar\":[{\"type\":\"scatterpolar\",\"marker\":{\"colorbar\":{\"outlinewidth\":0,\"ticks\":\"\"}}}],\"histogram\":[{\"marker\":{\"pattern\":{\"fillmode\":\"overlay\",\"size\":10,\"solidity\":0.2}},\"type\":\"histogram\"}],\"scattergl\":[{\"type\":\"scattergl\",\"marker\":{\"colorbar\":{\"outlinewidth\":0,\"ticks\":\"\"}}}],\"scatter3d\":[{\"type\":\"scatter3d\",\"line\":{\"colorbar\":{\"outlinewidth\":0,\"ticks\":\"\"}},\"marker\":{\"colorbar\":{\"outlinewidth\":0,\"ticks\":\"\"}}}],\"scattermapbox\":[{\"type\":\"scattermapbox\",\"marker\":{\"colorbar\":{\"outlinewidth\":0,\"ticks\":\"\"}}}],\"scatterternary\":[{\"type\":\"scatterternary\",\"marker\":{\"colorbar\":{\"outlinewidth\":0,\"ticks\":\"\"}}}],\"scattercarpet\":[{\"type\":\"scattercarpet\",\"marker\":{\"colorbar\":{\"outlinewidth\":0,\"ticks\":\"\"}}}],\"carpet\":[{\"aaxis\":{\"endlinecolor\":\"#2a3f5f\",\"gridcolor\":\"white\",\"linecolor\":\"white\",\"minorgridcolor\":\"white\",\"startlinecolor\":\"#2a3f5f\"},\"baxis\":{\"endlinecolor\":\"#2a3f5f\",\"gridcolor\":\"white\",\"linecolor\":\"white\",\"minorgridcolor\":\"white\",\"startlinecolor\":\"#2a3f5f\"},\"type\":\"carpet\"}],\"table\":[{\"cells\":{\"fill\":{\"color\":\"#EBF0F8\"},\"line\":{\"color\":\"white\"}},\"header\":{\"fill\":{\"color\":\"#C8D4E3\"},\"line\":{\"color\":\"white\"}},\"type\":\"table\"}],\"barpolar\":[{\"marker\":{\"line\":{\"color\":\"#E5ECF6\",\"width\":0.5},\"pattern\":{\"fillmode\":\"overlay\",\"size\":10,\"solidity\":0.2}},\"type\":\"barpolar\"}],\"pie\":[{\"automargin\":true,\"type\":\"pie\"}]},\"layout\":{\"autotypenumbers\":\"strict\",\"colorway\":[\"#636efa\",\"#EF553B\",\"#00cc96\",\"#ab63fa\",\"#FFA15A\",\"#19d3f3\",\"#FF6692\",\"#B6E880\",\"#FF97FF\",\"#FECB52\"],\"font\":{\"color\":\"#2a3f5f\"},\"hovermode\":\"closest\",\"hoverlabel\":{\"align\":\"left\"},\"paper_bgcolor\":\"white\",\"plot_bgcolor\":\"#E5ECF6\",\"polar\":{\"bgcolor\":\"#E5ECF6\",\"angularaxis\":{\"gridcolor\":\"white\",\"linecolor\":\"white\",\"ticks\":\"\"},\"radialaxis\":{\"gridcolor\":\"white\",\"linecolor\":\"white\",\"ticks\":\"\"}},\"ternary\":{\"bgcolor\":\"#E5ECF6\",\"aaxis\":{\"gridcolor\":\"white\",\"linecolor\":\"white\",\"ticks\":\"\"},\"baxis\":{\"gridcolor\":\"white\",\"linecolor\":\"white\",\"ticks\":\"\"},\"caxis\":{\"gridcolor\":\"white\",\"linecolor\":\"white\",\"ticks\":\"\"}},\"coloraxis\":{\"colorbar\":{\"outlinewidth\":0,\"ticks\":\"\"}},\"colorscale\":{\"sequential\":[[0.0,\"#0d0887\"],[0.1111111111111111,\"#46039f\"],[0.2222222222222222,\"#7201a8\"],[0.3333333333333333,\"#9c179e\"],[0.4444444444444444,\"#bd3786\"],[0.5555555555555556,\"#d8576b\"],[0.6666666666666666,\"#ed7953\"],[0.7777777777777778,\"#fb9f3a\"],[0.8888888888888888,\"#fdca26\"],[1.0,\"#f0f921\"]],\"sequentialminus\":[[0.0,\"#0d0887\"],[0.1111111111111111,\"#46039f\"],[0.2222222222222222,\"#7201a8\"],[0.3333333333333333,\"#9c179e\"],[0.4444444444444444,\"#bd3786\"],[0.5555555555555556,\"#d8576b\"],[0.6666666666666666,\"#ed7953\"],[0.7777777777777778,\"#fb9f3a\"],[0.8888888888888888,\"#fdca26\"],[1.0,\"#f0f921\"]],\"diverging\":[[0,\"#8e0152\"],[0.1,\"#c51b7d\"],[0.2,\"#de77ae\"],[0.3,\"#f1b6da\"],[0.4,\"#fde0ef\"],[0.5,\"#f7f7f7\"],[0.6,\"#e6f5d0\"],[0.7,\"#b8e186\"],[0.8,\"#7fbc41\"],[0.9,\"#4d9221\"],[1,\"#276419\"]]},\"xaxis\":{\"gridcolor\":\"white\",\"linecolor\":\"white\",\"ticks\":\"\",\"title\":{\"standoff\":15},\"zerolinecolor\":\"white\",\"automargin\":true,\"zerolinewidth\":2},\"yaxis\":{\"gridcolor\":\"white\",\"linecolor\":\"white\",\"ticks\":\"\",\"title\":{\"standoff\":15},\"zerolinecolor\":\"white\",\"automargin\":true,\"zerolinewidth\":2},\"scene\":{\"xaxis\":{\"backgroundcolor\":\"#E5ECF6\",\"gridcolor\":\"white\",\"linecolor\":\"white\",\"showbackground\":true,\"ticks\":\"\",\"zerolinecolor\":\"white\",\"gridwidth\":2},\"yaxis\":{\"backgroundcolor\":\"#E5ECF6\",\"gridcolor\":\"white\",\"linecolor\":\"white\",\"showbackground\":true,\"ticks\":\"\",\"zerolinecolor\":\"white\",\"gridwidth\":2},\"zaxis\":{\"backgroundcolor\":\"#E5ECF6\",\"gridcolor\":\"white\",\"linecolor\":\"white\",\"showbackground\":true,\"ticks\":\"\",\"zerolinecolor\":\"white\",\"gridwidth\":2}},\"shapedefaults\":{\"line\":{\"color\":\"#2a3f5f\"}},\"annotationdefaults\":{\"arrowcolor\":\"#2a3f5f\",\"arrowhead\":0,\"arrowwidth\":1},\"geo\":{\"bgcolor\":\"white\",\"landcolor\":\"#E5ECF6\",\"subunitcolor\":\"white\",\"showland\":true,\"showlakes\":true,\"lakecolor\":\"white\"},\"title\":{\"x\":0.05},\"mapbox\":{\"style\":\"light\"}}},\"xaxis\":{\"anchor\":\"y\",\"domain\":[0.0,1.0],\"title\":{\"text\":\"state\"}},\"yaxis\":{\"anchor\":\"x\",\"domain\":[0.0,1.0],\"title\":{\"text\":\"INR\"}},\"coloraxis\":{\"colorbar\":{\"title\":{\"text\":\"INR\"}},\"colorscale\":[[0.0,\"#0d0887\"],[0.1111111111111111,\"#46039f\"],[0.2222222222222222,\"#7201a8\"],[0.3333333333333333,\"#9c179e\"],[0.4444444444444444,\"#bd3786\"],[0.5555555555555556,\"#d8576b\"],[0.6666666666666666,\"#ed7953\"],[0.7777777777777778,\"#fb9f3a\"],[0.8888888888888888,\"#fdca26\"],[1.0,\"#f0f921\"]]},\"legend\":{\"tracegroupgap\":0},\"title\":{\"text\":\"Total Transaction Amount by State\"},\"barmode\":\"relative\"},                        {\"responsive\": true}                    ).then(function(){\n",
              "                            \n",
              "var gd = document.getElementById('74a6ff48-994f-4cdc-8277-f171fe8f3a03');\n",
              "var x = new MutationObserver(function (mutations, observer) {{\n",
              "        var display = window.getComputedStyle(gd).display;\n",
              "        if (!display || display === 'none') {{\n",
              "            console.log([gd, 'removed!']);\n",
              "            Plotly.purge(gd);\n",
              "            observer.disconnect();\n",
              "        }}\n",
              "}});\n",
              "\n",
              "// Listen for the removal of the full notebook cells\n",
              "var notebookContainer = gd.closest('#notebook-container');\n",
              "if (notebookContainer) {{\n",
              "    x.observe(notebookContainer, {childList: true});\n",
              "}}\n",
              "\n",
              "// Listen for the clearing of the current output cell\n",
              "var outputEl = gd.closest('.output');\n",
              "if (outputEl) {{\n",
              "    x.observe(outputEl, {childList: true});\n",
              "}}\n",
              "\n",
              "                        })                };                            </script>        </div>\n",
              "</body>\n",
              "</html>"
            ]
          },
          "metadata": {}
        }
      ]
    },
    {
      "cell_type": "code",
      "source": [
        "# 2. Quarterly Growth Over Time\n",
        "import sqlite3\n",
        "import pandas as pd\n",
        "import plotly.express as px\n",
        "import os\n",
        "\n",
        "# Ensure path exists and connect to DB\n",
        "db_dir = \"/content/drive/MyDrive/phonepe_analysis_project\"\n",
        "db_path = os.path.join(db_dir, \"phonepe_data.db\")\n",
        "conn = sqlite3.connect(db_path)\n",
        "\n",
        "\n",
        "df_time = pd.read_sql_query(\"\"\"\n",
        "SELECT year, quarter, SUM(transaction_amount) AS total_amount\n",
        "FROM aggregated_transaction\n",
        "GROUP BY year, quarter\n",
        "ORDER BY year, quarter\n",
        "\"\"\", conn)\n",
        "\n",
        "df_time['quarter_label'] = df_time['year'].astype(str) + '-Q' + df_time['quarter'].astype(str)\n",
        "\n",
        "fig = px.line(df_time, x=\"quarter_label\", y=\"total_amount\",\n",
        "              title=\"Transaction Volume Over Time\", markers=True)\n",
        "fig.show()\n",
        "conn.close()"
      ],
      "metadata": {
        "colab": {
          "base_uri": "https://localhost:8080/",
          "height": 542
        },
        "id": "5aJfFrfBIyy6",
        "outputId": "7e546ce6-4559-42f1-9c87-59bc05b1019a"
      },
      "execution_count": 44,
      "outputs": [
        {
          "output_type": "display_data",
          "data": {
            "text/html": [
              "<html>\n",
              "<head><meta charset=\"utf-8\" /></head>\n",
              "<body>\n",
              "    <div>            <script src=\"https://cdnjs.cloudflare.com/ajax/libs/mathjax/2.7.5/MathJax.js?config=TeX-AMS-MML_SVG\"></script><script type=\"text/javascript\">if (window.MathJax && window.MathJax.Hub && window.MathJax.Hub.Config) {window.MathJax.Hub.Config({SVG: {font: \"STIX-Web\"}});}</script>                <script type=\"text/javascript\">window.PlotlyConfig = {MathJaxConfig: 'local'};</script>\n",
              "        <script charset=\"utf-8\" src=\"https://cdn.plot.ly/plotly-2.35.2.min.js\"></script>                <div id=\"b781af0e-ff0e-41bd-937b-87daa3ff8ad8\" class=\"plotly-graph-div\" style=\"height:525px; width:100%;\"></div>            <script type=\"text/javascript\">                                    window.PLOTLYENV=window.PLOTLYENV || {};                                    if (document.getElementById(\"b781af0e-ff0e-41bd-937b-87daa3ff8ad8\")) {                    Plotly.newPlot(                        \"b781af0e-ff0e-41bd-937b-87daa3ff8ad8\",                        [{\"hovertemplate\":\"quarter_label=%{x}\\u003cbr\\u003etotal_amount=%{y}\\u003cextra\\u003e\\u003c\\u002fextra\\u003e\",\"legendgroup\":\"\",\"line\":{\"color\":\"#636efa\",\"dash\":\"solid\"},\"marker\":{\"symbol\":\"circle\"},\"mode\":\"lines+markers\",\"name\":\"\",\"orientation\":\"v\",\"showlegend\":false,\"x\":[\"2018-Q1\",\"2018-Q2\",\"2018-Q3\",\"2018-Q4\",\"2019-Q1\",\"2019-Q2\",\"2019-Q3\",\"2019-Q4\",\"2020-Q1\",\"2020-Q2\",\"2020-Q3\",\"2020-Q4\",\"2021-Q1\",\"2021-Q2\",\"2021-Q3\",\"2021-Q4\",\"2022-Q1\",\"2022-Q2\",\"2022-Q3\",\"2022-Q4\",\"2023-Q1\",\"2023-Q2\",\"2023-Q3\",\"2023-Q4\",\"2024-Q1\",\"2024-Q2\",\"2024-Q3\",\"2024-Q4\"],\"xaxis\":\"x\",\"y\":[171833431017.2779,304374211667.2506,475101505615.088,671736248114.2788,990021362110.7192,1354214037092.4795,1672558991160.4326,2259893742825.303,2697112477804.363,2646145107972.5137,3902052996364.5977,5395851395919.399,6284243458495.546,7476465966616.802,9216696087968.555,11621294174085.568,13239630479532.398,15504186488519.033,16607627424877.023,18914888517976.89,20513958015507.0,22918494291740.0,24012133575374.0,27047227516500.0,29458433889692.0,31820350925931.0,32346967630310.0,35998800884597.0],\"yaxis\":\"y\",\"type\":\"scatter\"}],                        {\"template\":{\"data\":{\"histogram2dcontour\":[{\"type\":\"histogram2dcontour\",\"colorbar\":{\"outlinewidth\":0,\"ticks\":\"\"},\"colorscale\":[[0.0,\"#0d0887\"],[0.1111111111111111,\"#46039f\"],[0.2222222222222222,\"#7201a8\"],[0.3333333333333333,\"#9c179e\"],[0.4444444444444444,\"#bd3786\"],[0.5555555555555556,\"#d8576b\"],[0.6666666666666666,\"#ed7953\"],[0.7777777777777778,\"#fb9f3a\"],[0.8888888888888888,\"#fdca26\"],[1.0,\"#f0f921\"]]}],\"choropleth\":[{\"type\":\"choropleth\",\"colorbar\":{\"outlinewidth\":0,\"ticks\":\"\"}}],\"histogram2d\":[{\"type\":\"histogram2d\",\"colorbar\":{\"outlinewidth\":0,\"ticks\":\"\"},\"colorscale\":[[0.0,\"#0d0887\"],[0.1111111111111111,\"#46039f\"],[0.2222222222222222,\"#7201a8\"],[0.3333333333333333,\"#9c179e\"],[0.4444444444444444,\"#bd3786\"],[0.5555555555555556,\"#d8576b\"],[0.6666666666666666,\"#ed7953\"],[0.7777777777777778,\"#fb9f3a\"],[0.8888888888888888,\"#fdca26\"],[1.0,\"#f0f921\"]]}],\"heatmap\":[{\"type\":\"heatmap\",\"colorbar\":{\"outlinewidth\":0,\"ticks\":\"\"},\"colorscale\":[[0.0,\"#0d0887\"],[0.1111111111111111,\"#46039f\"],[0.2222222222222222,\"#7201a8\"],[0.3333333333333333,\"#9c179e\"],[0.4444444444444444,\"#bd3786\"],[0.5555555555555556,\"#d8576b\"],[0.6666666666666666,\"#ed7953\"],[0.7777777777777778,\"#fb9f3a\"],[0.8888888888888888,\"#fdca26\"],[1.0,\"#f0f921\"]]}],\"heatmapgl\":[{\"type\":\"heatmapgl\",\"colorbar\":{\"outlinewidth\":0,\"ticks\":\"\"},\"colorscale\":[[0.0,\"#0d0887\"],[0.1111111111111111,\"#46039f\"],[0.2222222222222222,\"#7201a8\"],[0.3333333333333333,\"#9c179e\"],[0.4444444444444444,\"#bd3786\"],[0.5555555555555556,\"#d8576b\"],[0.6666666666666666,\"#ed7953\"],[0.7777777777777778,\"#fb9f3a\"],[0.8888888888888888,\"#fdca26\"],[1.0,\"#f0f921\"]]}],\"contourcarpet\":[{\"type\":\"contourcarpet\",\"colorbar\":{\"outlinewidth\":0,\"ticks\":\"\"}}],\"contour\":[{\"type\":\"contour\",\"colorbar\":{\"outlinewidth\":0,\"ticks\":\"\"},\"colorscale\":[[0.0,\"#0d0887\"],[0.1111111111111111,\"#46039f\"],[0.2222222222222222,\"#7201a8\"],[0.3333333333333333,\"#9c179e\"],[0.4444444444444444,\"#bd3786\"],[0.5555555555555556,\"#d8576b\"],[0.6666666666666666,\"#ed7953\"],[0.7777777777777778,\"#fb9f3a\"],[0.8888888888888888,\"#fdca26\"],[1.0,\"#f0f921\"]]}],\"surface\":[{\"type\":\"surface\",\"colorbar\":{\"outlinewidth\":0,\"ticks\":\"\"},\"colorscale\":[[0.0,\"#0d0887\"],[0.1111111111111111,\"#46039f\"],[0.2222222222222222,\"#7201a8\"],[0.3333333333333333,\"#9c179e\"],[0.4444444444444444,\"#bd3786\"],[0.5555555555555556,\"#d8576b\"],[0.6666666666666666,\"#ed7953\"],[0.7777777777777778,\"#fb9f3a\"],[0.8888888888888888,\"#fdca26\"],[1.0,\"#f0f921\"]]}],\"mesh3d\":[{\"type\":\"mesh3d\",\"colorbar\":{\"outlinewidth\":0,\"ticks\":\"\"}}],\"scatter\":[{\"fillpattern\":{\"fillmode\":\"overlay\",\"size\":10,\"solidity\":0.2},\"type\":\"scatter\"}],\"parcoords\":[{\"type\":\"parcoords\",\"line\":{\"colorbar\":{\"outlinewidth\":0,\"ticks\":\"\"}}}],\"scatterpolargl\":[{\"type\":\"scatterpolargl\",\"marker\":{\"colorbar\":{\"outlinewidth\":0,\"ticks\":\"\"}}}],\"bar\":[{\"error_x\":{\"color\":\"#2a3f5f\"},\"error_y\":{\"color\":\"#2a3f5f\"},\"marker\":{\"line\":{\"color\":\"#E5ECF6\",\"width\":0.5},\"pattern\":{\"fillmode\":\"overlay\",\"size\":10,\"solidity\":0.2}},\"type\":\"bar\"}],\"scattergeo\":[{\"type\":\"scattergeo\",\"marker\":{\"colorbar\":{\"outlinewidth\":0,\"ticks\":\"\"}}}],\"scatterpolar\":[{\"type\":\"scatterpolar\",\"marker\":{\"colorbar\":{\"outlinewidth\":0,\"ticks\":\"\"}}}],\"histogram\":[{\"marker\":{\"pattern\":{\"fillmode\":\"overlay\",\"size\":10,\"solidity\":0.2}},\"type\":\"histogram\"}],\"scattergl\":[{\"type\":\"scattergl\",\"marker\":{\"colorbar\":{\"outlinewidth\":0,\"ticks\":\"\"}}}],\"scatter3d\":[{\"type\":\"scatter3d\",\"line\":{\"colorbar\":{\"outlinewidth\":0,\"ticks\":\"\"}},\"marker\":{\"colorbar\":{\"outlinewidth\":0,\"ticks\":\"\"}}}],\"scattermapbox\":[{\"type\":\"scattermapbox\",\"marker\":{\"colorbar\":{\"outlinewidth\":0,\"ticks\":\"\"}}}],\"scatterternary\":[{\"type\":\"scatterternary\",\"marker\":{\"colorbar\":{\"outlinewidth\":0,\"ticks\":\"\"}}}],\"scattercarpet\":[{\"type\":\"scattercarpet\",\"marker\":{\"colorbar\":{\"outlinewidth\":0,\"ticks\":\"\"}}}],\"carpet\":[{\"aaxis\":{\"endlinecolor\":\"#2a3f5f\",\"gridcolor\":\"white\",\"linecolor\":\"white\",\"minorgridcolor\":\"white\",\"startlinecolor\":\"#2a3f5f\"},\"baxis\":{\"endlinecolor\":\"#2a3f5f\",\"gridcolor\":\"white\",\"linecolor\":\"white\",\"minorgridcolor\":\"white\",\"startlinecolor\":\"#2a3f5f\"},\"type\":\"carpet\"}],\"table\":[{\"cells\":{\"fill\":{\"color\":\"#EBF0F8\"},\"line\":{\"color\":\"white\"}},\"header\":{\"fill\":{\"color\":\"#C8D4E3\"},\"line\":{\"color\":\"white\"}},\"type\":\"table\"}],\"barpolar\":[{\"marker\":{\"line\":{\"color\":\"#E5ECF6\",\"width\":0.5},\"pattern\":{\"fillmode\":\"overlay\",\"size\":10,\"solidity\":0.2}},\"type\":\"barpolar\"}],\"pie\":[{\"automargin\":true,\"type\":\"pie\"}]},\"layout\":{\"autotypenumbers\":\"strict\",\"colorway\":[\"#636efa\",\"#EF553B\",\"#00cc96\",\"#ab63fa\",\"#FFA15A\",\"#19d3f3\",\"#FF6692\",\"#B6E880\",\"#FF97FF\",\"#FECB52\"],\"font\":{\"color\":\"#2a3f5f\"},\"hovermode\":\"closest\",\"hoverlabel\":{\"align\":\"left\"},\"paper_bgcolor\":\"white\",\"plot_bgcolor\":\"#E5ECF6\",\"polar\":{\"bgcolor\":\"#E5ECF6\",\"angularaxis\":{\"gridcolor\":\"white\",\"linecolor\":\"white\",\"ticks\":\"\"},\"radialaxis\":{\"gridcolor\":\"white\",\"linecolor\":\"white\",\"ticks\":\"\"}},\"ternary\":{\"bgcolor\":\"#E5ECF6\",\"aaxis\":{\"gridcolor\":\"white\",\"linecolor\":\"white\",\"ticks\":\"\"},\"baxis\":{\"gridcolor\":\"white\",\"linecolor\":\"white\",\"ticks\":\"\"},\"caxis\":{\"gridcolor\":\"white\",\"linecolor\":\"white\",\"ticks\":\"\"}},\"coloraxis\":{\"colorbar\":{\"outlinewidth\":0,\"ticks\":\"\"}},\"colorscale\":{\"sequential\":[[0.0,\"#0d0887\"],[0.1111111111111111,\"#46039f\"],[0.2222222222222222,\"#7201a8\"],[0.3333333333333333,\"#9c179e\"],[0.4444444444444444,\"#bd3786\"],[0.5555555555555556,\"#d8576b\"],[0.6666666666666666,\"#ed7953\"],[0.7777777777777778,\"#fb9f3a\"],[0.8888888888888888,\"#fdca26\"],[1.0,\"#f0f921\"]],\"sequentialminus\":[[0.0,\"#0d0887\"],[0.1111111111111111,\"#46039f\"],[0.2222222222222222,\"#7201a8\"],[0.3333333333333333,\"#9c179e\"],[0.4444444444444444,\"#bd3786\"],[0.5555555555555556,\"#d8576b\"],[0.6666666666666666,\"#ed7953\"],[0.7777777777777778,\"#fb9f3a\"],[0.8888888888888888,\"#fdca26\"],[1.0,\"#f0f921\"]],\"diverging\":[[0,\"#8e0152\"],[0.1,\"#c51b7d\"],[0.2,\"#de77ae\"],[0.3,\"#f1b6da\"],[0.4,\"#fde0ef\"],[0.5,\"#f7f7f7\"],[0.6,\"#e6f5d0\"],[0.7,\"#b8e186\"],[0.8,\"#7fbc41\"],[0.9,\"#4d9221\"],[1,\"#276419\"]]},\"xaxis\":{\"gridcolor\":\"white\",\"linecolor\":\"white\",\"ticks\":\"\",\"title\":{\"standoff\":15},\"zerolinecolor\":\"white\",\"automargin\":true,\"zerolinewidth\":2},\"yaxis\":{\"gridcolor\":\"white\",\"linecolor\":\"white\",\"ticks\":\"\",\"title\":{\"standoff\":15},\"zerolinecolor\":\"white\",\"automargin\":true,\"zerolinewidth\":2},\"scene\":{\"xaxis\":{\"backgroundcolor\":\"#E5ECF6\",\"gridcolor\":\"white\",\"linecolor\":\"white\",\"showbackground\":true,\"ticks\":\"\",\"zerolinecolor\":\"white\",\"gridwidth\":2},\"yaxis\":{\"backgroundcolor\":\"#E5ECF6\",\"gridcolor\":\"white\",\"linecolor\":\"white\",\"showbackground\":true,\"ticks\":\"\",\"zerolinecolor\":\"white\",\"gridwidth\":2},\"zaxis\":{\"backgroundcolor\":\"#E5ECF6\",\"gridcolor\":\"white\",\"linecolor\":\"white\",\"showbackground\":true,\"ticks\":\"\",\"zerolinecolor\":\"white\",\"gridwidth\":2}},\"shapedefaults\":{\"line\":{\"color\":\"#2a3f5f\"}},\"annotationdefaults\":{\"arrowcolor\":\"#2a3f5f\",\"arrowhead\":0,\"arrowwidth\":1},\"geo\":{\"bgcolor\":\"white\",\"landcolor\":\"#E5ECF6\",\"subunitcolor\":\"white\",\"showland\":true,\"showlakes\":true,\"lakecolor\":\"white\"},\"title\":{\"x\":0.05},\"mapbox\":{\"style\":\"light\"}}},\"xaxis\":{\"anchor\":\"y\",\"domain\":[0.0,1.0],\"title\":{\"text\":\"quarter_label\"}},\"yaxis\":{\"anchor\":\"x\",\"domain\":[0.0,1.0],\"title\":{\"text\":\"total_amount\"}},\"legend\":{\"tracegroupgap\":0},\"title\":{\"text\":\"Transaction Volume Over Time\"}},                        {\"responsive\": true}                    ).then(function(){\n",
              "                            \n",
              "var gd = document.getElementById('b781af0e-ff0e-41bd-937b-87daa3ff8ad8');\n",
              "var x = new MutationObserver(function (mutations, observer) {{\n",
              "        var display = window.getComputedStyle(gd).display;\n",
              "        if (!display || display === 'none') {{\n",
              "            console.log([gd, 'removed!']);\n",
              "            Plotly.purge(gd);\n",
              "            observer.disconnect();\n",
              "        }}\n",
              "}});\n",
              "\n",
              "// Listen for the removal of the full notebook cells\n",
              "var notebookContainer = gd.closest('#notebook-container');\n",
              "if (notebookContainer) {{\n",
              "    x.observe(notebookContainer, {childList: true});\n",
              "}}\n",
              "\n",
              "// Listen for the clearing of the current output cell\n",
              "var outputEl = gd.closest('.output');\n",
              "if (outputEl) {{\n",
              "    x.observe(outputEl, {childList: true});\n",
              "}}\n",
              "\n",
              "                        })                };                            </script>        </div>\n",
              "</body>\n",
              "</html>"
            ]
          },
          "metadata": {}
        }
      ]
    },
    {
      "cell_type": "code",
      "source": [
        "import pandas as pd\n",
        "\n",
        "df = pd.read_csv(\"extracted_csvs/aggregated_insurance.csv\")\n",
        "df.head()\n",
        "\n"
      ],
      "metadata": {
        "colab": {
          "base_uri": "https://localhost:8080/",
          "height": 206
        },
        "id": "dCmx9n60PJxo",
        "outputId": "5df776ba-0281-4a3c-8254-00a5f2919b97"
      },
      "execution_count": null,
      "outputs": [
        {
          "output_type": "execute_result",
          "data": {
            "text/plain": [
              "       state  year  quarter  insurance_count  insurance_amount\n",
              "0  rajasthan  2020        4                0               0.0\n",
              "1  rajasthan  2020        2                0               0.0\n",
              "2  rajasthan  2020        3                0               0.0\n",
              "3  rajasthan  2022        1                0               0.0\n",
              "4  rajasthan  2022        4                0               0.0"
            ],
            "text/html": [
              "\n",
              "  <div id=\"df-3809a63a-b0a7-4e20-881c-474124ae6dfc\" class=\"colab-df-container\">\n",
              "    <div>\n",
              "<style scoped>\n",
              "    .dataframe tbody tr th:only-of-type {\n",
              "        vertical-align: middle;\n",
              "    }\n",
              "\n",
              "    .dataframe tbody tr th {\n",
              "        vertical-align: top;\n",
              "    }\n",
              "\n",
              "    .dataframe thead th {\n",
              "        text-align: right;\n",
              "    }\n",
              "</style>\n",
              "<table border=\"1\" class=\"dataframe\">\n",
              "  <thead>\n",
              "    <tr style=\"text-align: right;\">\n",
              "      <th></th>\n",
              "      <th>state</th>\n",
              "      <th>year</th>\n",
              "      <th>quarter</th>\n",
              "      <th>insurance_count</th>\n",
              "      <th>insurance_amount</th>\n",
              "    </tr>\n",
              "  </thead>\n",
              "  <tbody>\n",
              "    <tr>\n",
              "      <th>0</th>\n",
              "      <td>rajasthan</td>\n",
              "      <td>2020</td>\n",
              "      <td>4</td>\n",
              "      <td>0</td>\n",
              "      <td>0.0</td>\n",
              "    </tr>\n",
              "    <tr>\n",
              "      <th>1</th>\n",
              "      <td>rajasthan</td>\n",
              "      <td>2020</td>\n",
              "      <td>2</td>\n",
              "      <td>0</td>\n",
              "      <td>0.0</td>\n",
              "    </tr>\n",
              "    <tr>\n",
              "      <th>2</th>\n",
              "      <td>rajasthan</td>\n",
              "      <td>2020</td>\n",
              "      <td>3</td>\n",
              "      <td>0</td>\n",
              "      <td>0.0</td>\n",
              "    </tr>\n",
              "    <tr>\n",
              "      <th>3</th>\n",
              "      <td>rajasthan</td>\n",
              "      <td>2022</td>\n",
              "      <td>1</td>\n",
              "      <td>0</td>\n",
              "      <td>0.0</td>\n",
              "    </tr>\n",
              "    <tr>\n",
              "      <th>4</th>\n",
              "      <td>rajasthan</td>\n",
              "      <td>2022</td>\n",
              "      <td>4</td>\n",
              "      <td>0</td>\n",
              "      <td>0.0</td>\n",
              "    </tr>\n",
              "  </tbody>\n",
              "</table>\n",
              "</div>\n",
              "    <div class=\"colab-df-buttons\">\n",
              "\n",
              "  <div class=\"colab-df-container\">\n",
              "    <button class=\"colab-df-convert\" onclick=\"convertToInteractive('df-3809a63a-b0a7-4e20-881c-474124ae6dfc')\"\n",
              "            title=\"Convert this dataframe to an interactive table.\"\n",
              "            style=\"display:none;\">\n",
              "\n",
              "  <svg xmlns=\"http://www.w3.org/2000/svg\" height=\"24px\" viewBox=\"0 -960 960 960\">\n",
              "    <path d=\"M120-120v-720h720v720H120Zm60-500h600v-160H180v160Zm220 220h160v-160H400v160Zm0 220h160v-160H400v160ZM180-400h160v-160H180v160Zm440 0h160v-160H620v160ZM180-180h160v-160H180v160Zm440 0h160v-160H620v160Z\"/>\n",
              "  </svg>\n",
              "    </button>\n",
              "\n",
              "  <style>\n",
              "    .colab-df-container {\n",
              "      display:flex;\n",
              "      gap: 12px;\n",
              "    }\n",
              "\n",
              "    .colab-df-convert {\n",
              "      background-color: #E8F0FE;\n",
              "      border: none;\n",
              "      border-radius: 50%;\n",
              "      cursor: pointer;\n",
              "      display: none;\n",
              "      fill: #1967D2;\n",
              "      height: 32px;\n",
              "      padding: 0 0 0 0;\n",
              "      width: 32px;\n",
              "    }\n",
              "\n",
              "    .colab-df-convert:hover {\n",
              "      background-color: #E2EBFA;\n",
              "      box-shadow: 0px 1px 2px rgba(60, 64, 67, 0.3), 0px 1px 3px 1px rgba(60, 64, 67, 0.15);\n",
              "      fill: #174EA6;\n",
              "    }\n",
              "\n",
              "    .colab-df-buttons div {\n",
              "      margin-bottom: 4px;\n",
              "    }\n",
              "\n",
              "    [theme=dark] .colab-df-convert {\n",
              "      background-color: #3B4455;\n",
              "      fill: #D2E3FC;\n",
              "    }\n",
              "\n",
              "    [theme=dark] .colab-df-convert:hover {\n",
              "      background-color: #434B5C;\n",
              "      box-shadow: 0px 1px 3px 1px rgba(0, 0, 0, 0.15);\n",
              "      filter: drop-shadow(0px 1px 2px rgba(0, 0, 0, 0.3));\n",
              "      fill: #FFFFFF;\n",
              "    }\n",
              "  </style>\n",
              "\n",
              "    <script>\n",
              "      const buttonEl =\n",
              "        document.querySelector('#df-3809a63a-b0a7-4e20-881c-474124ae6dfc button.colab-df-convert');\n",
              "      buttonEl.style.display =\n",
              "        google.colab.kernel.accessAllowed ? 'block' : 'none';\n",
              "\n",
              "      async function convertToInteractive(key) {\n",
              "        const element = document.querySelector('#df-3809a63a-b0a7-4e20-881c-474124ae6dfc');\n",
              "        const dataTable =\n",
              "          await google.colab.kernel.invokeFunction('convertToInteractive',\n",
              "                                                    [key], {});\n",
              "        if (!dataTable) return;\n",
              "\n",
              "        const docLinkHtml = 'Like what you see? Visit the ' +\n",
              "          '<a target=\"_blank\" href=https://colab.research.google.com/notebooks/data_table.ipynb>data table notebook</a>'\n",
              "          + ' to learn more about interactive tables.';\n",
              "        element.innerHTML = '';\n",
              "        dataTable['output_type'] = 'display_data';\n",
              "        await google.colab.output.renderOutput(dataTable, element);\n",
              "        const docLink = document.createElement('div');\n",
              "        docLink.innerHTML = docLinkHtml;\n",
              "        element.appendChild(docLink);\n",
              "      }\n",
              "    </script>\n",
              "  </div>\n",
              "\n",
              "\n",
              "    <div id=\"df-e76b2a37-3128-46ff-8630-afd00c44f4f8\">\n",
              "      <button class=\"colab-df-quickchart\" onclick=\"quickchart('df-e76b2a37-3128-46ff-8630-afd00c44f4f8')\"\n",
              "                title=\"Suggest charts\"\n",
              "                style=\"display:none;\">\n",
              "\n",
              "<svg xmlns=\"http://www.w3.org/2000/svg\" height=\"24px\"viewBox=\"0 0 24 24\"\n",
              "     width=\"24px\">\n",
              "    <g>\n",
              "        <path d=\"M19 3H5c-1.1 0-2 .9-2 2v14c0 1.1.9 2 2 2h14c1.1 0 2-.9 2-2V5c0-1.1-.9-2-2-2zM9 17H7v-7h2v7zm4 0h-2V7h2v10zm4 0h-2v-4h2v4z\"/>\n",
              "    </g>\n",
              "</svg>\n",
              "      </button>\n",
              "\n",
              "<style>\n",
              "  .colab-df-quickchart {\n",
              "      --bg-color: #E8F0FE;\n",
              "      --fill-color: #1967D2;\n",
              "      --hover-bg-color: #E2EBFA;\n",
              "      --hover-fill-color: #174EA6;\n",
              "      --disabled-fill-color: #AAA;\n",
              "      --disabled-bg-color: #DDD;\n",
              "  }\n",
              "\n",
              "  [theme=dark] .colab-df-quickchart {\n",
              "      --bg-color: #3B4455;\n",
              "      --fill-color: #D2E3FC;\n",
              "      --hover-bg-color: #434B5C;\n",
              "      --hover-fill-color: #FFFFFF;\n",
              "      --disabled-bg-color: #3B4455;\n",
              "      --disabled-fill-color: #666;\n",
              "  }\n",
              "\n",
              "  .colab-df-quickchart {\n",
              "    background-color: var(--bg-color);\n",
              "    border: none;\n",
              "    border-radius: 50%;\n",
              "    cursor: pointer;\n",
              "    display: none;\n",
              "    fill: var(--fill-color);\n",
              "    height: 32px;\n",
              "    padding: 0;\n",
              "    width: 32px;\n",
              "  }\n",
              "\n",
              "  .colab-df-quickchart:hover {\n",
              "    background-color: var(--hover-bg-color);\n",
              "    box-shadow: 0 1px 2px rgba(60, 64, 67, 0.3), 0 1px 3px 1px rgba(60, 64, 67, 0.15);\n",
              "    fill: var(--button-hover-fill-color);\n",
              "  }\n",
              "\n",
              "  .colab-df-quickchart-complete:disabled,\n",
              "  .colab-df-quickchart-complete:disabled:hover {\n",
              "    background-color: var(--disabled-bg-color);\n",
              "    fill: var(--disabled-fill-color);\n",
              "    box-shadow: none;\n",
              "  }\n",
              "\n",
              "  .colab-df-spinner {\n",
              "    border: 2px solid var(--fill-color);\n",
              "    border-color: transparent;\n",
              "    border-bottom-color: var(--fill-color);\n",
              "    animation:\n",
              "      spin 1s steps(1) infinite;\n",
              "  }\n",
              "\n",
              "  @keyframes spin {\n",
              "    0% {\n",
              "      border-color: transparent;\n",
              "      border-bottom-color: var(--fill-color);\n",
              "      border-left-color: var(--fill-color);\n",
              "    }\n",
              "    20% {\n",
              "      border-color: transparent;\n",
              "      border-left-color: var(--fill-color);\n",
              "      border-top-color: var(--fill-color);\n",
              "    }\n",
              "    30% {\n",
              "      border-color: transparent;\n",
              "      border-left-color: var(--fill-color);\n",
              "      border-top-color: var(--fill-color);\n",
              "      border-right-color: var(--fill-color);\n",
              "    }\n",
              "    40% {\n",
              "      border-color: transparent;\n",
              "      border-right-color: var(--fill-color);\n",
              "      border-top-color: var(--fill-color);\n",
              "    }\n",
              "    60% {\n",
              "      border-color: transparent;\n",
              "      border-right-color: var(--fill-color);\n",
              "    }\n",
              "    80% {\n",
              "      border-color: transparent;\n",
              "      border-right-color: var(--fill-color);\n",
              "      border-bottom-color: var(--fill-color);\n",
              "    }\n",
              "    90% {\n",
              "      border-color: transparent;\n",
              "      border-bottom-color: var(--fill-color);\n",
              "    }\n",
              "  }\n",
              "</style>\n",
              "\n",
              "      <script>\n",
              "        async function quickchart(key) {\n",
              "          const quickchartButtonEl =\n",
              "            document.querySelector('#' + key + ' button');\n",
              "          quickchartButtonEl.disabled = true;  // To prevent multiple clicks.\n",
              "          quickchartButtonEl.classList.add('colab-df-spinner');\n",
              "          try {\n",
              "            const charts = await google.colab.kernel.invokeFunction(\n",
              "                'suggestCharts', [key], {});\n",
              "          } catch (error) {\n",
              "            console.error('Error during call to suggestCharts:', error);\n",
              "          }\n",
              "          quickchartButtonEl.classList.remove('colab-df-spinner');\n",
              "          quickchartButtonEl.classList.add('colab-df-quickchart-complete');\n",
              "        }\n",
              "        (() => {\n",
              "          let quickchartButtonEl =\n",
              "            document.querySelector('#df-e76b2a37-3128-46ff-8630-afd00c44f4f8 button');\n",
              "          quickchartButtonEl.style.display =\n",
              "            google.colab.kernel.accessAllowed ? 'block' : 'none';\n",
              "        })();\n",
              "      </script>\n",
              "    </div>\n",
              "\n",
              "    </div>\n",
              "  </div>\n"
            ],
            "application/vnd.google.colaboratory.intrinsic+json": {
              "type": "dataframe",
              "variable_name": "df",
              "summary": "{\n  \"name\": \"df\",\n  \"rows\": 684,\n  \"fields\": [\n    {\n      \"column\": \"state\",\n      \"properties\": {\n        \"dtype\": \"category\",\n        \"num_unique_values\": 36,\n        \"samples\": [\n          \"kerala\",\n          \"haryana\",\n          \"nagaland\"\n        ],\n        \"semantic_type\": \"\",\n        \"description\": \"\"\n      }\n    },\n    {\n      \"column\": \"year\",\n      \"properties\": {\n        \"dtype\": \"number\",\n        \"std\": 1,\n        \"min\": 2020,\n        \"max\": 2024,\n        \"num_unique_values\": 5,\n        \"samples\": [\n          2022,\n          2021,\n          2024\n        ],\n        \"semantic_type\": \"\",\n        \"description\": \"\"\n      }\n    },\n    {\n      \"column\": \"quarter\",\n      \"properties\": {\n        \"dtype\": \"number\",\n        \"std\": 1,\n        \"min\": 1,\n        \"max\": 4,\n        \"num_unique_values\": 4,\n        \"samples\": [\n          2,\n          1,\n          4\n        ],\n        \"semantic_type\": \"\",\n        \"description\": \"\"\n      }\n    },\n    {\n      \"column\": \"insurance_count\",\n      \"properties\": {\n        \"dtype\": \"number\",\n        \"std\": 0,\n        \"min\": 0,\n        \"max\": 0,\n        \"num_unique_values\": 1,\n        \"samples\": [\n          0\n        ],\n        \"semantic_type\": \"\",\n        \"description\": \"\"\n      }\n    },\n    {\n      \"column\": \"insurance_amount\",\n      \"properties\": {\n        \"dtype\": \"number\",\n        \"std\": 0.0,\n        \"min\": 0.0,\n        \"max\": 0.0,\n        \"num_unique_values\": 1,\n        \"samples\": [\n          0.0\n        ],\n        \"semantic_type\": \"\",\n        \"description\": \"\"\n      }\n    }\n  ]\n}"
            }
          },
          "metadata": {},
          "execution_count": 55
        }
      ]
    },
    {
      "source": [
        "# @title quarter\n",
        "\n",
        "from matplotlib import pyplot as plt\n",
        "df['quarter'].plot(kind='hist', bins=20, title='quarter')\n",
        "plt.gca().spines[['top', 'right',]].set_visible(False)"
      ],
      "cell_type": "code",
      "execution_count": null,
      "outputs": [
        {
          "output_type": "display_data",
          "data": {
            "text/plain": [
              "<Figure size 640x480 with 1 Axes>"
            ],
            "image/png": "[encoded data removed]"
          },
          "metadata": {}
        }
      ],
      "metadata": {
        "cellView": "form",
        "colab": {
          "base_uri": "https://localhost:8080/",
          "height": 452
        },
        "id": "sy2ho3KMREij",
        "outputId": "b4ca0ced-90c5-4f43-e81f-caf5d70571ea"
      }
    },
    {
      "cell_type": "code",
      "source": [
        "import pandas as pd\n",
        "\n",
        "df_ins = pd.read_csv(\"extracted_csvs/aggregated_insurance.csv\")\n",
        "print(df_ins.head(10))\n",
        "print(df_ins.dtypes)\n",
        "print(df_ins['insurance_amount'].unique())\n"
      ],
      "metadata": {
        "colab": {
          "base_uri": "https://localhost:8080/"
        },
        "id": "hEnjvySNQIYM",
        "outputId": "b8f0d8f4-274b-4579-fc1e-6eed7634723c"
      },
      "execution_count": null,
      "outputs": [
        {
          "output_type": "stream",
          "name": "stdout",
          "text": [
            "       state  year  quarter  insurance_count  insurance_amount\n",
            "0  rajasthan  2020        4                0               0.0\n",
            "1  rajasthan  2020        2                0               0.0\n",
            "2  rajasthan  2020        3                0               0.0\n",
            "3  rajasthan  2022        1                0               0.0\n",
            "4  rajasthan  2022        4                0               0.0\n",
            "5  rajasthan  2022        2                0               0.0\n",
            "6  rajasthan  2022        3                0               0.0\n",
            "7  rajasthan  2024        1                0               0.0\n",
            "8  rajasthan  2024        4                0               0.0\n",
            "9  rajasthan  2024        2                0               0.0\n",
            "state                object\n",
            "year                  int64\n",
            "quarter               int64\n",
            "insurance_count       int64\n",
            "insurance_amount    float64\n",
            "dtype: object\n",
            "[0.]\n"
          ]
        }
      ]
    },
    {
      "cell_type": "code",
      "source": [
        "import sqlite3\n",
        "import pandas as pd\n",
        "import plotly.express as px\n",
        "\n",
        "conn = sqlite3.connect(\"phonepe_data.db\")\n",
        "\n",
        "df_ins_state = pd.read_sql_query(\"\"\"\n",
        "SELECT state, SUM(insurance_amount) AS total_amount\n",
        "FROM aggregated_insurance\n",
        "GROUP BY state\n",
        "ORDER BY total_amount DESC\n",
        "\"\"\", conn)\n",
        "\n",
        "fig = px.bar(df_ins_state, x=\"state\", y=\"total_amount\",\n",
        "             title=\"📊 Total Insurance Amount by State\",\n",
        "             labels={\"total_amount\": \"Insurance Amount (INR)\"},\n",
        "             color=\"total_amount\")\n",
        "fig.show()\n",
        "conn.close()\n"
      ],
      "metadata": {
        "colab": {
          "base_uri": "https://localhost:8080/",
          "height": 542
        },
        "id": "-1ALq--GLmAv",
        "outputId": "dd8a8814-0e00-4b5e-d092-4c4ba40ec079"
      },
      "execution_count": null,
      "outputs": [
        {
          "output_type": "display_data",
          "data": {
            "text/html": [
              "<html>\n",
              "<head><meta charset=\"utf-8\" /></head>\n",
              "<body>\n",
              "    <div>            <script src=\"https://cdnjs.cloudflare.com/ajax/libs/mathjax/2.7.5/MathJax.js?config=TeX-AMS-MML_SVG\"></script><script type=\"text/javascript\">if (window.MathJax && window.MathJax.Hub && window.MathJax.Hub.Config) {window.MathJax.Hub.Config({SVG: {font: \"STIX-Web\"}});}</script>                <script type=\"text/javascript\">window.PlotlyConfig = {MathJaxConfig: 'local'};</script>\n",
              "        <script charset=\"utf-8\" src=\"https://cdn.plot.ly/plotly-2.35.2.min.js\"></script>                <div id=\"25ca0f20-df8d-4f2f-858e-714928868f35\" class=\"plotly-graph-div\" style=\"height:525px; width:100%;\"></div>            <script type=\"text/javascript\">                                    window.PLOTLYENV=window.PLOTLYENV || {};                                    if (document.getElementById(\"25ca0f20-df8d-4f2f-858e-714928868f35\")) {                    Plotly.newPlot(                        \"25ca0f20-df8d-4f2f-858e-714928868f35\",                        [{\"alignmentgroup\":\"True\",\"hovertemplate\":\"Insurance Amount (INR)=%{y}\\u003cbr\\u003estate=%{x}\\u003cextra\\u003e\\u003c\\u002fextra\\u003e\",\"legendgroup\":\"None\",\"marker\":{\"color\":\"#636efa\",\"pattern\":{\"shape\":\"\"}},\"name\":\"None\",\"offsetgroup\":\"None\",\"orientation\":\"v\",\"showlegend\":true,\"textposition\":\"auto\",\"x\":[\"west-bengal\",\"uttarakhand\",\"uttar-pradesh\",\"tripura\",\"telangana\",\"tamil-nadu\",\"sikkim\",\"rajasthan\",\"punjab\",\"puducherry\",\"odisha\",\"nagaland\",\"mizoram\",\"meghalaya\",\"manipur\",\"maharashtra\",\"madhya-pradesh\",\"lakshadweep\",\"ladakh\",\"kerala\",\"karnataka\",\"jharkhand\",\"jammu-&-kashmir\",\"himachal-pradesh\",\"haryana\",\"gujarat\",\"goa\",\"delhi\",\"dadra-&-nagar-haveli-&-daman-&-diu\",\"chhattisgarh\",\"chandigarh\",\"bihar\",\"assam\",\"arunachal-pradesh\",\"andhra-pradesh\",\"andaman-&-nicobar-islands\"],\"xaxis\":\"x\",\"y\":[null,null,null,null,null,null,null,null,null,null,null,null,null,null,null,null,null,null,null,null,null,null,null,null,null,null,null,null,null,null,null,null,null,null,null,null],\"yaxis\":\"y\",\"type\":\"bar\"}],                        {\"template\":{\"data\":{\"histogram2dcontour\":[{\"type\":\"histogram2dcontour\",\"colorbar\":{\"outlinewidth\":0,\"ticks\":\"\"},\"colorscale\":[[0.0,\"#0d0887\"],[0.1111111111111111,\"#46039f\"],[0.2222222222222222,\"#7201a8\"],[0.3333333333333333,\"#9c179e\"],[0.4444444444444444,\"#bd3786\"],[0.5555555555555556,\"#d8576b\"],[0.6666666666666666,\"#ed7953\"],[0.7777777777777778,\"#fb9f3a\"],[0.8888888888888888,\"#fdca26\"],[1.0,\"#f0f921\"]]}],\"choropleth\":[{\"type\":\"choropleth\",\"colorbar\":{\"outlinewidth\":0,\"ticks\":\"\"}}],\"histogram2d\":[{\"type\":\"histogram2d\",\"colorbar\":{\"outlinewidth\":0,\"ticks\":\"\"},\"colorscale\":[[0.0,\"#0d0887\"],[0.1111111111111111,\"#46039f\"],[0.2222222222222222,\"#7201a8\"],[0.3333333333333333,\"#9c179e\"],[0.4444444444444444,\"#bd3786\"],[0.5555555555555556,\"#d8576b\"],[0.6666666666666666,\"#ed7953\"],[0.7777777777777778,\"#fb9f3a\"],[0.8888888888888888,\"#fdca26\"],[1.0,\"#f0f921\"]]}],\"heatmap\":[{\"type\":\"heatmap\",\"colorbar\":{\"outlinewidth\":0,\"ticks\":\"\"},\"colorscale\":[[0.0,\"#0d0887\"],[0.1111111111111111,\"#46039f\"],[0.2222222222222222,\"#7201a8\"],[0.3333333333333333,\"#9c179e\"],[0.4444444444444444,\"#bd3786\"],[0.5555555555555556,\"#d8576b\"],[0.6666666666666666,\"#ed7953\"],[0.7777777777777778,\"#fb9f3a\"],[0.8888888888888888,\"#fdca26\"],[1.0,\"#f0f921\"]]}],\"heatmapgl\":[{\"type\":\"heatmapgl\",\"colorbar\":{\"outlinewidth\":0,\"ticks\":\"\"},\"colorscale\":[[0.0,\"#0d0887\"],[0.1111111111111111,\"#46039f\"],[0.2222222222222222,\"#7201a8\"],[0.3333333333333333,\"#9c179e\"],[0.4444444444444444,\"#bd3786\"],[0.5555555555555556,\"#d8576b\"],[0.6666666666666666,\"#ed7953\"],[0.7777777777777778,\"#fb9f3a\"],[0.8888888888888888,\"#fdca26\"],[1.0,\"#f0f921\"]]}],\"contourcarpet\":[{\"type\":\"contourcarpet\",\"colorbar\":{\"outlinewidth\":0,\"ticks\":\"\"}}],\"contour\":[{\"type\":\"contour\",\"colorbar\":{\"outlinewidth\":0,\"ticks\":\"\"},\"colorscale\":[[0.0,\"#0d0887\"],[0.1111111111111111,\"#46039f\"],[0.2222222222222222,\"#7201a8\"],[0.3333333333333333,\"#9c179e\"],[0.4444444444444444,\"#bd3786\"],[0.5555555555555556,\"#d8576b\"],[0.6666666666666666,\"#ed7953\"],[0.7777777777777778,\"#fb9f3a\"],[0.8888888888888888,\"#fdca26\"],[1.0,\"#f0f921\"]]}],\"surface\":[{\"type\":\"surface\",\"colorbar\":{\"outlinewidth\":0,\"ticks\":\"\"},\"colorscale\":[[0.0,\"#0d0887\"],[0.1111111111111111,\"#46039f\"],[0.2222222222222222,\"#7201a8\"],[0.3333333333333333,\"#9c179e\"],[0.4444444444444444,\"#bd3786\"],[0.5555555555555556,\"#d8576b\"],[0.6666666666666666,\"#ed7953\"],[0.7777777777777778,\"#fb9f3a\"],[0.8888888888888888,\"#fdca26\"],[1.0,\"#f0f921\"]]}],\"mesh3d\":[{\"type\":\"mesh3d\",\"colorbar\":{\"outlinewidth\":0,\"ticks\":\"\"}}],\"scatter\":[{\"fillpattern\":{\"fillmode\":\"overlay\",\"size\":10,\"solidity\":0.2},\"type\":\"scatter\"}],\"parcoords\":[{\"type\":\"parcoords\",\"line\":{\"colorbar\":{\"outlinewidth\":0,\"ticks\":\"\"}}}],\"scatterpolargl\":[{\"type\":\"scatterpolargl\",\"marker\":{\"colorbar\":{\"outlinewidth\":0,\"ticks\":\"\"}}}],\"bar\":[{\"error_x\":{\"color\":\"#2a3f5f\"},\"error_y\":{\"color\":\"#2a3f5f\"},\"marker\":{\"line\":{\"color\":\"#E5ECF6\",\"width\":0.5},\"pattern\":{\"fillmode\":\"overlay\",\"size\":10,\"solidity\":0.2}},\"type\":\"bar\"}],\"scattergeo\":[{\"type\":\"scattergeo\",\"marker\":{\"colorbar\":{\"outlinewidth\":0,\"ticks\":\"\"}}}],\"scatterpolar\":[{\"type\":\"scatterpolar\",\"marker\":{\"colorbar\":{\"outlinewidth\":0,\"ticks\":\"\"}}}],\"histogram\":[{\"marker\":{\"pattern\":{\"fillmode\":\"overlay\",\"size\":10,\"solidity\":0.2}},\"type\":\"histogram\"}],\"scattergl\":[{\"type\":\"scattergl\",\"marker\":{\"colorbar\":{\"outlinewidth\":0,\"ticks\":\"\"}}}],\"scatter3d\":[{\"type\":\"scatter3d\",\"line\":{\"colorbar\":{\"outlinewidth\":0,\"ticks\":\"\"}},\"marker\":{\"colorbar\":{\"outlinewidth\":0,\"ticks\":\"\"}}}],\"scattermapbox\":[{\"type\":\"scattermapbox\",\"marker\":{\"colorbar\":{\"outlinewidth\":0,\"ticks\":\"\"}}}],\"scatterternary\":[{\"type\":\"scatterternary\",\"marker\":{\"colorbar\":{\"outlinewidth\":0,\"ticks\":\"\"}}}],\"scattercarpet\":[{\"type\":\"scattercarpet\",\"marker\":{\"colorbar\":{\"outlinewidth\":0,\"ticks\":\"\"}}}],\"carpet\":[{\"aaxis\":{\"endlinecolor\":\"#2a3f5f\",\"gridcolor\":\"white\",\"linecolor\":\"white\",\"minorgridcolor\":\"white\",\"startlinecolor\":\"#2a3f5f\"},\"baxis\":{\"endlinecolor\":\"#2a3f5f\",\"gridcolor\":\"white\",\"linecolor\":\"white\",\"minorgridcolor\":\"white\",\"startlinecolor\":\"#2a3f5f\"},\"type\":\"carpet\"}],\"table\":[{\"cells\":{\"fill\":{\"color\":\"#EBF0F8\"},\"line\":{\"color\":\"white\"}},\"header\":{\"fill\":{\"color\":\"#C8D4E3\"},\"line\":{\"color\":\"white\"}},\"type\":\"table\"}],\"barpolar\":[{\"marker\":{\"line\":{\"color\":\"#E5ECF6\",\"width\":0.5},\"pattern\":{\"fillmode\":\"overlay\",\"size\":10,\"solidity\":0.2}},\"type\":\"barpolar\"}],\"pie\":[{\"automargin\":true,\"type\":\"pie\"}]},\"layout\":{\"autotypenumbers\":\"strict\",\"colorway\":[\"#636efa\",\"#EF553B\",\"#00cc96\",\"#ab63fa\",\"#FFA15A\",\"#19d3f3\",\"#FF6692\",\"#B6E880\",\"#FF97FF\",\"#FECB52\"],\"font\":{\"color\":\"#2a3f5f\"},\"hovermode\":\"closest\",\"hoverlabel\":{\"align\":\"left\"},\"paper_bgcolor\":\"white\",\"plot_bgcolor\":\"#E5ECF6\",\"polar\":{\"bgcolor\":\"#E5ECF6\",\"angularaxis\":{\"gridcolor\":\"white\",\"linecolor\":\"white\",\"ticks\":\"\"},\"radialaxis\":{\"gridcolor\":\"white\",\"linecolor\":\"white\",\"ticks\":\"\"}},\"ternary\":{\"bgcolor\":\"#E5ECF6\",\"aaxis\":{\"gridcolor\":\"white\",\"linecolor\":\"white\",\"ticks\":\"\"},\"baxis\":{\"gridcolor\":\"white\",\"linecolor\":\"white\",\"ticks\":\"\"},\"caxis\":{\"gridcolor\":\"white\",\"linecolor\":\"white\",\"ticks\":\"\"}},\"coloraxis\":{\"colorbar\":{\"outlinewidth\":0,\"ticks\":\"\"}},\"colorscale\":{\"sequential\":[[0.0,\"#0d0887\"],[0.1111111111111111,\"#46039f\"],[0.2222222222222222,\"#7201a8\"],[0.3333333333333333,\"#9c179e\"],[0.4444444444444444,\"#bd3786\"],[0.5555555555555556,\"#d8576b\"],[0.6666666666666666,\"#ed7953\"],[0.7777777777777778,\"#fb9f3a\"],[0.8888888888888888,\"#fdca26\"],[1.0,\"#f0f921\"]],\"sequentialminus\":[[0.0,\"#0d0887\"],[0.1111111111111111,\"#46039f\"],[0.2222222222222222,\"#7201a8\"],[0.3333333333333333,\"#9c179e\"],[0.4444444444444444,\"#bd3786\"],[0.5555555555555556,\"#d8576b\"],[0.6666666666666666,\"#ed7953\"],[0.7777777777777778,\"#fb9f3a\"],[0.8888888888888888,\"#fdca26\"],[1.0,\"#f0f921\"]],\"diverging\":[[0,\"#8e0152\"],[0.1,\"#c51b7d\"],[0.2,\"#de77ae\"],[0.3,\"#f1b6da\"],[0.4,\"#fde0ef\"],[0.5,\"#f7f7f7\"],[0.6,\"#e6f5d0\"],[0.7,\"#b8e186\"],[0.8,\"#7fbc41\"],[0.9,\"#4d9221\"],[1,\"#276419\"]]},\"xaxis\":{\"gridcolor\":\"white\",\"linecolor\":\"white\",\"ticks\":\"\",\"title\":{\"standoff\":15},\"zerolinecolor\":\"white\",\"automargin\":true,\"zerolinewidth\":2},\"yaxis\":{\"gridcolor\":\"white\",\"linecolor\":\"white\",\"ticks\":\"\",\"title\":{\"standoff\":15},\"zerolinecolor\":\"white\",\"automargin\":true,\"zerolinewidth\":2},\"scene\":{\"xaxis\":{\"backgroundcolor\":\"#E5ECF6\",\"gridcolor\":\"white\",\"linecolor\":\"white\",\"showbackground\":true,\"ticks\":\"\",\"zerolinecolor\":\"white\",\"gridwidth\":2},\"yaxis\":{\"backgroundcolor\":\"#E5ECF6\",\"gridcolor\":\"white\",\"linecolor\":\"white\",\"showbackground\":true,\"ticks\":\"\",\"zerolinecolor\":\"white\",\"gridwidth\":2},\"zaxis\":{\"backgroundcolor\":\"#E5ECF6\",\"gridcolor\":\"white\",\"linecolor\":\"white\",\"showbackground\":true,\"ticks\":\"\",\"zerolinecolor\":\"white\",\"gridwidth\":2}},\"shapedefaults\":{\"line\":{\"color\":\"#2a3f5f\"}},\"annotationdefaults\":{\"arrowcolor\":\"#2a3f5f\",\"arrowhead\":0,\"arrowwidth\":1},\"geo\":{\"bgcolor\":\"white\",\"landcolor\":\"#E5ECF6\",\"subunitcolor\":\"white\",\"showland\":true,\"showlakes\":true,\"lakecolor\":\"white\"},\"title\":{\"x\":0.05},\"mapbox\":{\"style\":\"light\"}}},\"xaxis\":{\"anchor\":\"y\",\"domain\":[0.0,1.0],\"title\":{\"text\":\"state\"}},\"yaxis\":{\"anchor\":\"x\",\"domain\":[0.0,1.0],\"title\":{\"text\":\"Insurance Amount (INR)\"},\"categoryorder\":\"array\",\"categoryarray\":[null]},\"legend\":{\"title\":{\"text\":\"Insurance Amount (INR)\"},\"tracegroupgap\":0},\"title\":{\"text\":\"📊 Total Insurance Amount by State\"},\"barmode\":\"relative\"},                        {\"responsive\": true}                    ).then(function(){\n",
              "                            \n",
              "var gd = document.getElementById('25ca0f20-df8d-4f2f-858e-714928868f35');\n",
              "var x = new MutationObserver(function (mutations, observer) {{\n",
              "        var display = window.getComputedStyle(gd).display;\n",
              "        if (!display || display === 'none') {{\n",
              "            console.log([gd, 'removed!']);\n",
              "            Plotly.purge(gd);\n",
              "            observer.disconnect();\n",
              "        }}\n",
              "}});\n",
              "\n",
              "// Listen for the removal of the full notebook cells\n",
              "var notebookContainer = gd.closest('#notebook-container');\n",
              "if (notebookContainer) {{\n",
              "    x.observe(notebookContainer, {childList: true});\n",
              "}}\n",
              "\n",
              "// Listen for the clearing of the current output cell\n",
              "var outputEl = gd.closest('.output');\n",
              "if (outputEl) {{\n",
              "    x.observe(outputEl, {childList: true});\n",
              "}}\n",
              "\n",
              "                        })                };                            </script>        </div>\n",
              "</body>\n",
              "</html>"
            ]
          },
          "metadata": {}
        }
      ]
    },
    {
      "cell_type": "code",
      "source": [
        "conn = sqlite3.connect(\"phonepe_data.db\")\n",
        "\n",
        "df_ins_time = pd.read_sql_query(\"\"\"\n",
        "SELECT year, quarter, SUM(insurance_amount) AS total_amount\n",
        "FROM aggregated_insurance\n",
        "GROUP BY year, quarter\n",
        "ORDER BY year, quarter\n",
        "\"\"\", conn)\n",
        "\n",
        "df_ins_time['quarter_label'] = df_ins_time['year'].astype(str) + \"-Q\" + df_ins_time['quarter'].astype(str)\n",
        "\n",
        "fig = px.line(df_ins_time, x=\"quarter_label\", y=\"total_amount\",\n",
        "              title=\"📈 Insurance Amount Over Time\", markers=True)\n",
        "fig.show()\n",
        "conn.close()\n"
      ],
      "metadata": {
        "colab": {
          "base_uri": "https://localhost:8080/",
          "height": 542
        },
        "id": "fkh_X6YLPFt8",
        "outputId": "882da04d-651d-4878-ad31-5b40a38def40"
      },
      "execution_count": null,
      "outputs": [
        {
          "output_type": "display_data",
          "data": {
            "text/html": [
              "<html>\n",
              "<head><meta charset=\"utf-8\" /></head>\n",
              "<body>\n",
              "    <div>            <script src=\"https://cdnjs.cloudflare.com/ajax/libs/mathjax/2.7.5/MathJax.js?config=TeX-AMS-MML_SVG\"></script><script type=\"text/javascript\">if (window.MathJax && window.MathJax.Hub && window.MathJax.Hub.Config) {window.MathJax.Hub.Config({SVG: {font: \"STIX-Web\"}});}</script>                <script type=\"text/javascript\">window.PlotlyConfig = {MathJaxConfig: 'local'};</script>\n",
              "        <script charset=\"utf-8\" src=\"https://cdn.plot.ly/plotly-2.35.2.min.js\"></script>                <div id=\"1ec38bb8-ce9f-4a5f-962f-85be33a9d90f\" class=\"plotly-graph-div\" style=\"height:525px; width:100%;\"></div>            <script type=\"text/javascript\">                                    window.PLOTLYENV=window.PLOTLYENV || {};                                    if (document.getElementById(\"1ec38bb8-ce9f-4a5f-962f-85be33a9d90f\")) {                    Plotly.newPlot(                        \"1ec38bb8-ce9f-4a5f-962f-85be33a9d90f\",                        [{\"hovertemplate\":\"quarter_label=%{x}\\u003cbr\\u003etotal_amount=%{y}\\u003cextra\\u003e\\u003c\\u002fextra\\u003e\",\"legendgroup\":\"\",\"line\":{\"color\":\"#636efa\",\"dash\":\"solid\"},\"marker\":{\"symbol\":\"circle\"},\"mode\":\"lines+markers\",\"name\":\"\",\"orientation\":\"v\",\"showlegend\":false,\"x\":[\"2020-Q2\",\"2020-Q3\",\"2020-Q4\",\"2021-Q1\",\"2021-Q2\",\"2021-Q3\",\"2021-Q4\",\"2022-Q1\",\"2022-Q2\",\"2022-Q3\",\"2022-Q4\",\"2023-Q1\",\"2023-Q2\",\"2023-Q3\",\"2023-Q4\",\"2024-Q1\",\"2024-Q2\",\"2024-Q3\",\"2024-Q4\"],\"xaxis\":\"x\",\"y\":[null,null,null,null,null,null,null,null,null,null,null,null,null,null,null,null,null,null,null],\"yaxis\":\"y\",\"type\":\"scatter\"}],                        {\"template\":{\"data\":{\"histogram2dcontour\":[{\"type\":\"histogram2dcontour\",\"colorbar\":{\"outlinewidth\":0,\"ticks\":\"\"},\"colorscale\":[[0.0,\"#0d0887\"],[0.1111111111111111,\"#46039f\"],[0.2222222222222222,\"#7201a8\"],[0.3333333333333333,\"#9c179e\"],[0.4444444444444444,\"#bd3786\"],[0.5555555555555556,\"#d8576b\"],[0.6666666666666666,\"#ed7953\"],[0.7777777777777778,\"#fb9f3a\"],[0.8888888888888888,\"#fdca26\"],[1.0,\"#f0f921\"]]}],\"choropleth\":[{\"type\":\"choropleth\",\"colorbar\":{\"outlinewidth\":0,\"ticks\":\"\"}}],\"histogram2d\":[{\"type\":\"histogram2d\",\"colorbar\":{\"outlinewidth\":0,\"ticks\":\"\"},\"colorscale\":[[0.0,\"#0d0887\"],[0.1111111111111111,\"#46039f\"],[0.2222222222222222,\"#7201a8\"],[0.3333333333333333,\"#9c179e\"],[0.4444444444444444,\"#bd3786\"],[0.5555555555555556,\"#d8576b\"],[0.6666666666666666,\"#ed7953\"],[0.7777777777777778,\"#fb9f3a\"],[0.8888888888888888,\"#fdca26\"],[1.0,\"#f0f921\"]]}],\"heatmap\":[{\"type\":\"heatmap\",\"colorbar\":{\"outlinewidth\":0,\"ticks\":\"\"},\"colorscale\":[[0.0,\"#0d0887\"],[0.1111111111111111,\"#46039f\"],[0.2222222222222222,\"#7201a8\"],[0.3333333333333333,\"#9c179e\"],[0.4444444444444444,\"#bd3786\"],[0.5555555555555556,\"#d8576b\"],[0.6666666666666666,\"#ed7953\"],[0.7777777777777778,\"#fb9f3a\"],[0.8888888888888888,\"#fdca26\"],[1.0,\"#f0f921\"]]}],\"heatmapgl\":[{\"type\":\"heatmapgl\",\"colorbar\":{\"outlinewidth\":0,\"ticks\":\"\"},\"colorscale\":[[0.0,\"#0d0887\"],[0.1111111111111111,\"#46039f\"],[0.2222222222222222,\"#7201a8\"],[0.3333333333333333,\"#9c179e\"],[0.4444444444444444,\"#bd3786\"],[0.5555555555555556,\"#d8576b\"],[0.6666666666666666,\"#ed7953\"],[0.7777777777777778,\"#fb9f3a\"],[0.8888888888888888,\"#fdca26\"],[1.0,\"#f0f921\"]]}],\"contourcarpet\":[{\"type\":\"contourcarpet\",\"colorbar\":{\"outlinewidth\":0,\"ticks\":\"\"}}],\"contour\":[{\"type\":\"contour\",\"colorbar\":{\"outlinewidth\":0,\"ticks\":\"\"},\"colorscale\":[[0.0,\"#0d0887\"],[0.1111111111111111,\"#46039f\"],[0.2222222222222222,\"#7201a8\"],[0.3333333333333333,\"#9c179e\"],[0.4444444444444444,\"#bd3786\"],[0.5555555555555556,\"#d8576b\"],[0.6666666666666666,\"#ed7953\"],[0.7777777777777778,\"#fb9f3a\"],[0.8888888888888888,\"#fdca26\"],[1.0,\"#f0f921\"]]}],\"surface\":[{\"type\":\"surface\",\"colorbar\":{\"outlinewidth\":0,\"ticks\":\"\"},\"colorscale\":[[0.0,\"#0d0887\"],[0.1111111111111111,\"#46039f\"],[0.2222222222222222,\"#7201a8\"],[0.3333333333333333,\"#9c179e\"],[0.4444444444444444,\"#bd3786\"],[0.5555555555555556,\"#d8576b\"],[0.6666666666666666,\"#ed7953\"],[0.7777777777777778,\"#fb9f3a\"],[0.8888888888888888,\"#fdca26\"],[1.0,\"#f0f921\"]]}],\"mesh3d\":[{\"type\":\"mesh3d\",\"colorbar\":{\"outlinewidth\":0,\"ticks\":\"\"}}],\"scatter\":[{\"fillpattern\":{\"fillmode\":\"overlay\",\"size\":10,\"solidity\":0.2},\"type\":\"scatter\"}],\"parcoords\":[{\"type\":\"parcoords\",\"line\":{\"colorbar\":{\"outlinewidth\":0,\"ticks\":\"\"}}}],\"scatterpolargl\":[{\"type\":\"scatterpolargl\",\"marker\":{\"colorbar\":{\"outlinewidth\":0,\"ticks\":\"\"}}}],\"bar\":[{\"error_x\":{\"color\":\"#2a3f5f\"},\"error_y\":{\"color\":\"#2a3f5f\"},\"marker\":{\"line\":{\"color\":\"#E5ECF6\",\"width\":0.5},\"pattern\":{\"fillmode\":\"overlay\",\"size\":10,\"solidity\":0.2}},\"type\":\"bar\"}],\"scattergeo\":[{\"type\":\"scattergeo\",\"marker\":{\"colorbar\":{\"outlinewidth\":0,\"ticks\":\"\"}}}],\"scatterpolar\":[{\"type\":\"scatterpolar\",\"marker\":{\"colorbar\":{\"outlinewidth\":0,\"ticks\":\"\"}}}],\"histogram\":[{\"marker\":{\"pattern\":{\"fillmode\":\"overlay\",\"size\":10,\"solidity\":0.2}},\"type\":\"histogram\"}],\"scattergl\":[{\"type\":\"scattergl\",\"marker\":{\"colorbar\":{\"outlinewidth\":0,\"ticks\":\"\"}}}],\"scatter3d\":[{\"type\":\"scatter3d\",\"line\":{\"colorbar\":{\"outlinewidth\":0,\"ticks\":\"\"}},\"marker\":{\"colorbar\":{\"outlinewidth\":0,\"ticks\":\"\"}}}],\"scattermapbox\":[{\"type\":\"scattermapbox\",\"marker\":{\"colorbar\":{\"outlinewidth\":0,\"ticks\":\"\"}}}],\"scatterternary\":[{\"type\":\"scatterternary\",\"marker\":{\"colorbar\":{\"outlinewidth\":0,\"ticks\":\"\"}}}],\"scattercarpet\":[{\"type\":\"scattercarpet\",\"marker\":{\"colorbar\":{\"outlinewidth\":0,\"ticks\":\"\"}}}],\"carpet\":[{\"aaxis\":{\"endlinecolor\":\"#2a3f5f\",\"gridcolor\":\"white\",\"linecolor\":\"white\",\"minorgridcolor\":\"white\",\"startlinecolor\":\"#2a3f5f\"},\"baxis\":{\"endlinecolor\":\"#2a3f5f\",\"gridcolor\":\"white\",\"linecolor\":\"white\",\"minorgridcolor\":\"white\",\"startlinecolor\":\"#2a3f5f\"},\"type\":\"carpet\"}],\"table\":[{\"cells\":{\"fill\":{\"color\":\"#EBF0F8\"},\"line\":{\"color\":\"white\"}},\"header\":{\"fill\":{\"color\":\"#C8D4E3\"},\"line\":{\"color\":\"white\"}},\"type\":\"table\"}],\"barpolar\":[{\"marker\":{\"line\":{\"color\":\"#E5ECF6\",\"width\":0.5},\"pattern\":{\"fillmode\":\"overlay\",\"size\":10,\"solidity\":0.2}},\"type\":\"barpolar\"}],\"pie\":[{\"automargin\":true,\"type\":\"pie\"}]},\"layout\":{\"autotypenumbers\":\"strict\",\"colorway\":[\"#636efa\",\"#EF553B\",\"#00cc96\",\"#ab63fa\",\"#FFA15A\",\"#19d3f3\",\"#FF6692\",\"#B6E880\",\"#FF97FF\",\"#FECB52\"],\"font\":{\"color\":\"#2a3f5f\"},\"hovermode\":\"closest\",\"hoverlabel\":{\"align\":\"left\"},\"paper_bgcolor\":\"white\",\"plot_bgcolor\":\"#E5ECF6\",\"polar\":{\"bgcolor\":\"#E5ECF6\",\"angularaxis\":{\"gridcolor\":\"white\",\"linecolor\":\"white\",\"ticks\":\"\"},\"radialaxis\":{\"gridcolor\":\"white\",\"linecolor\":\"white\",\"ticks\":\"\"}},\"ternary\":{\"bgcolor\":\"#E5ECF6\",\"aaxis\":{\"gridcolor\":\"white\",\"linecolor\":\"white\",\"ticks\":\"\"},\"baxis\":{\"gridcolor\":\"white\",\"linecolor\":\"white\",\"ticks\":\"\"},\"caxis\":{\"gridcolor\":\"white\",\"linecolor\":\"white\",\"ticks\":\"\"}},\"coloraxis\":{\"colorbar\":{\"outlinewidth\":0,\"ticks\":\"\"}},\"colorscale\":{\"sequential\":[[0.0,\"#0d0887\"],[0.1111111111111111,\"#46039f\"],[0.2222222222222222,\"#7201a8\"],[0.3333333333333333,\"#9c179e\"],[0.4444444444444444,\"#bd3786\"],[0.5555555555555556,\"#d8576b\"],[0.6666666666666666,\"#ed7953\"],[0.7777777777777778,\"#fb9f3a\"],[0.8888888888888888,\"#fdca26\"],[1.0,\"#f0f921\"]],\"sequentialminus\":[[0.0,\"#0d0887\"],[0.1111111111111111,\"#46039f\"],[0.2222222222222222,\"#7201a8\"],[0.3333333333333333,\"#9c179e\"],[0.4444444444444444,\"#bd3786\"],[0.5555555555555556,\"#d8576b\"],[0.6666666666666666,\"#ed7953\"],[0.7777777777777778,\"#fb9f3a\"],[0.8888888888888888,\"#fdca26\"],[1.0,\"#f0f921\"]],\"diverging\":[[0,\"#8e0152\"],[0.1,\"#c51b7d\"],[0.2,\"#de77ae\"],[0.3,\"#f1b6da\"],[0.4,\"#fde0ef\"],[0.5,\"#f7f7f7\"],[0.6,\"#e6f5d0\"],[0.7,\"#b8e186\"],[0.8,\"#7fbc41\"],[0.9,\"#4d9221\"],[1,\"#276419\"]]},\"xaxis\":{\"gridcolor\":\"white\",\"linecolor\":\"white\",\"ticks\":\"\",\"title\":{\"standoff\":15},\"zerolinecolor\":\"white\",\"automargin\":true,\"zerolinewidth\":2},\"yaxis\":{\"gridcolor\":\"white\",\"linecolor\":\"white\",\"ticks\":\"\",\"title\":{\"standoff\":15},\"zerolinecolor\":\"white\",\"automargin\":true,\"zerolinewidth\":2},\"scene\":{\"xaxis\":{\"backgroundcolor\":\"#E5ECF6\",\"gridcolor\":\"white\",\"linecolor\":\"white\",\"showbackground\":true,\"ticks\":\"\",\"zerolinecolor\":\"white\",\"gridwidth\":2},\"yaxis\":{\"backgroundcolor\":\"#E5ECF6\",\"gridcolor\":\"white\",\"linecolor\":\"white\",\"showbackground\":true,\"ticks\":\"\",\"zerolinecolor\":\"white\",\"gridwidth\":2},\"zaxis\":{\"backgroundcolor\":\"#E5ECF6\",\"gridcolor\":\"white\",\"linecolor\":\"white\",\"showbackground\":true,\"ticks\":\"\",\"zerolinecolor\":\"white\",\"gridwidth\":2}},\"shapedefaults\":{\"line\":{\"color\":\"#2a3f5f\"}},\"annotationdefaults\":{\"arrowcolor\":\"#2a3f5f\",\"arrowhead\":0,\"arrowwidth\":1},\"geo\":{\"bgcolor\":\"white\",\"landcolor\":\"#E5ECF6\",\"subunitcolor\":\"white\",\"showland\":true,\"showlakes\":true,\"lakecolor\":\"white\"},\"title\":{\"x\":0.05},\"mapbox\":{\"style\":\"light\"}}},\"xaxis\":{\"anchor\":\"y\",\"domain\":[0.0,1.0],\"title\":{\"text\":\"quarter_label\"}},\"yaxis\":{\"anchor\":\"x\",\"domain\":[0.0,1.0],\"title\":{\"text\":\"total_amount\"}},\"legend\":{\"tracegroupgap\":0},\"title\":{\"text\":\"📈 Insurance Amount Over Time\"}},                        {\"responsive\": true}                    ).then(function(){\n",
              "                            \n",
              "var gd = document.getElementById('1ec38bb8-ce9f-4a5f-962f-85be33a9d90f');\n",
              "var x = new MutationObserver(function (mutations, observer) {{\n",
              "        var display = window.getComputedStyle(gd).display;\n",
              "        if (!display || display === 'none') {{\n",
              "            console.log([gd, 'removed!']);\n",
              "            Plotly.purge(gd);\n",
              "            observer.disconnect();\n",
              "        }}\n",
              "}});\n",
              "\n",
              "// Listen for the removal of the full notebook cells\n",
              "var notebookContainer = gd.closest('#notebook-container');\n",
              "if (notebookContainer) {{\n",
              "    x.observe(notebookContainer, {childList: true});\n",
              "}}\n",
              "\n",
              "// Listen for the clearing of the current output cell\n",
              "var outputEl = gd.closest('.output');\n",
              "if (outputEl) {{\n",
              "    x.observe(outputEl, {childList: true});\n",
              "}}\n",
              "\n",
              "                        })                };                            </script>        </div>\n",
              "</body>\n",
              "</html>"
            ]
          },
          "metadata": {}
        }
      ]
    },
    {
      "cell_type": "code",
      "source": [
        "import sqlite3\n",
        "import pandas as pd\n",
        "\n",
        "conn = sqlite3.connect(\"phonepe_data.db\")\n",
        "\n",
        "# Fetch total transaction and insurance amounts by state\n",
        "query =\"\"\"\n",
        "SELECT\n",
        "    txn.state,\n",
        "    SUM(txn.transaction_amount) AS total_transaction_amount,\n",
        "    SUM(ins.insurance_amount) AS total_insurance_amount\n",
        "FROM aggregated_transaction AS txn\n",
        "JOIN aggregated_insurance AS ins\n",
        "    ON txn.state = ins.state\n",
        "    AND txn.year = ins.year\n",
        "    AND txn.quarter = ins.quarter\n",
        "GROUP BY txn.state\n",
        "HAVING total_insurance_amount > 0\n",
        "ORDER BY total_transaction_amount DESC;\"\"\"\n",
        "\n",
        "\n",
        "df_corr = pd.read_sql_query(query, conn)\n",
        "conn.close()\n",
        "\n",
        "df_corr.head()\n"
      ],
      "metadata": {
        "colab": {
          "base_uri": "https://localhost:8080/",
          "height": 138
        },
        "id": "qxTNKchtQq-v",
        "outputId": "86c3f4c6-503d-4ec4-9f45-40905915847b"
      },
      "execution_count": null,
      "outputs": [
        {
          "output_type": "execute_result",
          "data": {
            "text/plain": [
              "Empty DataFrame\n",
              "Columns: [state, total_transaction_amount, total_insurance_amount]\n",
              "Index: []"
            ],
            "text/html": [
              "\n",
              "  <div id=\"df-8aa1f422-2384-4d03-b9fb-a897ec956a36\" class=\"colab-df-container\">\n",
              "    <div>\n",
              "<style scoped>\n",
              "    .dataframe tbody tr th:only-of-type {\n",
              "        vertical-align: middle;\n",
              "    }\n",
              "\n",
              "    .dataframe tbody tr th {\n",
              "        vertical-align: top;\n",
              "    }\n",
              "\n",
              "    .dataframe thead th {\n",
              "        text-align: right;\n",
              "    }\n",
              "</style>\n",
              "<table border=\"1\" class=\"dataframe\">\n",
              "  <thead>\n",
              "    <tr style=\"text-align: right;\">\n",
              "      <th></th>\n",
              "      <th>state</th>\n",
              "      <th>total_transaction_amount</th>\n",
              "      <th>total_insurance_amount</th>\n",
              "    </tr>\n",
              "  </thead>\n",
              "  <tbody>\n",
              "  </tbody>\n",
              "</table>\n",
              "</div>\n",
              "    <div class=\"colab-df-buttons\">\n",
              "\n",
              "  <div class=\"colab-df-container\">\n",
              "    <button class=\"colab-df-convert\" onclick=\"convertToInteractive('df-8aa1f422-2384-4d03-b9fb-a897ec956a36')\"\n",
              "            title=\"Convert this dataframe to an interactive table.\"\n",
              "            style=\"display:none;\">\n",
              "\n",
              "  <svg xmlns=\"http://www.w3.org/2000/svg\" height=\"24px\" viewBox=\"0 -960 960 960\">\n",
              "    <path d=\"M120-120v-720h720v720H120Zm60-500h600v-160H180v160Zm220 220h160v-160H400v160Zm0 220h160v-160H400v160ZM180-400h160v-160H180v160Zm440 0h160v-160H620v160ZM180-180h160v-160H180v160Zm440 0h160v-160H620v160Z\"/>\n",
              "  </svg>\n",
              "    </button>\n",
              "\n",
              "  <style>\n",
              "    .colab-df-container {\n",
              "      display:flex;\n",
              "      gap: 12px;\n",
              "    }\n",
              "\n",
              "    .colab-df-convert {\n",
              "      background-color: #E8F0FE;\n",
              "      border: none;\n",
              "      border-radius: 50%;\n",
              "      cursor: pointer;\n",
              "      display: none;\n",
              "      fill: #1967D2;\n",
              "      height: 32px;\n",
              "      padding: 0 0 0 0;\n",
              "      width: 32px;\n",
              "    }\n",
              "\n",
              "    .colab-df-convert:hover {\n",
              "      background-color: #E2EBFA;\n",
              "      box-shadow: 0px 1px 2px rgba(60, 64, 67, 0.3), 0px 1px 3px 1px rgba(60, 64, 67, 0.15);\n",
              "      fill: #174EA6;\n",
              "    }\n",
              "\n",
              "    .colab-df-buttons div {\n",
              "      margin-bottom: 4px;\n",
              "    }\n",
              "\n",
              "    [theme=dark] .colab-df-convert {\n",
              "      background-color: #3B4455;\n",
              "      fill: #D2E3FC;\n",
              "    }\n",
              "\n",
              "    [theme=dark] .colab-df-convert:hover {\n",
              "      background-color: #434B5C;\n",
              "      box-shadow: 0px 1px 3px 1px rgba(0, 0, 0, 0.15);\n",
              "      filter: drop-shadow(0px 1px 2px rgba(0, 0, 0, 0.3));\n",
              "      fill: #FFFFFF;\n",
              "    }\n",
              "  </style>\n",
              "\n",
              "    <script>\n",
              "      const buttonEl =\n",
              "        document.querySelector('#df-8aa1f422-2384-4d03-b9fb-a897ec956a36 button.colab-df-convert');\n",
              "      buttonEl.style.display =\n",
              "        google.colab.kernel.accessAllowed ? 'block' : 'none';\n",
              "\n",
              "      async function convertToInteractive(key) {\n",
              "        const element = document.querySelector('#df-8aa1f422-2384-4d03-b9fb-a897ec956a36');\n",
              "        const dataTable =\n",
              "          await google.colab.kernel.invokeFunction('convertToInteractive',\n",
              "                                                    [key], {});\n",
              "        if (!dataTable) return;\n",
              "\n",
              "        const docLinkHtml = 'Like what you see? Visit the ' +\n",
              "          '<a target=\"_blank\" href=https://colab.research.google.com/notebooks/data_table.ipynb>data table notebook</a>'\n",
              "          + ' to learn more about interactive tables.';\n",
              "        element.innerHTML = '';\n",
              "        dataTable['output_type'] = 'display_data';\n",
              "        await google.colab.output.renderOutput(dataTable, element);\n",
              "        const docLink = document.createElement('div');\n",
              "        docLink.innerHTML = docLinkHtml;\n",
              "        element.appendChild(docLink);\n",
              "      }\n",
              "    </script>\n",
              "  </div>\n",
              "\n",
              "\n",
              "    </div>\n",
              "  </div>\n"
            ],
            "application/vnd.google.colaboratory.intrinsic+json": {
              "type": "dataframe",
              "variable_name": "df_corr",
              "repr_error": "Out of range float values are not JSON compliant: nan"
            }
          },
          "metadata": {},
          "execution_count": 63
        }
      ]
    },
    {
      "cell_type": "code",
      "source": [
        "import plotly.express as px\n",
        "\n",
        "fig = px.scatter(df_corr,\n",
        "                 x=\"total_transaction_amount\",\n",
        "                 y=\"total_insurance_amount\",\n",
        "                 text=\"state\",\n",
        "                 trendline=\"ols\",  # Add best-fit line\n",
        "                 labels={\n",
        "                     \"total_transaction_amount\": \"Transaction Amount (INR)\",\n",
        "                     \"total_insurance_amount\": \"Insurance Amount (INR)\"\n",
        "                 },\n",
        "                 title=\"💡 Correlation Between Transaction & Insurance Amounts\")\n",
        "\n",
        "fig.update_traces(marker=dict(size=10, color=\"royalblue\"), textposition='top center')\n",
        "fig.show()\n"
      ],
      "metadata": {
        "colab": {
          "base_uri": "https://localhost:8080/",
          "height": 542
        },
        "id": "QPOYIJ74Rm1Z",
        "outputId": "a7d96323-fa21-4532-b76d-ff9e5b49aa15"
      },
      "execution_count": null,
      "outputs": [
        {
          "output_type": "display_data",
          "data": {
            "text/html": [
              "<html>\n",
              "<head><meta charset=\"utf-8\" /></head>\n",
              "<body>\n",
              "    <div>            <script src=\"https://cdnjs.cloudflare.com/ajax/libs/mathjax/2.7.5/MathJax.js?config=TeX-AMS-MML_SVG\"></script><script type=\"text/javascript\">if (window.MathJax && window.MathJax.Hub && window.MathJax.Hub.Config) {window.MathJax.Hub.Config({SVG: {font: \"STIX-Web\"}});}</script>                <script type=\"text/javascript\">window.PlotlyConfig = {MathJaxConfig: 'local'};</script>\n",
              "        <script charset=\"utf-8\" src=\"https://cdn.plot.ly/plotly-2.35.2.min.js\"></script>                <div id=\"c32ba694-1db6-4b92-af72-3c677b0b8472\" class=\"plotly-graph-div\" style=\"height:525px; width:100%;\"></div>            <script type=\"text/javascript\">                                    window.PLOTLYENV=window.PLOTLYENV || {};                                    if (document.getElementById(\"c32ba694-1db6-4b92-af72-3c677b0b8472\")) {                    Plotly.newPlot(                        \"c32ba694-1db6-4b92-af72-3c677b0b8472\",                        [{\"hovertemplate\":\"Transaction Amount (INR)=%{x}\\u003cbr\\u003eInsurance Amount (INR)=%{y}\\u003cbr\\u003estate=%{text}\\u003cextra\\u003e\\u003c\\u002fextra\\u003e\",\"legendgroup\":\"\",\"marker\":{\"color\":\"royalblue\",\"symbol\":\"circle\",\"size\":10},\"mode\":\"markers+text\",\"name\":\"\",\"orientation\":\"v\",\"showlegend\":false,\"text\":[],\"x\":[],\"xaxis\":\"x\",\"y\":[],\"yaxis\":\"y\",\"type\":\"scatter\",\"textposition\":\"top center\"},{\"hovertemplate\":\"\\u003cextra\\u003e\\u003c\\u002fextra\\u003e\",\"legendgroup\":\"\",\"marker\":{\"color\":\"royalblue\",\"symbol\":\"circle\",\"size\":10},\"mode\":\"lines\",\"name\":\"\",\"showlegend\":false,\"xaxis\":\"x\",\"yaxis\":\"y\",\"type\":\"scatter\",\"textposition\":\"top center\"}],                        {\"template\":{\"data\":{\"histogram2dcontour\":[{\"type\":\"histogram2dcontour\",\"colorbar\":{\"outlinewidth\":0,\"ticks\":\"\"},\"colorscale\":[[0.0,\"#0d0887\"],[0.1111111111111111,\"#46039f\"],[0.2222222222222222,\"#7201a8\"],[0.3333333333333333,\"#9c179e\"],[0.4444444444444444,\"#bd3786\"],[0.5555555555555556,\"#d8576b\"],[0.6666666666666666,\"#ed7953\"],[0.7777777777777778,\"#fb9f3a\"],[0.8888888888888888,\"#fdca26\"],[1.0,\"#f0f921\"]]}],\"choropleth\":[{\"type\":\"choropleth\",\"colorbar\":{\"outlinewidth\":0,\"ticks\":\"\"}}],\"histogram2d\":[{\"type\":\"histogram2d\",\"colorbar\":{\"outlinewidth\":0,\"ticks\":\"\"},\"colorscale\":[[0.0,\"#0d0887\"],[0.1111111111111111,\"#46039f\"],[0.2222222222222222,\"#7201a8\"],[0.3333333333333333,\"#9c179e\"],[0.4444444444444444,\"#bd3786\"],[0.5555555555555556,\"#d8576b\"],[0.6666666666666666,\"#ed7953\"],[0.7777777777777778,\"#fb9f3a\"],[0.8888888888888888,\"#fdca26\"],[1.0,\"#f0f921\"]]}],\"heatmap\":[{\"type\":\"heatmap\",\"colorbar\":{\"outlinewidth\":0,\"ticks\":\"\"},\"colorscale\":[[0.0,\"#0d0887\"],[0.1111111111111111,\"#46039f\"],[0.2222222222222222,\"#7201a8\"],[0.3333333333333333,\"#9c179e\"],[0.4444444444444444,\"#bd3786\"],[0.5555555555555556,\"#d8576b\"],[0.6666666666666666,\"#ed7953\"],[0.7777777777777778,\"#fb9f3a\"],[0.8888888888888888,\"#fdca26\"],[1.0,\"#f0f921\"]]}],\"heatmapgl\":[{\"type\":\"heatmapgl\",\"colorbar\":{\"outlinewidth\":0,\"ticks\":\"\"},\"colorscale\":[[0.0,\"#0d0887\"],[0.1111111111111111,\"#46039f\"],[0.2222222222222222,\"#7201a8\"],[0.3333333333333333,\"#9c179e\"],[0.4444444444444444,\"#bd3786\"],[0.5555555555555556,\"#d8576b\"],[0.6666666666666666,\"#ed7953\"],[0.7777777777777778,\"#fb9f3a\"],[0.8888888888888888,\"#fdca26\"],[1.0,\"#f0f921\"]]}],\"contourcarpet\":[{\"type\":\"contourcarpet\",\"colorbar\":{\"outlinewidth\":0,\"ticks\":\"\"}}],\"contour\":[{\"type\":\"contour\",\"colorbar\":{\"outlinewidth\":0,\"ticks\":\"\"},\"colorscale\":[[0.0,\"#0d0887\"],[0.1111111111111111,\"#46039f\"],[0.2222222222222222,\"#7201a8\"],[0.3333333333333333,\"#9c179e\"],[0.4444444444444444,\"#bd3786\"],[0.5555555555555556,\"#d8576b\"],[0.6666666666666666,\"#ed7953\"],[0.7777777777777778,\"#fb9f3a\"],[0.8888888888888888,\"#fdca26\"],[1.0,\"#f0f921\"]]}],\"surface\":[{\"type\":\"surface\",\"colorbar\":{\"outlinewidth\":0,\"ticks\":\"\"},\"colorscale\":[[0.0,\"#0d0887\"],[0.1111111111111111,\"#46039f\"],[0.2222222222222222,\"#7201a8\"],[0.3333333333333333,\"#9c179e\"],[0.4444444444444444,\"#bd3786\"],[0.5555555555555556,\"#d8576b\"],[0.6666666666666666,\"#ed7953\"],[0.7777777777777778,\"#fb9f3a\"],[0.8888888888888888,\"#fdca26\"],[1.0,\"#f0f921\"]]}],\"mesh3d\":[{\"type\":\"mesh3d\",\"colorbar\":{\"outlinewidth\":0,\"ticks\":\"\"}}],\"scatter\":[{\"fillpattern\":{\"fillmode\":\"overlay\",\"size\":10,\"solidity\":0.2},\"type\":\"scatter\"}],\"parcoords\":[{\"type\":\"parcoords\",\"line\":{\"colorbar\":{\"outlinewidth\":0,\"ticks\":\"\"}}}],\"scatterpolargl\":[{\"type\":\"scatterpolargl\",\"marker\":{\"colorbar\":{\"outlinewidth\":0,\"ticks\":\"\"}}}],\"bar\":[{\"error_x\":{\"color\":\"#2a3f5f\"},\"error_y\":{\"color\":\"#2a3f5f\"},\"marker\":{\"line\":{\"color\":\"#E5ECF6\",\"width\":0.5},\"pattern\":{\"fillmode\":\"overlay\",\"size\":10,\"solidity\":0.2}},\"type\":\"bar\"}],\"scattergeo\":[{\"type\":\"scattergeo\",\"marker\":{\"colorbar\":{\"outlinewidth\":0,\"ticks\":\"\"}}}],\"scatterpolar\":[{\"type\":\"scatterpolar\",\"marker\":{\"colorbar\":{\"outlinewidth\":0,\"ticks\":\"\"}}}],\"histogram\":[{\"marker\":{\"pattern\":{\"fillmode\":\"overlay\",\"size\":10,\"solidity\":0.2}},\"type\":\"histogram\"}],\"scattergl\":[{\"type\":\"scattergl\",\"marker\":{\"colorbar\":{\"outlinewidth\":0,\"ticks\":\"\"}}}],\"scatter3d\":[{\"type\":\"scatter3d\",\"line\":{\"colorbar\":{\"outlinewidth\":0,\"ticks\":\"\"}},\"marker\":{\"colorbar\":{\"outlinewidth\":0,\"ticks\":\"\"}}}],\"scattermapbox\":[{\"type\":\"scattermapbox\",\"marker\":{\"colorbar\":{\"outlinewidth\":0,\"ticks\":\"\"}}}],\"scatterternary\":[{\"type\":\"scatterternary\",\"marker\":{\"colorbar\":{\"outlinewidth\":0,\"ticks\":\"\"}}}],\"scattercarpet\":[{\"type\":\"scattercarpet\",\"marker\":{\"colorbar\":{\"outlinewidth\":0,\"ticks\":\"\"}}}],\"carpet\":[{\"aaxis\":{\"endlinecolor\":\"#2a3f5f\",\"gridcolor\":\"white\",\"linecolor\":\"white\",\"minorgridcolor\":\"white\",\"startlinecolor\":\"#2a3f5f\"},\"baxis\":{\"endlinecolor\":\"#2a3f5f\",\"gridcolor\":\"white\",\"linecolor\":\"white\",\"minorgridcolor\":\"white\",\"startlinecolor\":\"#2a3f5f\"},\"type\":\"carpet\"}],\"table\":[{\"cells\":{\"fill\":{\"color\":\"#EBF0F8\"},\"line\":{\"color\":\"white\"}},\"header\":{\"fill\":{\"color\":\"#C8D4E3\"},\"line\":{\"color\":\"white\"}},\"type\":\"table\"}],\"barpolar\":[{\"marker\":{\"line\":{\"color\":\"#E5ECF6\",\"width\":0.5},\"pattern\":{\"fillmode\":\"overlay\",\"size\":10,\"solidity\":0.2}},\"type\":\"barpolar\"}],\"pie\":[{\"automargin\":true,\"type\":\"pie\"}]},\"layout\":{\"autotypenumbers\":\"strict\",\"colorway\":[\"#636efa\",\"#EF553B\",\"#00cc96\",\"#ab63fa\",\"#FFA15A\",\"#19d3f3\",\"#FF6692\",\"#B6E880\",\"#FF97FF\",\"#FECB52\"],\"font\":{\"color\":\"#2a3f5f\"},\"hovermode\":\"closest\",\"hoverlabel\":{\"align\":\"left\"},\"paper_bgcolor\":\"white\",\"plot_bgcolor\":\"#E5ECF6\",\"polar\":{\"bgcolor\":\"#E5ECF6\",\"angularaxis\":{\"gridcolor\":\"white\",\"linecolor\":\"white\",\"ticks\":\"\"},\"radialaxis\":{\"gridcolor\":\"white\",\"linecolor\":\"white\",\"ticks\":\"\"}},\"ternary\":{\"bgcolor\":\"#E5ECF6\",\"aaxis\":{\"gridcolor\":\"white\",\"linecolor\":\"white\",\"ticks\":\"\"},\"baxis\":{\"gridcolor\":\"white\",\"linecolor\":\"white\",\"ticks\":\"\"},\"caxis\":{\"gridcolor\":\"white\",\"linecolor\":\"white\",\"ticks\":\"\"}},\"coloraxis\":{\"colorbar\":{\"outlinewidth\":0,\"ticks\":\"\"}},\"colorscale\":{\"sequential\":[[0.0,\"#0d0887\"],[0.1111111111111111,\"#46039f\"],[0.2222222222222222,\"#7201a8\"],[0.3333333333333333,\"#9c179e\"],[0.4444444444444444,\"#bd3786\"],[0.5555555555555556,\"#d8576b\"],[0.6666666666666666,\"#ed7953\"],[0.7777777777777778,\"#fb9f3a\"],[0.8888888888888888,\"#fdca26\"],[1.0,\"#f0f921\"]],\"sequentialminus\":[[0.0,\"#0d0887\"],[0.1111111111111111,\"#46039f\"],[0.2222222222222222,\"#7201a8\"],[0.3333333333333333,\"#9c179e\"],[0.4444444444444444,\"#bd3786\"],[0.5555555555555556,\"#d8576b\"],[0.6666666666666666,\"#ed7953\"],[0.7777777777777778,\"#fb9f3a\"],[0.8888888888888888,\"#fdca26\"],[1.0,\"#f0f921\"]],\"diverging\":[[0,\"#8e0152\"],[0.1,\"#c51b7d\"],[0.2,\"#de77ae\"],[0.3,\"#f1b6da\"],[0.4,\"#fde0ef\"],[0.5,\"#f7f7f7\"],[0.6,\"#e6f5d0\"],[0.7,\"#b8e186\"],[0.8,\"#7fbc41\"],[0.9,\"#4d9221\"],[1,\"#276419\"]]},\"xaxis\":{\"gridcolor\":\"white\",\"linecolor\":\"white\",\"ticks\":\"\",\"title\":{\"standoff\":15},\"zerolinecolor\":\"white\",\"automargin\":true,\"zerolinewidth\":2},\"yaxis\":{\"gridcolor\":\"white\",\"linecolor\":\"white\",\"ticks\":\"\",\"title\":{\"standoff\":15},\"zerolinecolor\":\"white\",\"automargin\":true,\"zerolinewidth\":2},\"scene\":{\"xaxis\":{\"backgroundcolor\":\"#E5ECF6\",\"gridcolor\":\"white\",\"linecolor\":\"white\",\"showbackground\":true,\"ticks\":\"\",\"zerolinecolor\":\"white\",\"gridwidth\":2},\"yaxis\":{\"backgroundcolor\":\"#E5ECF6\",\"gridcolor\":\"white\",\"linecolor\":\"white\",\"showbackground\":true,\"ticks\":\"\",\"zerolinecolor\":\"white\",\"gridwidth\":2},\"zaxis\":{\"backgroundcolor\":\"#E5ECF6\",\"gridcolor\":\"white\",\"linecolor\":\"white\",\"showbackground\":true,\"ticks\":\"\",\"zerolinecolor\":\"white\",\"gridwidth\":2}},\"shapedefaults\":{\"line\":{\"color\":\"#2a3f5f\"}},\"annotationdefaults\":{\"arrowcolor\":\"#2a3f5f\",\"arrowhead\":0,\"arrowwidth\":1},\"geo\":{\"bgcolor\":\"white\",\"landcolor\":\"#E5ECF6\",\"subunitcolor\":\"white\",\"showland\":true,\"showlakes\":true,\"lakecolor\":\"white\"},\"title\":{\"x\":0.05},\"mapbox\":{\"style\":\"light\"}}},\"xaxis\":{\"anchor\":\"y\",\"domain\":[0.0,1.0],\"title\":{\"text\":\"Transaction Amount (INR)\"}},\"yaxis\":{\"anchor\":\"x\",\"domain\":[0.0,1.0],\"title\":{\"text\":\"Insurance Amount (INR)\"}},\"legend\":{\"tracegroupgap\":0},\"title\":{\"text\":\"💡 Correlation Between Transaction & Insurance Amounts\"}},                        {\"responsive\": true}                    ).then(function(){\n",
              "                            \n",
              "var gd = document.getElementById('c32ba694-1db6-4b92-af72-3c677b0b8472');\n",
              "var x = new MutationObserver(function (mutations, observer) {{\n",
              "        var display = window.getComputedStyle(gd).display;\n",
              "        if (!display || display === 'none') {{\n",
              "            console.log([gd, 'removed!']);\n",
              "            Plotly.purge(gd);\n",
              "            observer.disconnect();\n",
              "        }}\n",
              "}});\n",
              "\n",
              "// Listen for the removal of the full notebook cells\n",
              "var notebookContainer = gd.closest('#notebook-container');\n",
              "if (notebookContainer) {{\n",
              "    x.observe(notebookContainer, {childList: true});\n",
              "}}\n",
              "\n",
              "// Listen for the clearing of the current output cell\n",
              "var outputEl = gd.closest('.output');\n",
              "if (outputEl) {{\n",
              "    x.observe(outputEl, {childList: true});\n",
              "}}\n",
              "\n",
              "                        })                };                            </script>        </div>\n",
              "</body>\n",
              "</html>"
            ]
          },
          "metadata": {}
        }
      ]
    },
    {
      "cell_type": "code",
      "source": [
        "import pandas as pd\n",
        "import sqlite3\n",
        "import matplotlib.pyplot as plt\n",
        "import seaborn as sns\n"
      ],
      "metadata": {
        "id": "sX7W5E7fRqyV"
      },
      "execution_count": null,
      "outputs": []
    },
    {
      "cell_type": "code",
      "source": [
        "!ls /content/drive/MyDrive/\n"
      ],
      "metadata": {
        "colab": {
          "base_uri": "https://localhost:8080/"
        },
        "id": "eWiSmVZbZeqR",
        "outputId": "1cbf2ca8-40f4-499c-dacb-b8bd7567cfc9"
      },
      "execution_count": null,
      "outputs": [
        {
          "output_type": "stream",
          "name": "stdout",
          "text": [
            "ls: cannot access '/content/drive/MyDrive/': No such file or directory\n"
          ]
        }
      ]
    },
    {
      "cell_type": "code",
      "source": [
        "!mkdir -p /content/drive/MyDrive/phonepe_analysis_project\n"
      ],
      "metadata": {
        "id": "AaH46Z04ZjMr"
      },
      "execution_count": null,
      "outputs": []
    },
    {
      "cell_type": "code",
      "source": [
        "!ls /content/drive/MyDrive/phonepe_analysis_project\n"
      ],
      "metadata": {
        "id": "x9r_7yvOZmxM"
      },
      "execution_count": null,
      "outputs": []
    },
    {
      "cell_type": "code",
      "source": [
        "import sqlite3\n",
        "import os\n",
        "\n",
        "# Ensure path exists\n",
        "db_dir = \"/content/drive/MyDrive/phonepe_analysis_project\"\n",
        "os.makedirs(db_dir, exist_ok=True)\n",
        "\n",
        "# Define database path\n",
        "db_path = os.path.join(db_dir, \"phonepe_data.db\")\n",
        "\n",
        "# Connect to SQLite\n",
        "conn = sqlite3.connect(db_path)\n",
        "print(\"✅ Connected to SQLite database!\")\n"
      ],
      "metadata": {
        "colab": {
          "base_uri": "https://localhost:8080/"
        },
        "id": "1LExm0g1ZOEM",
        "outputId": "e2d71cec-e8dc-4a2c-9ce3-f76ae032bb90"
      },
      "execution_count": null,
      "outputs": [
        {
          "output_type": "stream",
          "name": "stdout",
          "text": [
            "✅ Connected to SQLite database!\n"
          ]
        }
      ]
    },
    {
      "cell_type": "code",
      "source": [
        "!git clone https://github.com/PhonePe/pulse.git /content/drive/MyDrive/phonepe_analysis_project/pulse\n"
      ],
      "metadata": {
        "colab": {
          "base_uri": "https://localhost:8080/"
        },
        "id": "lPQCuO3-aRiI",
        "outputId": "2e3209da-f373-46b7-d049-8c01289e0848"
      },
      "execution_count": null,
      "outputs": [
        {
          "output_type": "stream",
          "name": "stdout",
          "text": [
            "Cloning into '/content/drive/MyDrive/phonepe_analysis_project/pulse'...\n",
            "remote: Enumerating objects: 17904, done.\u001b[K\n",
            "remote: Counting objects:   2% (1/49)\u001b[K\rremote: Counting objects:   4% (2/49)\u001b[K\rremote: Counting objects:   6% (3/49)\u001b[K\rremote: Counting objects:   8% (4/49)\u001b[K\rremote: Counting objects:  10% (5/49)\u001b[K\rremote: Counting objects:  12% (6/49)\u001b[K\rremote: Counting objects:  14% (7/49)\u001b[K\rremote: Counting objects:  16% (8/49)\u001b[K\rremote: Counting objects:  18% (9/49)\u001b[K\rremote: Counting objects:  20% (10/49)\u001b[K\rremote: Counting objects:  22% (11/49)\u001b[K\rremote: Counting objects:  24% (12/49)\u001b[K\rremote: Counting objects:  26% (13/49)\u001b[K\rremote: Counting objects:  28% (14/49)\u001b[K\rremote: Counting objects:  30% (15/49)\u001b[K\rremote: Counting objects:  32% (16/49)\u001b[K\rremote: Counting objects:  34% (17/49)\u001b[K\rremote: Counting objects:  36% (18/49)\u001b[K\rremote: Counting objects:  38% (19/49)\u001b[K\rremote: Counting objects:  40% (20/49)\u001b[K\rremote: Counting objects:  42% (21/49)\u001b[K\rremote: Counting objects:  44% (22/49)\u001b[K\rremote: Counting objects:  46% (23/49)\u001b[K\rremote: Counting objects:  48% (24/49)\u001b[K\rremote: Counting objects:  51% (25/49)\u001b[K\rremote: Counting objects:  53% (26/49)\u001b[K\rremote: Counting objects:  55% (27/49)\u001b[K\rremote: Counting objects:  57% (28/49)\u001b[K\rremote: Counting objects:  59% (29/49)\u001b[K\rremote: Counting objects:  61% (30/49)\u001b[K\rremote: Counting objects:  63% (31/49)\u001b[K\rremote: Counting objects:  65% (32/49)\u001b[K\rremote: Counting objects:  67% (33/49)\u001b[K\rremote: Counting objects:  69% (34/49)\u001b[K\rremote: Counting objects:  71% (35/49)\u001b[K\rremote: Counting objects:  73% (36/49)\u001b[K\rremote: Counting objects:  75% (37/49)\u001b[K\rremote: Counting objects:  77% (38/49)\u001b[K\rremote: Counting objects:  79% (39/49)\u001b[K\rremote: Counting objects:  81% (40/49)\u001b[K\rremote: Counting objects:  83% (41/49)\u001b[K\rremote: Counting objects:  85% (42/49)\u001b[K\rremote: Counting objects:  87% (43/49)\u001b[K\rremote: Counting objects:  89% (44/49)\u001b[K\rremote: Counting objects:  91% (45/49)\u001b[K\rremote: Counting objects:  93% (46/49)\u001b[K\rremote: Counting objects:  95% (47/49)\u001b[K\rremote: Counting objects:  97% (48/49)\u001b[K\rremote: Counting objects: 100% (49/49)\u001b[K\rremote: Counting objects: 100% (49/49), done.\u001b[K\n",
            "remote: Compressing objects: 100% (32/32), done.\u001b[K\n",
            "remote: Total 17904 (delta 19), reused 17 (delta 17), pack-reused 17855 (from 2)\u001b[K\n",
            "Receiving objects: 100% (17904/17904), 26.13 MiB | 19.20 MiB/s, done.\n",
            "Resolving deltas: 100% (8723/8723), done.\n",
            "Updating files: 100% (9029/9029), done.\n"
          ]
        }
      ]
    },
    {
      "cell_type": "code",
      "source": [
        "import os\n",
        "import json\n",
        "import pandas as pd\n",
        "\n",
        "def extract_aggregated_transaction_json_to_csv(json_folder_path, output_csv_path):\n",
        "    data = []\n",
        "    for state in os.listdir(json_folder_path):\n",
        "        state_path = os.path.join(json_folder_path, state)\n",
        "        if os.path.isdir(state_path):\n",
        "            for year in os.listdir(state_path):\n",
        "                year_path = os.path.join(state_path, year)\n",
        "                if os.path.isdir(year_path):\n",
        "                    for quarter_file in os.listdir(year_path):\n",
        "                        file_path = os.path.join(year_path, quarter_file)\n",
        "                        if quarter_file.endswith(\".json\"):\n",
        "                            with open(file_path, 'r') as f:\n",
        "                                content = json.load(f)\n",
        "                                if content['data']['transactionData']:\n",
        "                                    for txn in content['data']['transactionData']:\n",
        "                                        record = {\n",
        "                                            'state': state,\n",
        "                                            'year': int(year),\n",
        "                                            'quarter': int(quarter_file.strip('.json')),\n",
        "                                            'transaction_type': txn['name'],\n",
        "                                            'transaction_count': txn['paymentInstruments'][0]['count'],\n",
        "                                            'transaction_amount': txn['paymentInstruments'][0]['amount']\n",
        "                                        }\n",
        "                                        data.append(record)\n",
        "\n",
        "    df = pd.DataFrame(data)\n",
        "    df.to_csv(output_csv_path, index=False)\n",
        "    print(\"✅ Extracted and saved to:\", output_csv_path)\n",
        "\n",
        "# Paths\n",
        "json_path = \"/content/drive/MyDrive/phonepe_analysis_project/pulse/data/aggregated/transaction/country/india\"\n",
        "output_csv = \"/content/drive/MyDrive/phonepe_analysis_project/extracted_data/aggregated_transactions.csv\"\n",
        "\n",
        "# Ensure output folder exists\n",
        "os.makedirs(os.path.dirname(output_csv), exist_ok=True)\n",
        "\n",
        "# Extract\n",
        "extract_aggregated_transaction_json_to_csv(json_path, output_csv)\n"
      ],
      "metadata": {
        "colab": {
          "base_uri": "https://localhost:8080/"
        },
        "id": "4topk15FapQG",
        "outputId": "23d80769-814a-4633-efab-c54c2906f348"
      },
      "execution_count": null,
      "outputs": [
        {
          "output_type": "stream",
          "name": "stdout",
          "text": [
            "✅ Extracted and saved to: /content/drive/MyDrive/phonepe_analysis_project/extracted_data/aggregated_transactions.csv\n"
          ]
        }
      ]
    },
    {
      "cell_type": "code",
      "source": [
        "!head /content/drive/MyDrive/phonepe_analysis_project/extracted_data/aggregated_transactions.csv\n"
      ],
      "metadata": {
        "colab": {
          "base_uri": "https://localhost:8080/"
        },
        "id": "H_6RUzVMbDAt",
        "outputId": "c2e5e0ed-fb9d-4189-f692-ad414d07869a"
      },
      "execution_count": null,
      "outputs": [
        {
          "output_type": "stream",
          "name": "stdout",
          "text": [
            "head: cannot open '/content/drive/MyDrive/phonepe_analysis_project/extracted_data/aggregated_transactions.csv' for reading: No such file or directory\n"
          ]
        }
      ]
    },
    {
      "cell_type": "code",
      "source": [
        "import os\n",
        "import json\n",
        "import pandas as pd\n",
        "\n",
        "def extract_aggregated_transaction_json_to_csv(json_folder_path, output_csv_path):\n",
        "    data = []\n",
        "    count = 0\n",
        "    for state in os.listdir(json_folder_path):\n",
        "        # Normalize state names to handle variations (e.g., spaces vs. hyphens)\n",
        "        normalized_state = state.replace(' ', '-').lower()\n",
        "        state_path = os.path.join(json_folder_path, state)\n",
        "        if os.path.isdir(state_path):\n",
        "            for year in os.listdir(state_path):\n",
        "                year_path = os.path.join(state_path, year)\n",
        "                if os.path.isdir(year_path):\n",
        "                    for quarter_file in os.listdir(year_path):\n",
        "                        file_path = os.path.join(year_path, quarter_file)\n",
        "                        if quarter_file.endswith(\".json\"):\n",
        "                            with open(file_path, 'r') as f:\n",
        "                                content = json.load(f)\n",
        "                                if content['data'] and content['data']['transactionData']:\n",
        "                                    for txn in content['data']['transactionData']:\n",
        "                                        record = {\n",
        "                                            'state': normalized_state, # Use normalized state name\n",
        "                                            'year': int(year),\n",
        "                                            'quarter': int(quarter_file.strip('.json')),\n",
        "                                            'transaction_type': txn['name'],\n",
        "                                            'transaction_count': txn['paymentInstruments'][0]['count'],\n",
        "                                            'transaction_amount': txn['paymentInstruments'][0]['amount']\n",
        "                                        }\n",
        "                                        data.append(record)\n",
        "                                        count += 1\n",
        "    print(f\"✅ Extracted {count} records\")\n",
        "\n",
        "    if data:\n",
        "        df = pd.DataFrame(data)\n",
        "        df.to_csv(output_csv_path, index=False)\n",
        "        print(\"✅ Saved to CSV:\", output_csv_path)\n",
        "    else:\n",
        "        print(\"⚠️ No data found. CSV not created.\")"
      ],
      "metadata": {
        "id": "-gmpR3mJZ0tO"
      },
      "execution_count": 2,
      "outputs": []
    },
    {
      "cell_type": "code",
      "source": [
        "from google.colab import drive\n",
        "drive.mount('/content/drive')\n",
        "import sqlite3\n",
        "import pandas as pd\n",
        "import matplotlib.pyplot as plt\n",
        "import seaborn as sns\n",
        "import os\n",
        "\n",
        "# Ensure path exists\n",
        "db_dir = \"/content/drive/MyDrive/phonepe_analysis_project\"\n",
        "db_path = os.path.join(db_dir, \"phonepe_data.db\")\n",
        "\n",
        "# Connect to SQLite DB\n",
        "conn = sqlite3.connect(db_path)\n",
        "\n",
        "# Read the aggregated_user table\n",
        "df_user = pd.read_sql_query(\"SELECT * FROM aggregated_user\", conn)\n",
        "\n",
        "# Calculate total user count per state\n",
        "engagement = df_user.groupby('state')['user_count'].sum().reset_index()\n",
        "\n",
        "# Create a bar plot of total user count by state\n",
        "plt.figure(figsize=(12, 6))\n",
        "sns.barplot(data=engagement, x='state', y='user_count')\n",
        "plt.xticks(rotation=90)\n",
        "plt.title(\"Total User Count by State\")\n",
        "plt.ylabel(\"Total User Count\")\n",
        "plt.tight_layout()\n",
        "plt.show()\n",
        "\n",
        "conn.close() # Close the connection after use"
      ],
      "metadata": {
        "id": "p-DOdNnJfW29",
        "colab": {
          "base_uri": "https://localhost:8080/",
          "height": 624
        },
        "outputId": "1d2fcb71-8a3f-41f9-cf3b-0a30afe2126f"
      },
      "execution_count": 40,
      "outputs": [
        {
          "output_type": "stream",
          "name": "stdout",
          "text": [
            "Drive already mounted at /content/drive; to attempt to forcibly remount, call drive.mount(\"/content/drive\", force_remount=True).\n"
          ]
        },
        {
          "output_type": "display_data",
          "data": {
            "text/plain": [
              "<Figure size 1200x600 with 1 Axes>"
            ],
            "image/png": "[encoded data removed]"
          },
          "metadata": {}
        }
      ]
    },
    {
      "cell_type": "code",
      "metadata": {
        "colab": {
          "base_uri": "https://localhost:8080/"
        },
        "id": "858cbb50",
        "outputId": "e65367b2-a313-4d99-a8d5-540c886625d6"
      },
      "source": [
        "# 1. aggregated_transaction table\n",
        "cursor.execute(\"\"\"\n",
        "CREATE TABLE IF NOT EXISTS aggregated_transaction (\n",
        "    state TEXT,\n",
        "    year INTEGER,\n",
        "    quarter INTEGER,\n",
        "    transaction_type TEXT,\n",
        "    transaction_count INTEGER,\n",
        "    transaction_amount REAL\n",
        ")\n",
        "\"\"\")"
      ],
      "execution_count": 50,
      "outputs": [
        {
          "output_type": "execute_result",
          "data": {
            "text/plain": [
              "<sqlite3.Cursor at 0x7aea676cb940>"
            ]
          },
          "metadata": {},
          "execution_count": 50
        }
      ]
    },
    {
      "cell_type": "code",
      "metadata": {
        "colab": {
          "base_uri": "https://localhost:8080/"
        },
        "id": "39ab2d1d",
        "outputId": "9136f7f5-ec70-4cf4-99af-c119330e4722"
      },
      "source": [
        "# 2. aggregated_user table\n",
        "cursor.execute(\"\"\"\n",
        "CREATE TABLE IF NOT EXISTS aggregated_user (\n",
        "    state TEXT,\n",
        "    year INTEGER,\n",
        "    quarter INTEGER,\n",
        "    device_brand TEXT,\n",
        "    user_count INTEGER,\n",
        "    percentage REAL\n",
        ")\n",
        "\"\"\")"
      ],
      "execution_count": 51,
      "outputs": [
        {
          "output_type": "execute_result",
          "data": {
            "text/plain": [
              "<sqlite3.Cursor at 0x7aea676cb940>"
            ]
          },
          "metadata": {},
          "execution_count": 51
        }
      ]
    },
    {
      "cell_type": "code",
      "metadata": {
        "colab": {
          "base_uri": "https://localhost:8080/"
        },
        "id": "838a9f0d",
        "outputId": "38516f03-2e9f-48fa-ddc8-5a15d89216cd"
      },
      "source": [
        "# 3. map_transaction table\n",
        "cursor.execute(\"\"\"\n",
        "CREATE TABLE IF NOT EXISTS map_transaction (\n",
        "    state TEXT,\n",
        "    year INTEGER,\n",
        "    quarter INTEGER,\n",
        "    district TEXT,\n",
        "    transaction_count INTEGER,\n",
        "    transaction_amount REAL\n",
        ")\n",
        "\"\"\")"
      ],
      "execution_count": 52,
      "outputs": [
        {
          "output_type": "execute_result",
          "data": {
            "text/plain": [
              "<sqlite3.Cursor at 0x7aea676cb940>"
            ]
          },
          "metadata": {},
          "execution_count": 52
        }
      ]
    },
    {
      "cell_type": "code",
      "metadata": {
        "id": "b32595fa"
      },
      "source": [
        "# Connect to SQLite DB\n",
        "db_dir = \"/content/drive/MyDrive/phonepe_analysis_project\"\n",
        "db_path = os.path.join(db_dir, \"phonepe_data.db\")\n",
        "conn = sqlite3.connect(db_path)\n",
        "cursor = conn.cursor()"
      ],
      "execution_count": 53,
      "outputs": []
    },
    {
      "cell_type": "code",
      "metadata": {
        "colab": {
          "base_uri": "https://localhost:8080/"
        },
        "id": "6eae555b",
        "outputId": "d10b6b41-7d48-4cb5-d02f-408c58cb5bcf"
      },
      "source": [
        "# Load and insert into aggregated_transaction\n",
        "df_txn = pd.read_csv(\"extracted_csvs/aggregated_transaction.csv\")\n",
        "df_txn.to_sql(\"aggregated_transaction\", conn, if_exists=\"append\", index=False)"
      ],
      "execution_count": 55,
      "outputs": [
        {
          "output_type": "execute_result",
          "data": {
            "text/plain": [
              "5034"
            ]
          },
          "metadata": {},
          "execution_count": 55
        }
      ]
    },
    {
      "cell_type": "code",
      "metadata": {
        "colab": {
          "base_uri": "https://localhost:8080/"
        },
        "id": "be4de095",
        "outputId": "0b77aee2-45f1-40ab-870b-d9258996e274"
      },
      "source": [
        "# Load and insert into aggregated_user\n",
        "df_user = pd.read_csv(\"extracted_csvs/aggregated_user.csv\")\n",
        "df_user.to_sql(\"aggregated_user\", conn, if_exists=\"append\", index=False)"
      ],
      "execution_count": 56,
      "outputs": [
        {
          "output_type": "execute_result",
          "data": {
            "text/plain": [
              "6732"
            ]
          },
          "metadata": {},
          "execution_count": 56
        }
      ]
    },
    {
      "cell_type": "code",
      "metadata": {
        "colab": {
          "base_uri": "https://localhost:8080/"
        },
        "id": "6ec3d813",
        "outputId": "46d9be94-ffd2-4b98-8f0c-2b47788493b4"
      },
      "source": [
        "# Load and insert into map_transaction\n",
        "df_map_txn = pd.read_csv(\"extracted_csvs/map_transaction.csv\")\n",
        "df_map_txn.to_sql(\"map_transaction\", conn, if_exists=\"append\", index=False)"
      ],
      "execution_count": 57,
      "outputs": [
        {
          "output_type": "execute_result",
          "data": {
            "text/plain": [
              "20604"
            ]
          },
          "metadata": {},
          "execution_count": 57
        }
      ]
    },
    {
      "cell_type": "code",
      "metadata": {
        "id": "53104702"
      },
      "source": [
        "import os\n",
        "import json\n",
        "import pandas as pd\n",
        "\n",
        "# Base path to cloned repo\n",
        "base_path = 'pulse/data/aggregated/transaction/country/india/state/'\n",
        "\n",
        "# Output directory\n",
        "output_dir = 'extracted_csvs'\n",
        "os.makedirs(output_dir, exist_ok=True)\n",
        "\n",
        "data = []\n",
        "\n",
        "# Loop through states and years\n",
        "for state in os.listdir(base_path):\n",
        "    state_path = os.path.join(base_path, state)\n",
        "    for year in os.listdir(state_path):\n",
        "        year_path = os.path.join(state_path, year)\n",
        "        for quarter_file in os.listdir(year_path):\n",
        "            file_path = os.path.join(year_path, quarter_file)\n",
        "            with open(file_path, 'r') as f:\n",
        "                content = json.load(f)\n",
        "                for item in content['data']['transactionData']:\n",
        "                    data.append({\n",
        "                        'state': state,\n",
        "                        'year': int(year),\n",
        "                        'quarter': int(quarter_file.strip('.json')),\n",
        "                        'transaction_type': item['name'],\n",
        "                        'transaction_count': item['paymentInstruments'][0]['count'],\n",
        "                        'transaction_amount': item['paymentInstruments'][0]['amount']\n",
        "                    })\n",
        "\n",
        "# Convert to DataFrame and save as CSV\n",
        "df = pd.DataFrame(data)\n",
        "df.to_csv(os.path.join(output_dir, 'aggregated_transaction.csv'), index=False)"
      ],
      "execution_count": 58,
      "outputs": []
    },
    {
      "cell_type": "code",
      "metadata": {
        "colab": {
          "base_uri": "https://localhost:8080/"
        },
        "id": "45618d87",
        "outputId": "5711fd77-22ef-41cd-95ae-38077273964c"
      },
      "source": [
        "import os\n",
        "import json\n",
        "import pandas as pd\n",
        "\n",
        "user_data = []\n",
        "user_path = 'pulse/data/aggregated/user/country/india/state/'\n",
        "\n",
        "for state in os.listdir(user_path):\n",
        "    state_path = os.path.join(user_path, state)\n",
        "    for year in os.listdir(state_path):\n",
        "        year_path = os.path.join(state_path, year)\n",
        "        for file in os.listdir(year_path):\n",
        "            quarter = int(file.strip('.json'))\n",
        "            file_path = os.path.join(year_path, file)\n",
        "            with open(file_path, 'r') as f:\n",
        "                content = json.load(f)\n",
        "                users = content.get('data', {}).get('usersByDevice', [])\n",
        "                if users:  # Check if users is not None and not empty\n",
        "                    for user in users:\n",
        "                        user_data.append({\n",
        "                            'state': state,\n",
        "                            'year': int(year),\n",
        "                            'quarter': quarter,\n",
        "                            'device_brand': user.get('brand'),\n",
        "                            'user_count': user.get('count'),\n",
        "                            'percentage': user.get('percentage')\n",
        "                        })\n",
        "\n",
        "# Save the CSV\n",
        "os.makedirs(\"extracted_csvs\", exist_ok=True)\n",
        "df_user = pd.DataFrame(user_data)\n",
        "df_user.to_csv(\"extracted_csvs/aggregated_user.csv\", index=False)\n",
        "\n",
        "print(\"✅ extracted_csvs/aggregated_user.csv created.\")"
      ],
      "execution_count": 59,
      "outputs": [
        {
          "output_type": "stream",
          "name": "stdout",
          "text": [
            "✅ extracted_csvs/aggregated_user.csv created.\n"
          ]
        }
      ]
    },
    {
      "cell_type": "code",
      "metadata": {
        "colab": {
          "base_uri": "https://localhost:8080/"
        },
        "id": "97439a1e",
        "outputId": "8cea69c6-d71c-4b08-eb66-c5916475c8c7"
      },
      "source": [
        "import os\n",
        "import json\n",
        "import pandas as pd\n",
        "\n",
        "map_txn_data = []\n",
        "map_txn_path = 'pulse/data/map/transaction/hover/country/india/state/'\n",
        "\n",
        "for state in os.listdir(map_txn_path):\n",
        "    state_path = os.path.join(map_txn_path, state)\n",
        "    for year in os.listdir(state_path):\n",
        "        year_path = os.path.join(state_path, year)\n",
        "        for file in os.listdir(year_path):\n",
        "            quarter = int(file.strip('.json'))\n",
        "            file_path = os.path.join(year_path, file)\n",
        "            with open(file_path, 'r') as f:\n",
        "                content = json.load(f)\n",
        "                hover_data = content.get('data', {}).get('hoverDataList', [])\n",
        "                for district in hover_data:\n",
        "                    metric = district.get('metric', [])[0] if district.get('metric') else {}\n",
        "                    map_txn_data.append({\n",
        "                        'state': state,\n",
        "                        'year': int(year),\n",
        "                        'quarter': quarter,\n",
        "                        'district': district.get('name'),\n",
        "                        'transaction_count': metric.get('count'),\n",
        "                        'transaction_amount': metric.get('amount')\n",
        "                    })\n",
        "\n",
        "# Create DataFrame and save\n",
        "df_map_txn = pd.DataFrame(map_txn_data)\n",
        "os.makedirs(\"extracted_csvs\", exist_ok=True)\n",
        "df_map_txn.to_csv(\"extracted_csvs/map_transaction.csv\", index=False)\n",
        "\n",
        "print(\"✅ extracted_csvs/map_transaction.csv created.\")"
      ],
      "execution_count": 60,
      "outputs": [
        {
          "output_type": "stream",
          "name": "stdout",
          "text": [
            "✅ extracted_csvs/map_transaction.csv created.\n"
          ]
        }
      ]
    },
    {
      "cell_type": "code",
      "metadata": {
        "colab": {
          "base_uri": "https://localhost:8080/"
        },
        "id": "4feb4fde",
        "outputId": "511c10e5-f563-4f01-ee45-cd61930d8ab1"
      },
      "source": [
        "# clone the Github repo\n",
        "!git clone https://github.com/PhonePe/pulse.git"
      ],
      "execution_count": 20,
      "outputs": [
        {
          "output_type": "stream",
          "name": "stdout",
          "text": [
            "Cloning into 'pulse'...\n",
            "remote: Enumerating objects: 17904, done.\u001b[K\n",
            "remote: Counting objects: 100% (49/49), done.\u001b[K\n",
            "remote: Compressing objects: 100% (32/32), done.\u001b[K\n",
            "remote: Total 17904 (delta 19), reused 17 (delta 17), pack-reused 17855 (from 2)\u001b[K\n",
            "Receiving objects: 100% (17904/17904), 26.13 MiB | 16.89 MiB/s, done.\n",
            "Resolving deltas: 100% (8723/8723), done.\n",
            "Updating files: 100% (9029/9029), done.\n"
          ]
        }
      ]
    },
    {
      "cell_type": "code",
      "metadata": {
        "id": "ffa9614f"
      },
      "source": [
        "import os\n",
        "import json\n",
        "import pandas as pd\n",
        "\n",
        "# Base path to cloned repo\n",
        "base_path = 'pulse/data/aggregated/transaction/country/india/state/'\n",
        "\n",
        "# Output directory\n",
        "output_dir = 'extracted_csvs'\n",
        "os.makedirs(output_dir, exist_ok=True)\n",
        "\n",
        "data = []\n",
        "\n",
        "# Loop through states and years\n",
        "for state in os.listdir(base_path):\n",
        "    state_path = os.path.join(base_path, state)\n",
        "    for year in os.listdir(state_path):\n",
        "        year_path = os.path.join(state_path, year)\n",
        "        for quarter_file in os.listdir(year_path):\n",
        "            file_path = os.path.join(year_path, quarter_file)\n",
        "            with open(file_path, 'r') as f:\n",
        "                content = json.load(f)\n",
        "                for item in content['data']['transactionData']:\n",
        "                    data.append({\n",
        "                        'state': state,\n",
        "                        'year': int(year),\n",
        "                        'quarter': int(quarter_file.strip('.json')),\n",
        "                        'transaction_type': item['name'],\n",
        "                        'transaction_count': item['paymentInstruments'][0]['count'],\n",
        "                        'transaction_amount': item['paymentInstruments'][0]['amount']\n",
        "                    })\n",
        "\n",
        "# Convert to DataFrame and save as CSV\n",
        "df = pd.DataFrame(data)\n",
        "df.to_csv(os.path.join(output_dir, 'aggregated_transaction.csv'), index=False)"
      ],
      "execution_count": 21,
      "outputs": []
    },
    {
      "cell_type": "code",
      "metadata": {
        "colab": {
          "base_uri": "https://localhost:8080/"
        },
        "id": "573304bb",
        "outputId": "48a4093f-7e1e-4f2e-b78f-a969f48d1d48"
      },
      "source": [
        "import os\n",
        "import json\n",
        "import pandas as pd\n",
        "\n",
        "user_data = []\n",
        "user_path = 'pulse/data/aggregated/user/country/india/state/'\n",
        "\n",
        "for state in os.listdir(user_path):\n",
        "    state_path = os.path.join(user_path, state)\n",
        "    for year in os.listdir(state_path):\n",
        "        year_path = os.path.join(state_path, year)\n",
        "        for file in os.listdir(year_path):\n",
        "            quarter = int(file.strip('.json'))\n",
        "            file_path = os.path.join(year_path, file)\n",
        "            with open(file_path, 'r') as f:\n",
        "                content = json.load(f)\n",
        "                users = content.get('data', {}).get('usersByDevice', [])\n",
        "                if users:  # Check if users is not None and not empty\n",
        "                    for user in users:\n",
        "                        user_data.append({\n",
        "                            'state': state,\n",
        "                            'year': int(year),\n",
        "                            'quarter': quarter,\n",
        "                            'device_brand': user.get('brand'),\n",
        "                            'user_count': user.get('count'),\n",
        "                            'percentage': user.get('percentage')\n",
        "                        })\n",
        "\n",
        "# Save the CSV\n",
        "os.makedirs(\"extracted_csvs\", exist_ok=True)\n",
        "df_user = pd.DataFrame(user_data)\n",
        "df_user.to_csv(\"extracted_csvs/aggregated_user.csv\", index=False)\n",
        "\n",
        "print(\"✅ extracted_csvs/aggregated_user.csv created.\")"
      ],
      "execution_count": 22,
      "outputs": [
        {
          "output_type": "stream",
          "name": "stdout",
          "text": [
            "✅ extracted_csvs/aggregated_user.csv created.\n"
          ]
        }
      ]
    },
    {
      "cell_type": "code",
      "metadata": {
        "colab": {
          "base_uri": "https://localhost:8080/"
        },
        "id": "29fcd0da",
        "outputId": "b831f89a-dc95-44c5-92b2-1105072e3ea3"
      },
      "source": [
        "import os\n",
        "import json\n",
        "import pandas as pd\n",
        "\n",
        "map_txn_data = []\n",
        "map_txn_path = 'pulse/data/map/transaction/hover/country/india/state/'\n",
        "\n",
        "for state in os.listdir(map_txn_path):\n",
        "    state_path = os.path.join(map_txn_path, state)\n",
        "    for year in os.listdir(state_path):\n",
        "        year_path = os.path.join(state_path, year)\n",
        "        for file in os.listdir(year_path):\n",
        "            quarter = int(file.strip('.json'))\n",
        "            file_path = os.path.join(year_path, file)\n",
        "            with open(file_path, 'r') as f:\n",
        "                content = json.load(f)\n",
        "                hover_data = content.get('data', {}).get('hoverDataList', [])\n",
        "                for district in hover_data:\n",
        "                    metric = district.get('metric', [])[0] if district.get('metric') else {}\n",
        "                    map_txn_data.append({\n",
        "                        'state': state,\n",
        "                        'year': int(year),\n",
        "                        'quarter': quarter,\n",
        "                        'district': district.get('name'),\n",
        "                        'transaction_count': metric.get('count'),\n",
        "                        'transaction_amount': metric.get('amount')\n",
        "                    })\n",
        "\n",
        "# Create DataFrame and save\n",
        "df_map_txn = pd.DataFrame(map_txn_data)\n",
        "os.makedirs(\"extracted_csvs\", exist_ok=True)\n",
        "df_map_txn.to_csv(\"extracted_csvs/map_transaction.csv\", index=False)\n",
        "\n",
        "print(\"✅ extracted_csvs/map_transaction.csv created.\")"
      ],
      "execution_count": 23,
      "outputs": [
        {
          "output_type": "stream",
          "name": "stdout",
          "text": [
            "✅ extracted_csvs/map_transaction.csv created.\n"
          ]
        }
      ]
    },
    {
      "cell_type": "code",
      "metadata": {
        "colab": {
          "base_uri": "https://localhost:8080/"
        },
        "id": "007b755d",
        "outputId": "497d7c34-5a38-4c81-eb9f-834eab49d6f2"
      },
      "source": [
        "import os\n",
        "import json\n",
        "import pandas as pd\n",
        "\n",
        "# Assuming the 'pulse' repository is cloned in the current directory\n",
        "user_path = 'pulse/data/aggregated/user/country/india/'\n",
        "output_csv = \"extracted_csvs/aggregated_user.csv\"\n",
        "\n",
        "# Ensure output folder exists\n",
        "os.makedirs(os.path.dirname(output_csv), exist_ok=True)\n",
        "\n",
        "def extract_json_to_csv(base_path, data_type, output_csv):\n",
        "    import os\n",
        "    import json\n",
        "    rows = []\n",
        "\n",
        "    for state in os.listdir(base_path):\n",
        "        state_path = os.path.join(base_path, state)\n",
        "        if not os.path.isdir(state_path):  # Skip if not a directory\n",
        "            continue\n",
        "\n",
        "        for year in os.listdir(state_path):\n",
        "            year_path = os.path.join(state_path, year)\n",
        "            if not os.path.isdir(year_path):  # Skip if not a directory\n",
        "                continue\n",
        "\n",
        "            for file in os.listdir(year_path):\n",
        "                if not file.endswith(\".json\"):\n",
        "                    continue\n",
        "\n",
        "                quarter = file.replace(\".json\", \"\")\n",
        "                file_path = os.path.join(year_path, file)\n",
        "\n",
        "                try:\n",
        "                    with open(file_path, 'r') as f:\n",
        "                        data = json.load(f)\n",
        "\n",
        "                    if data_type == 'transaction':\n",
        "                        for item in data['data']['transactionData']:\n",
        "                            rows.append({\n",
        "                                'state': state,\n",
        "                                'year': int(year),\n",
        "                                'quarter': int(quarter[-1]),\n",
        "                                'transaction_type': item['name'],\n",
        "                                'transaction_count': item['paymentInstruments'][0]['count'],\n",
        "                                'transaction_amount': item['paymentInstruments'][0]['amount']\n",
        "                            })\n",
        "\n",
        "                    elif data_type == 'user':\n",
        "                        # Extracting data from 'usersByDevice'\n",
        "                        users_by_device = data.get('data', {}).get('usersByDevice', [])\n",
        "                        if users_by_device:\n",
        "                            for user in users_by_device:\n",
        "                                rows.append({\n",
        "                                    'state': state,\n",
        "                                    'year': int(year),\n",
        "                                    'quarter': int(quarter[-1]),\n",
        "                                    'device_brand': user.get('brand'),\n",
        "                                    'user_count': user.get('count'),\n",
        "                                    'percentage': user.get('percentage')\n",
        "                                })\n",
        "                        else:\n",
        "                            # Fallback to 'aggregated' if 'usersByDevice' is empty or missing\n",
        "                            aggregated_data = data.get('data', {}).get('aggregated', {})\n",
        "                            users = aggregated_data.get('registeredUsers')\n",
        "                            opens = aggregated_data.get('appOpens')\n",
        "\n",
        "                            # Check if both users and opens are available before appending\n",
        "                            if users is not None and opens is not None:\n",
        "                                 rows.append({\n",
        "                                    'state': state,\n",
        "                                    'year': int(year),\n",
        "                                    'quarter': int(quarter[-1]),\n",
        "                                    'registered_users': users,\n",
        "                                    'app_opens': opens,\n",
        "                                    'device_brand': 'All', # Add a placeholder for device brand\n",
        "                                    'user_count': users, # Use registered users as user count in this case\n",
        "                                    'percentage': 1.0 # Assuming 100% of users\n",
        "                                })\n",
        "                            else:\n",
        "                                print(f\"⚠️ No user data found in expected structures for {file_path}\")\n",
        "\n",
        "\n",
        "                    elif data_type == 'insurance':\n",
        "                        for item in data['data']['transactionData']:\n",
        "                            rows.append({\n",
        "                                'state': state,\n",
        "                                'year': int(year),\n",
        "                                'quarter': int(quarter[-1]),\n",
        "                                'insurance_type': item['name'],\n",
        "                                'transaction_count': item['paymentInstruments'][0]['count'],\n",
        "                                'transaction_amount': item['paymentInstruments'][0]['amount']\n",
        "                            })\n",
        "\n",
        "                except Exception as e:\n",
        "                    print(f\"❌ Error reading {file_path}: {e}\")\n",
        "                    continue\n",
        "\n",
        "    df = pd.DataFrame(rows)\n",
        "    df.to_csv(output_csv, index=False)\n",
        "    print(f\"✅ Data saved to {output_csv}\")\n",
        "\n",
        "# Extract user data with the corrected function\n",
        "extract_json_to_csv(user_path, \"user\", output_csv)"
      ],
      "execution_count": 46,
      "outputs": [
        {
          "output_type": "stream",
          "name": "stdout",
          "text": [
            "✅ Data saved to extracted_csvs/aggregated_user.csv\n"
          ]
        }
      ]
    },
    {
      "cell_type": "code",
      "metadata": {
        "colab": {
          "base_uri": "https://localhost:8080/"
        },
        "id": "46eb3dec",
        "outputId": "2099dae0-9fa7-4f8f-995a-70af36deaf2f"
      },
      "source": [
        "import sqlite3\n",
        "import pandas as pd\n",
        "import os\n",
        "\n",
        "# Ensure path exists\n",
        "db_dir = \"/content/drive/MyDrive/phonepe_analysis_project\"\n",
        "db_path = os.path.join(db_dir, \"phonepe_data.db\")\n",
        "\n",
        "# Connect to SQLite DB\n",
        "conn = sqlite3.connect(db_path)\n",
        "\n",
        "# Load the new aggregated_user.csv and replace the existing table\n",
        "df_user = pd.read_csv(\"extracted_csvs/aggregated_user.csv\")\n",
        "df_user.to_sql(\"aggregated_user\", conn, if_exists=\"replace\", index=False)\n",
        "\n",
        "conn.commit()\n",
        "conn.close()\n",
        "\n",
        "print(\"✅ Aggregated user table updated in the database.\")"
      ],
      "execution_count": 49,
      "outputs": [
        {
          "output_type": "stream",
          "name": "stdout",
          "text": [
            "✅ Aggregated user table updated in the database.\n"
          ]
        }
      ]
    },
    {
      "cell_type": "code",
      "metadata": {
        "colab": {
          "base_uri": "https://localhost:8080/",
          "height": 542
        },
        "id": "1bfe7500",
        "outputId": "448c4f5c-f78a-4606-9b28-ac591c54833c"
      },
      "source": [
        "#1. Total Transaction Amount by State\n",
        "import sqlite3\n",
        "import pandas as pd\n",
        "import plotly.express as px\n",
        "conn = sqlite3.connect(\"phonepe_data.db\")\n",
        "df = pd.read_sql_query(\"\"\"\n",
        "SELECT state, SUM(transaction_amount) AS total_amount\n",
        "FROM aggregated_transaction\n",
        "GROUP BY state\n",
        "ORDER BY total_amount DESC\n",
        "\"\"\", conn)\n",
        "fig = px.bar(df, x=\"state\", y=\"total_amount\", title=\"Total Transaction Amount by State\",\n",
        "             labels={\"total_amount\": \"INR\"}, color=\"total_amount\")\n",
        "fig.show()\n",
        "conn.close()"
      ],
      "execution_count": 41,
      "outputs": [
        {
          "output_type": "display_data",
          "data": {
            "text/html": [
              "<html>\n",
              "<head><meta charset=\"utf-8\" /></head>\n",
              "<body>\n",
              "    <div>            <script src=\"https://cdnjs.cloudflare.com/ajax/libs/mathjax/2.7.5/MathJax.js?config=TeX-AMS-MML_SVG\"></script><script type=\"text/javascript\">if (window.MathJax && window.MathJax.Hub && window.MathJax.Hub.Config) {window.MathJax.Hub.Config({SVG: {font: \"STIX-Web\"}});}</script>                <script type=\"text/javascript\">window.PlotlyConfig = {MathJaxConfig: 'local'};</script>\n",
              "        <script charset=\"utf-8\" src=\"https://cdn.plot.ly/plotly-2.35.2.min.js\"></script>                <div id=\"0ab5166c-7033-4c94-879d-8fe56b8a4ba7\" class=\"plotly-graph-div\" style=\"height:525px; width:100%;\"></div>            <script type=\"text/javascript\">                                    window.PLOTLYENV=window.PLOTLYENV || {};                                    if (document.getElementById(\"0ab5166c-7033-4c94-879d-8fe56b8a4ba7\")) {                    Plotly.newPlot(                        \"0ab5166c-7033-4c94-879d-8fe56b8a4ba7\",                        [{\"alignmentgroup\":\"True\",\"hovertemplate\":\"state=%{x}\\u003cbr\\u003eINR=%{marker.color}\\u003cextra\\u003e\\u003c\\u002fextra\\u003e\",\"legendgroup\":\"\",\"marker\":{\"color\":[41655955630076.32,40678721773666.37,40374195687971.67,34669080454846.824,26885212184899.86,26343235566259.227,19125279433026.812,17901349344779.715,15584164309413.676,12263982051532.613,11936219022648.535,11637520248963.945,10192905823125.365,9645036562815.906,5906646115660.922,4890472317487.814,3460792155997.8906,3076269164129.137,2983077809927.2935,1916488572014.3162,1184683177572.7312,687537358746.4003,511021161407.30316,292906588372.68604,274434950651.68094,237317074404.2651,201719857192.11557,200583408419.46304,186265635029.7436,162543901207.48492,130358591755.69926,118945401940.84941,88994622100.10213,70667453146.59807,46102103410.33137,1609320784.7771478],\"coloraxis\":\"coloraxis\",\"pattern\":{\"shape\":\"\"}},\"name\":\"\",\"offsetgroup\":\"\",\"orientation\":\"v\",\"showlegend\":false,\"textposition\":\"auto\",\"x\":[\"telangana\",\"karnataka\",\"maharashtra\",\"andhra-pradesh\",\"uttar-pradesh\",\"rajasthan\",\"madhya-pradesh\",\"bihar\",\"west-bengal\",\"odisha\",\"tamil-nadu\",\"delhi\",\"gujarat\",\"haryana\",\"jharkhand\",\"chhattisgarh\",\"assam\",\"kerala\",\"punjab\",\"uttarakhand\",\"jammu-&-kashmir\",\"himachal-pradesh\",\"goa\",\"chandigarh\",\"arunachal-pradesh\",\"puducherry\",\"dadra-&-nagar-haveli-&-daman-&-diu\",\"tripura\",\"manipur\",\"meghalaya\",\"nagaland\",\"sikkim\",\"ladakh\",\"andaman-&-nicobar-islands\",\"mizoram\",\"lakshadweep\"],\"xaxis\":\"x\",\"y\":[41655955630076.32,40678721773666.37,40374195687971.67,34669080454846.824,26885212184899.86,26343235566259.227,19125279433026.812,17901349344779.715,15584164309413.676,12263982051532.613,11936219022648.535,11637520248963.945,10192905823125.365,9645036562815.906,5906646115660.922,4890472317487.814,3460792155997.8906,3076269164129.137,2983077809927.2935,1916488572014.3162,1184683177572.7312,687537358746.4003,511021161407.30316,292906588372.68604,274434950651.68094,237317074404.2651,201719857192.11557,200583408419.46304,186265635029.7436,162543901207.48492,130358591755.69926,118945401940.84941,88994622100.10213,70667453146.59807,46102103410.33137,1609320784.7771478],\"yaxis\":\"y\",\"type\":\"bar\"}],                        {\"template\":{\"data\":{\"histogram2dcontour\":[{\"type\":\"histogram2dcontour\",\"colorbar\":{\"outlinewidth\":0,\"ticks\":\"\"},\"colorscale\":[[0.0,\"#0d0887\"],[0.1111111111111111,\"#46039f\"],[0.2222222222222222,\"#7201a8\"],[0.3333333333333333,\"#9c179e\"],[0.4444444444444444,\"#bd3786\"],[0.5555555555555556,\"#d8576b\"],[0.6666666666666666,\"#ed7953\"],[0.7777777777777778,\"#fb9f3a\"],[0.8888888888888888,\"#fdca26\"],[1.0,\"#f0f921\"]]}],\"choropleth\":[{\"type\":\"choropleth\",\"colorbar\":{\"outlinewidth\":0,\"ticks\":\"\"}}],\"histogram2d\":[{\"type\":\"histogram2d\",\"colorbar\":{\"outlinewidth\":0,\"ticks\":\"\"},\"colorscale\":[[0.0,\"#0d0887\"],[0.1111111111111111,\"#46039f\"],[0.2222222222222222,\"#7201a8\"],[0.3333333333333333,\"#9c179e\"],[0.4444444444444444,\"#bd3786\"],[0.5555555555555556,\"#d8576b\"],[0.6666666666666666,\"#ed7953\"],[0.7777777777777778,\"#fb9f3a\"],[0.8888888888888888,\"#fdca26\"],[1.0,\"#f0f921\"]]}],\"heatmap\":[{\"type\":\"heatmap\",\"colorbar\":{\"outlinewidth\":0,\"ticks\":\"\"},\"colorscale\":[[0.0,\"#0d0887\"],[0.1111111111111111,\"#46039f\"],[0.2222222222222222,\"#7201a8\"],[0.3333333333333333,\"#9c179e\"],[0.4444444444444444,\"#bd3786\"],[0.5555555555555556,\"#d8576b\"],[0.6666666666666666,\"#ed7953\"],[0.7777777777777778,\"#fb9f3a\"],[0.8888888888888888,\"#fdca26\"],[1.0,\"#f0f921\"]]}],\"heatmapgl\":[{\"type\":\"heatmapgl\",\"colorbar\":{\"outlinewidth\":0,\"ticks\":\"\"},\"colorscale\":[[0.0,\"#0d0887\"],[0.1111111111111111,\"#46039f\"],[0.2222222222222222,\"#7201a8\"],[0.3333333333333333,\"#9c179e\"],[0.4444444444444444,\"#bd3786\"],[0.5555555555555556,\"#d8576b\"],[0.6666666666666666,\"#ed7953\"],[0.7777777777777778,\"#fb9f3a\"],[0.8888888888888888,\"#fdca26\"],[1.0,\"#f0f921\"]]}],\"contourcarpet\":[{\"type\":\"contourcarpet\",\"colorbar\":{\"outlinewidth\":0,\"ticks\":\"\"}}],\"contour\":[{\"type\":\"contour\",\"colorbar\":{\"outlinewidth\":0,\"ticks\":\"\"},\"colorscale\":[[0.0,\"#0d0887\"],[0.1111111111111111,\"#46039f\"],[0.2222222222222222,\"#7201a8\"],[0.3333333333333333,\"#9c179e\"],[0.4444444444444444,\"#bd3786\"],[0.5555555555555556,\"#d8576b\"],[0.6666666666666666,\"#ed7953\"],[0.7777777777777778,\"#fb9f3a\"],[0.8888888888888888,\"#fdca26\"],[1.0,\"#f0f921\"]]}],\"surface\":[{\"type\":\"surface\",\"colorbar\":{\"outlinewidth\":0,\"ticks\":\"\"},\"colorscale\":[[0.0,\"#0d0887\"],[0.1111111111111111,\"#46039f\"],[0.2222222222222222,\"#7201a8\"],[0.3333333333333333,\"#9c179e\"],[0.4444444444444444,\"#bd3786\"],[0.5555555555555556,\"#d8576b\"],[0.6666666666666666,\"#ed7953\"],[0.7777777777777778,\"#fb9f3a\"],[0.8888888888888888,\"#fdca26\"],[1.0,\"#f0f921\"]]}],\"mesh3d\":[{\"type\":\"mesh3d\",\"colorbar\":{\"outlinewidth\":0,\"ticks\":\"\"}}],\"scatter\":[{\"fillpattern\":{\"fillmode\":\"overlay\",\"size\":10,\"solidity\":0.2},\"type\":\"scatter\"}],\"parcoords\":[{\"type\":\"parcoords\",\"line\":{\"colorbar\":{\"outlinewidth\":0,\"ticks\":\"\"}}}],\"scatterpolargl\":[{\"type\":\"scatterpolargl\",\"marker\":{\"colorbar\":{\"outlinewidth\":0,\"ticks\":\"\"}}}],\"bar\":[{\"error_x\":{\"color\":\"#2a3f5f\"},\"error_y\":{\"color\":\"#2a3f5f\"},\"marker\":{\"line\":{\"color\":\"#E5ECF6\",\"width\":0.5},\"pattern\":{\"fillmode\":\"overlay\",\"size\":10,\"solidity\":0.2}},\"type\":\"bar\"}],\"scattergeo\":[{\"type\":\"scattergeo\",\"marker\":{\"colorbar\":{\"outlinewidth\":0,\"ticks\":\"\"}}}],\"scatterpolar\":[{\"type\":\"scatterpolar\",\"marker\":{\"colorbar\":{\"outlinewidth\":0,\"ticks\":\"\"}}}],\"histogram\":[{\"marker\":{\"pattern\":{\"fillmode\":\"overlay\",\"size\":10,\"solidity\":0.2}},\"type\":\"histogram\"}],\"scattergl\":[{\"type\":\"scattergl\",\"marker\":{\"colorbar\":{\"outlinewidth\":0,\"ticks\":\"\"}}}],\"scatter3d\":[{\"type\":\"scatter3d\",\"line\":{\"colorbar\":{\"outlinewidth\":0,\"ticks\":\"\"}},\"marker\":{\"colorbar\":{\"outlinewidth\":0,\"ticks\":\"\"}}}],\"scattermapbox\":[{\"type\":\"scattermapbox\",\"marker\":{\"colorbar\":{\"outlinewidth\":0,\"ticks\":\"\"}}}],\"scatterternary\":[{\"type\":\"scatterternary\",\"marker\":{\"colorbar\":{\"outlinewidth\":0,\"ticks\":\"\"}}}],\"scattercarpet\":[{\"type\":\"scattercarpet\",\"marker\":{\"colorbar\":{\"outlinewidth\":0,\"ticks\":\"\"}}}],\"carpet\":[{\"aaxis\":{\"endlinecolor\":\"#2a3f5f\",\"gridcolor\":\"white\",\"linecolor\":\"white\",\"minorgridcolor\":\"white\",\"startlinecolor\":\"#2a3f5f\"},\"baxis\":{\"endlinecolor\":\"#2a3f5f\",\"gridcolor\":\"white\",\"linecolor\":\"white\",\"minorgridcolor\":\"white\",\"startlinecolor\":\"#2a3f5f\"},\"type\":\"carpet\"}],\"table\":[{\"cells\":{\"fill\":{\"color\":\"#EBF0F8\"},\"line\":{\"color\":\"white\"}},\"header\":{\"fill\":{\"color\":\"#C8D4E3\"},\"line\":{\"color\":\"white\"}},\"type\":\"table\"}],\"barpolar\":[{\"marker\":{\"line\":{\"color\":\"#E5ECF6\",\"width\":0.5},\"pattern\":{\"fillmode\":\"overlay\",\"size\":10,\"solidity\":0.2}},\"type\":\"barpolar\"}],\"pie\":[{\"automargin\":true,\"type\":\"pie\"}]},\"layout\":{\"autotypenumbers\":\"strict\",\"colorway\":[\"#636efa\",\"#EF553B\",\"#00cc96\",\"#ab63fa\",\"#FFA15A\",\"#19d3f3\",\"#FF6692\",\"#B6E880\",\"#FF97FF\",\"#FECB52\"],\"font\":{\"color\":\"#2a3f5f\"},\"hovermode\":\"closest\",\"hoverlabel\":{\"align\":\"left\"},\"paper_bgcolor\":\"white\",\"plot_bgcolor\":\"#E5ECF6\",\"polar\":{\"bgcolor\":\"#E5ECF6\",\"angularaxis\":{\"gridcolor\":\"white\",\"linecolor\":\"white\",\"ticks\":\"\"},\"radialaxis\":{\"gridcolor\":\"white\",\"linecolor\":\"white\",\"ticks\":\"\"}},\"ternary\":{\"bgcolor\":\"#E5ECF6\",\"aaxis\":{\"gridcolor\":\"white\",\"linecolor\":\"white\",\"ticks\":\"\"},\"baxis\":{\"gridcolor\":\"white\",\"linecolor\":\"white\",\"ticks\":\"\"},\"caxis\":{\"gridcolor\":\"white\",\"linecolor\":\"white\",\"ticks\":\"\"}},\"coloraxis\":{\"colorbar\":{\"outlinewidth\":0,\"ticks\":\"\"}},\"colorscale\":{\"sequential\":[[0.0,\"#0d0887\"],[0.1111111111111111,\"#46039f\"],[0.2222222222222222,\"#7201a8\"],[0.3333333333333333,\"#9c179e\"],[0.4444444444444444,\"#bd3786\"],[0.5555555555555556,\"#d8576b\"],[0.6666666666666666,\"#ed7953\"],[0.7777777777777778,\"#fb9f3a\"],[0.8888888888888888,\"#fdca26\"],[1.0,\"#f0f921\"]],\"sequentialminus\":[[0.0,\"#0d0887\"],[0.1111111111111111,\"#46039f\"],[0.2222222222222222,\"#7201a8\"],[0.3333333333333333,\"#9c179e\"],[0.4444444444444444,\"#bd3786\"],[0.5555555555555556,\"#d8576b\"],[0.6666666666666666,\"#ed7953\"],[0.7777777777777778,\"#fb9f3a\"],[0.8888888888888888,\"#fdca26\"],[1.0,\"#f0f921\"]],\"diverging\":[[0,\"#8e0152\"],[0.1,\"#c51b7d\"],[0.2,\"#de77ae\"],[0.3,\"#f1b6da\"],[0.4,\"#fde0ef\"],[0.5,\"#f7f7f7\"],[0.6,\"#e6f5d0\"],[0.7,\"#b8e186\"],[0.8,\"#7fbc41\"],[0.9,\"#4d9221\"],[1,\"#276419\"]]},\"xaxis\":{\"gridcolor\":\"white\",\"linecolor\":\"white\",\"ticks\":\"\",\"title\":{\"standoff\":15},\"zerolinecolor\":\"white\",\"automargin\":true,\"zerolinewidth\":2},\"yaxis\":{\"gridcolor\":\"white\",\"linecolor\":\"white\",\"ticks\":\"\",\"title\":{\"standoff\":15},\"zerolinecolor\":\"white\",\"automargin\":true,\"zerolinewidth\":2},\"scene\":{\"xaxis\":{\"backgroundcolor\":\"#E5ECF6\",\"gridcolor\":\"white\",\"linecolor\":\"white\",\"showbackground\":true,\"ticks\":\"\",\"zerolinecolor\":\"white\",\"gridwidth\":2},\"yaxis\":{\"backgroundcolor\":\"#E5ECF6\",\"gridcolor\":\"white\",\"linecolor\":\"white\",\"showbackground\":true,\"ticks\":\"\",\"zerolinecolor\":\"white\",\"gridwidth\":2},\"zaxis\":{\"backgroundcolor\":\"#E5ECF6\",\"gridcolor\":\"white\",\"linecolor\":\"white\",\"showbackground\":true,\"ticks\":\"\",\"zerolinecolor\":\"white\",\"gridwidth\":2}},\"shapedefaults\":{\"line\":{\"color\":\"#2a3f5f\"}},\"annotationdefaults\":{\"arrowcolor\":\"#2a3f5f\",\"arrowhead\":0,\"arrowwidth\":1},\"geo\":{\"bgcolor\":\"white\",\"landcolor\":\"#E5ECF6\",\"subunitcolor\":\"white\",\"showland\":true,\"showlakes\":true,\"lakecolor\":\"white\"},\"title\":{\"x\":0.05},\"mapbox\":{\"style\":\"light\"}}},\"xaxis\":{\"anchor\":\"y\",\"domain\":[0.0,1.0],\"title\":{\"text\":\"state\"}},\"yaxis\":{\"anchor\":\"x\",\"domain\":[0.0,1.0],\"title\":{\"text\":\"INR\"}},\"coloraxis\":{\"colorbar\":{\"title\":{\"text\":\"INR\"}},\"colorscale\":[[0.0,\"#0d0887\"],[0.1111111111111111,\"#46039f\"],[0.2222222222222222,\"#7201a8\"],[0.3333333333333333,\"#9c179e\"],[0.4444444444444444,\"#bd3786\"],[0.5555555555555556,\"#d8576b\"],[0.6666666666666666,\"#ed7953\"],[0.7777777777777778,\"#fb9f3a\"],[0.8888888888888888,\"#fdca26\"],[1.0,\"#f0f921\"]]},\"legend\":{\"tracegroupgap\":0},\"title\":{\"text\":\"Total Transaction Amount by State\"},\"barmode\":\"relative\"},                        {\"responsive\": true}                    ).then(function(){\n",
              "                            \n",
              "var gd = document.getElementById('0ab5166c-7033-4c94-879d-8fe56b8a4ba7');\n",
              "var x = new MutationObserver(function (mutations, observer) {{\n",
              "        var display = window.getComputedStyle(gd).display;\n",
              "        if (!display || display === 'none') {{\n",
              "            console.log([gd, 'removed!']);\n",
              "            Plotly.purge(gd);\n",
              "            observer.disconnect();\n",
              "        }}\n",
              "}});\n",
              "\n",
              "// Listen for the removal of the full notebook cells\n",
              "var notebookContainer = gd.closest('#notebook-container');\n",
              "if (notebookContainer) {{\n",
              "    x.observe(notebookContainer, {childList: true});\n",
              "}}\n",
              "\n",
              "// Listen for the clearing of the current output cell\n",
              "var outputEl = gd.closest('.output');\n",
              "if (outputEl) {{\n",
              "    x.observe(outputEl, {childList: true});\n",
              "}}\n",
              "\n",
              "                        })                };                            </script>        </div>\n",
              "</body>\n",
              "</html>"
            ]
          },
          "metadata": {}
        }
      ]
    },
    {
      "cell_type": "code",
      "metadata": {
        "colab": {
          "base_uri": "https://localhost:8080/",
          "height": 542
        },
        "id": "68449d16",
        "outputId": "01f9c95b-342c-4db2-ea6f-59677b9085e0"
      },
      "source": [
        "# 2. Quarterly Growth Over Time\n",
        "conn = sqlite3.connect(\"phonepe_data.db\")\n",
        "\n",
        "df_time = pd.read_sql_query(\"\"\"\n",
        "SELECT year, quarter, SUM(transaction_amount) AS total_amount\n",
        "FROM aggregated_transaction\n",
        "GROUP BY year, quarter\n",
        "ORDER BY year, quarter\n",
        "\"\"\", conn)\n",
        "\n",
        "df_time['quarter_label'] = df_time['year'].astype(str) + '-Q' + df_time['quarter'].astype(str)\n",
        "\n",
        "fig = px.line(df_time, x=\"quarter_label\", y=\"total_amount\",\n",
        "              title=\"Transaction Volume Over Time\", markers=True)\n",
        "fig.show()\n",
        "conn.close()"
      ],
      "execution_count": 42,
      "outputs": [
        {
          "output_type": "display_data",
          "data": {
            "text/html": [
              "<html>\n",
              "<head><meta charset=\"utf-8\" /></head>\n",
              "<body>\n",
              "    <div>            <script src=\"https://cdnjs.cloudflare.com/ajax/libs/mathjax/2.7.5/MathJax.js?config=TeX-AMS-MML_SVG\"></script><script type=\"text/javascript\">if (window.MathJax && window.MathJax.Hub && window.MathJax.Hub.Config) {window.MathJax.Hub.Config({SVG: {font: \"STIX-Web\"}});}</script>                <script type=\"text/javascript\">window.PlotlyConfig = {MathJaxConfig: 'local'};</script>\n",
              "        <script charset=\"utf-8\" src=\"https://cdn.plot.ly/plotly-2.35.2.min.js\"></script>                <div id=\"a034b8e0-867e-419b-8e76-5c973be9781f\" class=\"plotly-graph-div\" style=\"height:525px; width:100%;\"></div>            <script type=\"text/javascript\">                                    window.PLOTLYENV=window.PLOTLYENV || {};                                    if (document.getElementById(\"a034b8e0-867e-419b-8e76-5c973be9781f\")) {                    Plotly.newPlot(                        \"a034b8e0-867e-419b-8e76-5c973be9781f\",                        [{\"hovertemplate\":\"quarter_label=%{x}\\u003cbr\\u003etotal_amount=%{y}\\u003cextra\\u003e\\u003c\\u002fextra\\u003e\",\"legendgroup\":\"\",\"line\":{\"color\":\"#636efa\",\"dash\":\"solid\"},\"marker\":{\"symbol\":\"circle\"},\"mode\":\"lines+markers\",\"name\":\"\",\"orientation\":\"v\",\"showlegend\":false,\"x\":[\"2018-Q1\",\"2018-Q2\",\"2018-Q3\",\"2018-Q4\",\"2019-Q1\",\"2019-Q2\",\"2019-Q3\",\"2019-Q4\",\"2020-Q1\",\"2020-Q2\",\"2020-Q3\",\"2020-Q4\",\"2021-Q1\",\"2021-Q2\",\"2021-Q3\",\"2021-Q4\",\"2022-Q1\",\"2022-Q2\",\"2022-Q3\",\"2022-Q4\",\"2023-Q1\",\"2023-Q2\",\"2023-Q3\",\"2023-Q4\",\"2024-Q1\",\"2024-Q2\",\"2024-Q3\",\"2024-Q4\"],\"xaxis\":\"x\",\"y\":[171833431017.2779,304374211667.2506,475101505615.088,671736248114.2788,990021362110.7192,1354214037092.4795,1672558991160.4326,2259893742825.303,2697112477804.363,2646145107972.5137,3902052996364.5977,5395851395919.399,6284243458495.546,7476465966616.802,9216696087968.555,11621294174085.568,13239630479532.398,15504186488519.033,16607627424877.023,18914888517976.89,20513958015507.0,22918494291740.0,24012133575374.0,27047227516500.0,29458433889692.0,31820350925931.0,32346967630310.0,35998800884597.0],\"yaxis\":\"y\",\"type\":\"scatter\"}],                        {\"template\":{\"data\":{\"histogram2dcontour\":[{\"type\":\"histogram2dcontour\",\"colorbar\":{\"outlinewidth\":0,\"ticks\":\"\"},\"colorscale\":[[0.0,\"#0d0887\"],[0.1111111111111111,\"#46039f\"],[0.2222222222222222,\"#7201a8\"],[0.3333333333333333,\"#9c179e\"],[0.4444444444444444,\"#bd3786\"],[0.5555555555555556,\"#d8576b\"],[0.6666666666666666,\"#ed7953\"],[0.7777777777777778,\"#fb9f3a\"],[0.8888888888888888,\"#fdca26\"],[1.0,\"#f0f921\"]]}],\"choropleth\":[{\"type\":\"choropleth\",\"colorbar\":{\"outlinewidth\":0,\"ticks\":\"\"}}],\"histogram2d\":[{\"type\":\"histogram2d\",\"colorbar\":{\"outlinewidth\":0,\"ticks\":\"\"},\"colorscale\":[[0.0,\"#0d0887\"],[0.1111111111111111,\"#46039f\"],[0.2222222222222222,\"#7201a8\"],[0.3333333333333333,\"#9c179e\"],[0.4444444444444444,\"#bd3786\"],[0.5555555555555556,\"#d8576b\"],[0.6666666666666666,\"#ed7953\"],[0.7777777777777778,\"#fb9f3a\"],[0.8888888888888888,\"#fdca26\"],[1.0,\"#f0f921\"]]}],\"heatmap\":[{\"type\":\"heatmap\",\"colorbar\":{\"outlinewidth\":0,\"ticks\":\"\"},\"colorscale\":[[0.0,\"#0d0887\"],[0.1111111111111111,\"#46039f\"],[0.2222222222222222,\"#7201a8\"],[0.3333333333333333,\"#9c179e\"],[0.4444444444444444,\"#bd3786\"],[0.5555555555555556,\"#d8576b\"],[0.6666666666666666,\"#ed7953\"],[0.7777777777777778,\"#fb9f3a\"],[0.8888888888888888,\"#fdca26\"],[1.0,\"#f0f921\"]]}],\"heatmapgl\":[{\"type\":\"heatmapgl\",\"colorbar\":{\"outlinewidth\":0,\"ticks\":\"\"},\"colorscale\":[[0.0,\"#0d0887\"],[0.1111111111111111,\"#46039f\"],[0.2222222222222222,\"#7201a8\"],[0.3333333333333333,\"#9c179e\"],[0.4444444444444444,\"#bd3786\"],[0.5555555555555556,\"#d8576b\"],[0.6666666666666666,\"#ed7953\"],[0.7777777777777778,\"#fb9f3a\"],[0.8888888888888888,\"#fdca26\"],[1.0,\"#f0f921\"]]}],\"contourcarpet\":[{\"type\":\"contourcarpet\",\"colorbar\":{\"outlinewidth\":0,\"ticks\":\"\"}}],\"contour\":[{\"type\":\"contour\",\"colorbar\":{\"outlinewidth\":0,\"ticks\":\"\"},\"colorscale\":[[0.0,\"#0d0887\"],[0.1111111111111111,\"#46039f\"],[0.2222222222222222,\"#7201a8\"],[0.3333333333333333,\"#9c179e\"],[0.4444444444444444,\"#bd3786\"],[0.5555555555555556,\"#d8576b\"],[0.6666666666666666,\"#ed7953\"],[0.7777777777777778,\"#fb9f3a\"],[0.8888888888888888,\"#fdca26\"],[1.0,\"#f0f921\"]]}],\"surface\":[{\"type\":\"surface\",\"colorbar\":{\"outlinewidth\":0,\"ticks\":\"\"},\"colorscale\":[[0.0,\"#0d0887\"],[0.1111111111111111,\"#46039f\"],[0.2222222222222222,\"#7201a8\"],[0.3333333333333333,\"#9c179e\"],[0.4444444444444444,\"#bd3786\"],[0.5555555555555556,\"#d8576b\"],[0.6666666666666666,\"#ed7953\"],[0.7777777777777778,\"#fb9f3a\"],[0.8888888888888888,\"#fdca26\"],[1.0,\"#f0f921\"]]}],\"mesh3d\":[{\"type\":\"mesh3d\",\"colorbar\":{\"outlinewidth\":0,\"ticks\":\"\"}}],\"scatter\":[{\"fillpattern\":{\"fillmode\":\"overlay\",\"size\":10,\"solidity\":0.2},\"type\":\"scatter\"}],\"parcoords\":[{\"type\":\"parcoords\",\"line\":{\"colorbar\":{\"outlinewidth\":0,\"ticks\":\"\"}}}],\"scatterpolargl\":[{\"type\":\"scatterpolargl\",\"marker\":{\"colorbar\":{\"outlinewidth\":0,\"ticks\":\"\"}}}],\"bar\":[{\"error_x\":{\"color\":\"#2a3f5f\"},\"error_y\":{\"color\":\"#2a3f5f\"},\"marker\":{\"line\":{\"color\":\"#E5ECF6\",\"width\":0.5},\"pattern\":{\"fillmode\":\"overlay\",\"size\":10,\"solidity\":0.2}},\"type\":\"bar\"}],\"scattergeo\":[{\"type\":\"scattergeo\",\"marker\":{\"colorbar\":{\"outlinewidth\":0,\"ticks\":\"\"}}}],\"scatterpolar\":[{\"type\":\"scatterpolar\",\"marker\":{\"colorbar\":{\"outlinewidth\":0,\"ticks\":\"\"}}}],\"histogram\":[{\"marker\":{\"pattern\":{\"fillmode\":\"overlay\",\"size\":10,\"solidity\":0.2}},\"type\":\"histogram\"}],\"scattergl\":[{\"type\":\"scattergl\",\"marker\":{\"colorbar\":{\"outlinewidth\":0,\"ticks\":\"\"}}}],\"scatter3d\":[{\"type\":\"scatter3d\",\"line\":{\"colorbar\":{\"outlinewidth\":0,\"ticks\":\"\"}},\"marker\":{\"colorbar\":{\"outlinewidth\":0,\"ticks\":\"\"}}}],\"scattermapbox\":[{\"type\":\"scattermapbox\",\"marker\":{\"colorbar\":{\"outlinewidth\":0,\"ticks\":\"\"}}}],\"scatterternary\":[{\"type\":\"scatterternary\",\"marker\":{\"colorbar\":{\"outlinewidth\":0,\"ticks\":\"\"}}}],\"scattercarpet\":[{\"type\":\"scattercarpet\",\"marker\":{\"colorbar\":{\"outlinewidth\":0,\"ticks\":\"\"}}}],\"carpet\":[{\"aaxis\":{\"endlinecolor\":\"#2a3f5f\",\"gridcolor\":\"white\",\"linecolor\":\"white\",\"minorgridcolor\":\"white\",\"startlinecolor\":\"#2a3f5f\"},\"baxis\":{\"endlinecolor\":\"#2a3f5f\",\"gridcolor\":\"white\",\"linecolor\":\"white\",\"minorgridcolor\":\"white\",\"startlinecolor\":\"#2a3f5f\"},\"type\":\"carpet\"}],\"table\":[{\"cells\":{\"fill\":{\"color\":\"#EBF0F8\"},\"line\":{\"color\":\"white\"}},\"header\":{\"fill\":{\"color\":\"#C8D4E3\"},\"line\":{\"color\":\"white\"}},\"type\":\"table\"}],\"barpolar\":[{\"marker\":{\"line\":{\"color\":\"#E5ECF6\",\"width\":0.5},\"pattern\":{\"fillmode\":\"overlay\",\"size\":10,\"solidity\":0.2}},\"type\":\"barpolar\"}],\"pie\":[{\"automargin\":true,\"type\":\"pie\"}]},\"layout\":{\"autotypenumbers\":\"strict\",\"colorway\":[\"#636efa\",\"#EF553B\",\"#00cc96\",\"#ab63fa\",\"#FFA15A\",\"#19d3f3\",\"#FF6692\",\"#B6E880\",\"#FF97FF\",\"#FECB52\"],\"font\":{\"color\":\"#2a3f5f\"},\"hovermode\":\"closest\",\"hoverlabel\":{\"align\":\"left\"},\"paper_bgcolor\":\"white\",\"plot_bgcolor\":\"#E5ECF6\",\"polar\":{\"bgcolor\":\"#E5ECF6\",\"angularaxis\":{\"gridcolor\":\"white\",\"linecolor\":\"white\",\"ticks\":\"\"},\"radialaxis\":{\"gridcolor\":\"white\",\"linecolor\":\"white\",\"ticks\":\"\"}},\"ternary\":{\"bgcolor\":\"#E5ECF6\",\"aaxis\":{\"gridcolor\":\"white\",\"linecolor\":\"white\",\"ticks\":\"\"},\"baxis\":{\"gridcolor\":\"white\",\"linecolor\":\"white\",\"ticks\":\"\"},\"caxis\":{\"gridcolor\":\"white\",\"linecolor\":\"white\",\"ticks\":\"\"}},\"coloraxis\":{\"colorbar\":{\"outlinewidth\":0,\"ticks\":\"\"}},\"colorscale\":{\"sequential\":[[0.0,\"#0d0887\"],[0.1111111111111111,\"#46039f\"],[0.2222222222222222,\"#7201a8\"],[0.3333333333333333,\"#9c179e\"],[0.4444444444444444,\"#bd3786\"],[0.5555555555555556,\"#d8576b\"],[0.6666666666666666,\"#ed7953\"],[0.7777777777777778,\"#fb9f3a\"],[0.8888888888888888,\"#fdca26\"],[1.0,\"#f0f921\"]],\"sequentialminus\":[[0.0,\"#0d0887\"],[0.1111111111111111,\"#46039f\"],[0.2222222222222222,\"#7201a8\"],[0.3333333333333333,\"#9c179e\"],[0.4444444444444444,\"#bd3786\"],[0.5555555555555556,\"#d8576b\"],[0.6666666666666666,\"#ed7953\"],[0.7777777777777778,\"#fb9f3a\"],[0.8888888888888888,\"#fdca26\"],[1.0,\"#f0f921\"]],\"diverging\":[[0,\"#8e0152\"],[0.1,\"#c51b7d\"],[0.2,\"#de77ae\"],[0.3,\"#f1b6da\"],[0.4,\"#fde0ef\"],[0.5,\"#f7f7f7\"],[0.6,\"#e6f5d0\"],[0.7,\"#b8e186\"],[0.8,\"#7fbc41\"],[0.9,\"#4d9221\"],[1,\"#276419\"]]},\"xaxis\":{\"gridcolor\":\"white\",\"linecolor\":\"white\",\"ticks\":\"\",\"title\":{\"standoff\":15},\"zerolinecolor\":\"white\",\"automargin\":true,\"zerolinewidth\":2},\"yaxis\":{\"gridcolor\":\"white\",\"linecolor\":\"white\",\"ticks\":\"\",\"title\":{\"standoff\":15},\"zerolinecolor\":\"white\",\"automargin\":true,\"zerolinewidth\":2},\"scene\":{\"xaxis\":{\"backgroundcolor\":\"#E5ECF6\",\"gridcolor\":\"white\",\"linecolor\":\"white\",\"showbackground\":true,\"ticks\":\"\",\"zerolinecolor\":\"white\",\"gridwidth\":2},\"yaxis\":{\"backgroundcolor\":\"#E5ECF6\",\"gridcolor\":\"white\",\"linecolor\":\"white\",\"showbackground\":true,\"ticks\":\"\",\"zerolinecolor\":\"white\",\"gridwidth\":2},\"zaxis\":{\"backgroundcolor\":\"#E5ECF6\",\"gridcolor\":\"white\",\"linecolor\":\"white\",\"showbackground\":true,\"ticks\":\"\",\"zerolinecolor\":\"white\",\"gridwidth\":2}},\"shapedefaults\":{\"line\":{\"color\":\"#2a3f5f\"}},\"annotationdefaults\":{\"arrowcolor\":\"#2a3f5f\",\"arrowhead\":0,\"arrowwidth\":1},\"geo\":{\"bgcolor\":\"white\",\"landcolor\":\"#E5ECF6\",\"subunitcolor\":\"white\",\"showland\":true,\"showlakes\":true,\"lakecolor\":\"white\"},\"title\":{\"x\":0.05},\"mapbox\":{\"style\":\"light\"}}},\"xaxis\":{\"anchor\":\"y\",\"domain\":[0.0,1.0],\"title\":{\"text\":\"quarter_label\"}},\"yaxis\":{\"anchor\":\"x\",\"domain\":[0.0,1.0],\"title\":{\"text\":\"total_amount\"}},\"legend\":{\"tracegroupgap\":0},\"title\":{\"text\":\"Transaction Volume Over Time\"}},                        {\"responsive\": true}                    ).then(function(){\n",
              "                            \n",
              "var gd = document.getElementById('a034b8e0-867e-419b-8e76-5c973be9781f');\n",
              "var x = new MutationObserver(function (mutations, observer) {{\n",
              "        var display = window.getComputedStyle(gd).display;\n",
              "        if (!display || display === 'none') {{\n",
              "            console.log([gd, 'removed!']);\n",
              "            Plotly.purge(gd);\n",
              "            observer.disconnect();\n",
              "        }}\n",
              "}});\n",
              "\n",
              "// Listen for the removal of the full notebook cells\n",
              "var notebookContainer = gd.closest('#notebook-container');\n",
              "if (notebookContainer) {{\n",
              "    x.observe(notebookContainer, {childList: true});\n",
              "}}\n",
              "\n",
              "// Listen for the clearing of the current output cell\n",
              "var outputEl = gd.closest('.output');\n",
              "if (outputEl) {{\n",
              "    x.observe(outputEl, {childList: true});\n",
              "}}\n",
              "\n",
              "                        })                };                            </script>        </div>\n",
              "</body>\n",
              "</html>"
            ]
          },
          "metadata": {}
        }
      ]
    },
    {
      "cell_type": "code",
      "metadata": {
        "colab": {
          "base_uri": "https://localhost:8080/"
        },
        "id": "2d737545",
        "outputId": "6e16d8bb-ac7d-434e-e091-ffd2e9f37fa9"
      },
      "source": [
        "import os\n",
        "import json\n",
        "import pandas as pd\n",
        "\n",
        "def extract_aggregated_user_json_to_csv(json_folder_path, output_csv_path):\n",
        "    user_data = []\n",
        "    for state in os.listdir(json_folder_path):\n",
        "        state_path = os.path.join(json_folder_path, state)\n",
        "        if os.path.isdir(state_path):\n",
        "            for year in os.listdir(state_path):\n",
        "                year_path = os.path.join(state_path, year)\n",
        "                if os.path.isdir(year_path):\n",
        "                    for quarter_file in os.listdir(year_path):\n",
        "                        file_path = os.path.join(year_path, quarter_file)\n",
        "                        if quarter_file.endswith(\".json\"):\n",
        "                            with open(file_path, 'r') as f:\n",
        "                                content = json.load(f)\n",
        "                                users = content.get('data', {}).get('usersByDevice', [])\n",
        "                                if users:  # Check if users is not None and not empty\n",
        "                                    for user in users:\n",
        "                                        user_data.append({\n",
        "                                            'state': state,\n",
        "                                            'year': int(year),\n",
        "                                            'quarter': int(quarter_file.strip('.json')),\n",
        "                                            'device_brand': user.get('brand'),\n",
        "                                            'user_count': user.get('count'),\n",
        "                                            'percentage': user.get('percentage')\n",
        "                                        })\n",
        "    df_user = pd.DataFrame(user_data)\n",
        "    df_user.to_csv(output_csv_path, index=False)\n",
        "    print(\"✅ Extracted and saved aggregated user data to:\", output_csv_path)\n",
        "\n",
        "# Paths\n",
        "json_path = \"/content/pulse/data/aggregated/user/country/india/state/\"\n",
        "output_csv = \"extracted_csvs/aggregated_user.csv\"\n",
        "\n",
        "# Ensure output folder exists\n",
        "os.makedirs(os.path.dirname(output_csv), exist_ok=True)\n",
        "\n",
        "# Extract aggregated user data\n",
        "extract_aggregated_user_json_to_csv(json_path, output_csv)"
      ],
      "execution_count": 48,
      "outputs": [
        {
          "output_type": "stream",
          "name": "stdout",
          "text": [
            "✅ Extracted and saved aggregated user data to: extracted_csvs/aggregated_user.csv\n"
          ]
        }
      ]
    },
    {
      "cell_type": "code",
      "source": [],
      "metadata": {
        "id": "rnz6N3ai_3W-"
      },
      "execution_count": null,
      "outputs": []
    }
  ],
  "metadata": {
    "colab": {
      "provenance": [],
      "authorship_tag": "ABX9TyN4JQ8rZcGSDUbDTjpwAh4+",
      "include_colab_link": true
    },
    "kernelspec": {
      "display_name": "Python 3",
      "name": "python3"
    },
    "language_info": {
      "name": "python"
    }
  },
  "nbformat": 4,
  "nbformat_minor": 0
}